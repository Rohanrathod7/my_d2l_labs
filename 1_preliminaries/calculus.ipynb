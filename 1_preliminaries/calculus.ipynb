{
  "cells": [
    {
      "cell_type": "markdown",
      "id": "dd9d27db",
      "metadata": {
        "id": "dd9d27db"
      },
      "source": [
        "The following additional libraries are needed to run this\n",
        "notebook. Note that running on Colab is experimental, please report a Github\n",
        "issue if you have any problem."
      ]
    },
    {
      "cell_type": "code",
      "execution_count": 3,
      "id": "fb87274e",
      "metadata": {
        "colab": {
          "base_uri": "https://localhost:8080/"
        },
        "id": "fb87274e",
        "outputId": "c7b0bbd0-23ba-41c3-a935-ea9b75d6ea6a"
      },
      "outputs": [
        {
          "output_type": "stream",
          "name": "stdout",
          "text": [
            "Collecting d2l==1.0.3\n",
            "  Using cached d2l-1.0.3-py3-none-any.whl.metadata (556 bytes)\n",
            "Downloading d2l-1.0.3-py3-none-any.whl (111 kB)\n",
            "\u001b[?25l   \u001b[90m━━━━━━━━━━━━━━━━━━━━━━━━━━━━━━━━━━━━━━━━\u001b[0m \u001b[32m0.0/111.7 kB\u001b[0m \u001b[31m?\u001b[0m eta \u001b[36m-:--:--\u001b[0m\r\u001b[2K   \u001b[90m━━━━━━━━━━━━━━━━━━━━━━━━━━━━━━━━━━━━━━━━\u001b[0m \u001b[32m111.7/111.7 kB\u001b[0m \u001b[31m4.5 MB/s\u001b[0m eta \u001b[36m0:00:00\u001b[0m\n",
            "\u001b[?25hInstalling collected packages: d2l\n",
            "Successfully installed d2l-1.0.3\n",
            "Collecting jupyter\n",
            "  Downloading jupyter-1.1.1-py2.py3-none-any.whl.metadata (2.0 kB)\n",
            "Collecting numpy==1.23.5\n",
            "  Using cached numpy-1.23.5.tar.gz (10.7 MB)\n",
            "  Installing build dependencies ... \u001b[?25l\u001b[?25hdone\n",
            "  \u001b[1;31merror\u001b[0m: \u001b[1msubprocess-exited-with-error\u001b[0m\n",
            "  \n",
            "  \u001b[31m×\u001b[0m \u001b[32mGetting requirements to build wheel\u001b[0m did not run successfully.\n",
            "  \u001b[31m│\u001b[0m exit code: \u001b[1;36m1\u001b[0m\n",
            "  \u001b[31m╰─>\u001b[0m See above for output.\n",
            "  \n",
            "  \u001b[1;35mnote\u001b[0m: This error originates from a subprocess, and is likely not a problem with pip.\n",
            "  Getting requirements to build wheel ... \u001b[?25l\u001b[?25herror\n",
            "\u001b[1;31merror\u001b[0m: \u001b[1msubprocess-exited-with-error\u001b[0m\n",
            "\n",
            "\u001b[31m×\u001b[0m \u001b[32mGetting requirements to build wheel\u001b[0m did not run successfully.\n",
            "\u001b[31m│\u001b[0m exit code: \u001b[1;36m1\u001b[0m\n",
            "\u001b[31m╰─>\u001b[0m See above for output.\n",
            "\n",
            "\u001b[1;35mnote\u001b[0m: This error originates from a subprocess, and is likely not a problem with pip.\n"
          ]
        }
      ],
      "source": [
        "!pip install d2l==1.0.3 --no-deps\n",
        "!pip install jupyter numpy==1.23.5"
      ]
    },
    {
      "cell_type": "markdown",
      "id": "fb1c337f",
      "metadata": {
        "origin_pos": 1,
        "id": "fb1c337f"
      },
      "source": [
        "# Calculus\n",
        ":label:`sec_calculus`\n",
        "\n",
        "For a long time, how to calculate\n",
        "the area of a circle remained a mystery.\n",
        "Then, in Ancient Greece, the mathematician Archimedes\n",
        "came up with the clever idea\n",
        "to inscribe a series of polygons\n",
        "with increasing numbers of vertices\n",
        "on the inside of a circle\n",
        "(:numref:`fig_circle_area`).\n",
        "For a polygon with $n$ vertices,\n",
        "we obtain $n$ triangles.\n",
        "The height of each triangle approaches the radius $r$\n",
        "as we partition the circle more finely.\n",
        "At the same time, its base approaches $2 \\pi r/n$,\n",
        "since the ratio between arc and secant approaches 1\n",
        "for a large number of vertices.\n",
        "Thus, the area of the polygon approaches\n",
        "$n \\cdot r \\cdot \\frac{1}{2} (2 \\pi r/n) = \\pi r^2$.\n",
        "\n",
        "![Finding the area of a circle as a limit procedure.](https://github.com/d2l-ai/d2l-pytorch-colab/blob/master/img/polygon-circle.svg?raw=1)\n",
        ":label:`fig_circle_area`\n",
        "\n",
        "This limiting procedure is at the root of both\n",
        "*differential calculus* and *integral calculus*.\n",
        "The former can tell us how to increase\n",
        "or decrease a function's value by\n",
        "manipulating its arguments.\n",
        "This comes in handy for the *optimization problems*\n",
        "that we face in deep learning,\n",
        "where we repeatedly update our parameters\n",
        "in order to decrease the loss function.\n",
        "Optimization addresses how to fit our models to training data,\n",
        "and calculus is its key prerequisite.\n",
        "However, do not forget that our ultimate goal\n",
        "is to perform well on *previously unseen* data.\n",
        "That problem is called *generalization*\n",
        "and will be a key focus of other chapters.\n"
      ]
    },
    {
      "cell_type": "markdown",
      "metadata": {
        "id": "50359b72"
      },
      "source": [
        "# 📘 The Limit Procedure in Calculus\n",
        "\n",
        "---\n",
        "\n",
        "## 🧠 What is a “Limit”?\n",
        "\n",
        "A **limit** describes what a function’s value **approaches** as the input gets **closer and closer** to some number.\n",
        "\n",
        "> Think of it as: “What is the function trying to reach, even if it never actually gets there?”\n",
        "\n",
        "---\n",
        "\n",
        "### 🧩 Example 1: Simple Function\n",
        "\n",
        "\\[\n",
        "f(x) = 2x\n",
        "\\]\n",
        "\n",
        "If we ask:\n",
        "\n",
        "\\[\n",
        "\\lim_{x \\to 3} f(x)\n",
        "\\]\n",
        "\n",
        "It means:  \n",
        "“What value does `f(x)` approach when `x` gets closer and closer to 3?”\n",
        "\n",
        "\\[\n",
        "f(3) = 2(3) = 6\n",
        "\\]\n",
        "\n",
        "✅ Therefore,\n",
        "\n",
        "\\[\n",
        "\\lim_{x \\to 3} 2x = 6\n",
        "\\]\n",
        "\n",
        "---\n",
        "\n",
        "### ⚙️ Example 2: Function with an Undefined Point\n",
        "\n",
        "\\[\n",
        "f(x) = \\frac{x^2 - 1}{x - 1}\n",
        "\\]\n",
        "\n",
        "If we plug in `x = 1`:\n",
        "\n",
        "\\[\n",
        "f(1) = \\frac{1^2 - 1}{1 - 1} = \\frac{0}{0}\n",
        "\\]\n",
        "\n",
        "⚠️ This is **undefined**.\n",
        "\n",
        "But we can still find what happens *as `x` gets close to 1*.\n",
        "\n",
        "Simplify the function:\n",
        "\n",
        "\\[\n",
        "f(x) = \\frac{(x - 1)(x + 1)}{x - 1}\n",
        "\\]\n",
        "\n",
        "Cancel out `(x - 1)` (for `x ≠ 1`):\n",
        "\n",
        "\\[\n",
        "f(x) = x + 1\n",
        "\\]\n",
        "\n",
        "Now take the limit:\n",
        "\n",
        "\\[\n",
        "\\lim_{x \\to 1} f(x) = 1 + 1 = 2\n",
        "\\]\n",
        "\n",
        "✅ So even though `f(1)` doesn’t exist,\n",
        "\n",
        "\\[\n",
        "\\lim_{x \\to 1} f(x) = 2\n",
        "\\]\n",
        "\n",
        "This is the **limit procedure** — finding what the function *approaches*, not necessarily what it *equals*.\n",
        "\n",
        "---\n",
        "\n",
        "## 🧩 Why Is This Important?\n",
        "\n",
        "Because **calculus** is all about **change**, and change involves *approaching* values infinitely close to each other.\n",
        "\n",
        "---\n",
        "\n",
        "### 🧮 Derivatives (Instantaneous Rate of Change)\n",
        "\n",
        "\\[\n",
        "f'(x) = \\lim_{h \\to 0} \\frac{f(x + h) - f(x)}{h}\n",
        "\\]\n",
        "\n",
        "This tells us the **slope** of the function at a single point — as the difference between points (`h`) becomes *infinitely small*.\n",
        "\n",
        "---\n",
        "\n",
        "### 📈 Integrals (Area Under a Curve)\n",
        "\n",
        "Integrals **add up infinitely many tiny pieces** (like rectangles) to find total area — again using limits.\n",
        "\n",
        "---\n",
        "\n",
        "## 🪜 Intuitive Summary\n",
        "\n",
        "| Concept | Meaning |\n",
        "|----------|----------|\n",
        "| **Limit** | What a function approaches as input gets close to a certain value |\n",
        "| **Purpose** | Handles “infinitely small” or “infinitely close” changes |\n",
        "| **In Derivatives** | Measures instantaneous rate of change |\n",
        "| **In Integrals** | Adds up infinitely small pieces to find total area |\n",
        "| **In Continuity** | Ensures no sudden jumps or holes in the function |\n",
        "\n",
        "---\n",
        "\n",
        "## ✅ In Short\n",
        "\n",
        "> The **limit procedure** is the process of finding what value a function is getting close to — even if it never reaches it — and it forms the **foundation of calculus**.\n",
        "\n",
        "\n",
        "A \"limit procedure\" is a way to figure out what a function or value is heading towards as you get closer and closer to a specific point or value, without actually reaching it. Think of it like this: if you're trying to measure the area of a circle, you can draw shapes inside it that get closer and closer to filling the circle perfectly (like drawing polygons with more and more sides). As the number of sides on your polygon increases, its area gets closer and closer to the circle's area. The \"limit\" is that final, perfect value that the polygon's area is approaching – the true area of the circle. This idea of getting infinitely close to something is what a limit procedure is all about."
      ],
      "id": "50359b72"
    },
    {
      "cell_type": "markdown",
      "source": [
        "# 📘 2.4.1 Derivatives and Differentiation\n",
        "\n",
        "---\n",
        "\n",
        "## 🧠 What is a Derivative?\n",
        "\n",
        "A **derivative** measures **how much a function changes** when its input changes.\n",
        "\n",
        "> In simple terms: it’s the **rate of change** of a function.\n",
        "\n",
        "If you slightly change the input `x`, how much does the output `f(x)` change?\n",
        "\n",
        "---\n",
        "\n",
        "### 🧩 Example Intuition\n",
        "\n",
        "Think of driving a car 🚗:\n",
        "- Your **position** changes over time → that’s `f(x)`.\n",
        "- Your **speed** (how fast your position changes) → that’s the **derivative** `f'(x)`.\n",
        "\n",
        "So the derivative tells us **how rapidly something changes** with respect to something else.\n",
        "\n",
        "---\n",
        "\n",
        "## 🧮 Formal Definition\n",
        "\n",
        "For a function \\( f(x) \\) that maps from **a scalar to a scalar**, the derivative of \\( f \\) at a point \\( x \\) is defined as:\n",
        "\n",
        "\\[\n",
        "f'(x) = \\lim_{h \\to 0} \\frac{f(x + h) - f(x)}{h}\n",
        "\\]\n",
        "\n",
        "---\n",
        "\n",
        "### ⚙️ Understanding the Formula\n",
        "\n",
        "- \\( h \\) → a tiny change (perturbation) in `x`  \n",
        "- \\( f(x + h) - f(x) \\) → the resulting change in the function’s output  \n",
        "- The **ratio** \\(\\frac{f(x + h) - f(x)}{h}\\) → tells how steep the change is  \n",
        "- The **limit** \\(\\lim_{h \\to 0}\\) → asks what happens as the change in input becomes *infinitely small*\n",
        "\n",
        "✅ This gives the **instantaneous rate of change** of the function at that point.\n",
        "\n",
        "---\n",
        "\n",
        "## 🧩 When Does the Derivative Exist?\n",
        "\n",
        "When this limit exists for a particular point \\( x \\):\n",
        "- The function is said to be **differentiable at that point.**\n",
        "\n",
        "If it exists **for every point** on an interval (e.g., `[a, b]`):\n",
        "- The function is **differentiable on that interval.**\n",
        "\n",
        "---\n",
        "\n",
        "### ⚠️ Not All Functions Are Differentiable\n",
        "\n",
        "Some functions have **sharp corners** or **discontinuities** (jumps), which make the derivative undefined.\n",
        "\n",
        "Even some performance measures we care about in machine learning — like **accuracy** or **AUC (Area Under Curve)** — are **not differentiable**.\n",
        "\n",
        "---\n",
        "\n",
        "### 💡 Why Derivatives Matter in Deep Learning\n",
        "\n",
        "When training a neural network, we want to **minimize the loss function**.\n",
        "\n",
        "The **derivative (gradient)** tells us:\n",
        "- How rapidly the loss increases or decreases,\n",
        "- And **which direction** (positive or negative) to adjust the parameters (weights).\n",
        "\n",
        "Because computing derivatives is essential for optimization, we often use **differentiable surrogate loss functions** that are smooth and easy to compute gradients for (like cross-entropy or MSE).\n",
        "\n",
        "---\n",
        "\n",
        "## 🧮 Example for Intuition\n",
        "\n",
        "Let’s define:\n",
        "\\[\n",
        "f(x) = x^2\n",
        "\\]\n",
        "\n",
        "Compute its derivative step by step:\n",
        "\n",
        "\\[\n",
        "f'(x) = \\lim_{h \\to 0} \\frac{(x + h)^2 - x^2}{h}\n",
        "\\]\n",
        "\n",
        "Expand:\n",
        "\\[\n",
        "= \\lim_{h \\to 0} \\frac{x^2 + 2xh + h^2 - x^2}{h}\n",
        "\\]\n",
        "\n",
        "Simplify:\n",
        "\\[\n",
        "= \\lim_{h \\to 0} \\frac{2xh + h^2}{h} = \\lim_{h \\to 0} (2x + h)\n",
        "\\]\n",
        "\n",
        "As \\( h \\to 0 \\):\n",
        "\\[\n",
        "f'(x) = 2x\n",
        "\\]\n",
        "\n",
        "✅ So the **derivative of \\( f(x) = x^2 \\)** is **\\( f'(x) = 2x \\)**.\n",
        "\n",
        "This tells us:\n",
        "- The slope increases as `x` increases.\n",
        "- The function gets steeper as you move away from 0.\n",
        "\n",
        "---\n",
        "\n",
        "## 🧭 Summary\n",
        "\n",
        "| Concept | Meaning |\n",
        "|----------|----------|\n",
        "| **Derivative** | The rate of change of a function |\n",
        "| **Formula** | \\( f'(x) = \\lim_{h \\to 0} \\frac{f(x + h) - f(x)}{h} \\) |\n",
        "| **Interpretation** | Instantaneous rate of change or slope |\n",
        "| **Differentiable** | When the derivative exists at a point |\n",
        "| **In Deep Learning** | Tells how changing each weight affects the loss |\n",
        "| **Example** | \\( f(x) = x^2 \\Rightarrow f'(x) = 2x \\) |\n",
        "\n",
        "---\n",
        "\n",
        "## ✅ In Short\n",
        "\n",
        "> The **derivative** measures how fast a function changes at any point.\n",
        ">  \n",
        "> In machine learning, it’s the mathematical tool that guides how we update weights to reduce loss.\n",
        "\n"
      ],
      "metadata": {
        "id": "vJw7nwYz5dy9"
      },
      "id": "vJw7nwYz5dy9"
    },
    {
      "cell_type": "markdown",
      "source": [
        "# 🌍 How Calculus Makes Sense in Real-World Applications\n",
        "\n",
        "---\n",
        "\n",
        "## 🧠 What is Calculus Really About?\n",
        "\n",
        "Calculus is the **mathematics of change** and **accumulation**.\n",
        "\n",
        "It helps us answer two big questions:\n",
        "\n",
        "1. **How fast is something changing?** → *Derivatives (rates of change)*\n",
        "2. **How much has something accumulated?** → *Integrals (total accumulation)*\n",
        "\n",
        "These two ideas — **change** and **accumulation** — are everywhere in real life.\n",
        "\n",
        "---\n",
        "\n",
        "## ⚙️ 1. Derivatives — Understanding Change\n",
        "\n",
        "A **derivative** measures how one quantity changes in response to another.\n",
        "\n",
        "### 🏎️ Example: Speed and Motion\n",
        "- You drive 100 km in 2 hours.  \n",
        "- Average speed = 50 km/h.  \n",
        "- But your **instantaneous speed** (at a specific second) keeps changing.\n",
        "- The **derivative of position with respect to time** gives your *speed.*\n",
        "\n",
        "\\[\n",
        "v(t) = \\frac{ds}{dt}\n",
        "\\]\n",
        "\n",
        "If we differentiate again:\n",
        "\\[\n",
        "a(t) = \\frac{dv}{dt}\n",
        "\\]\n",
        "That’s **acceleration** — how quickly your speed changes.\n",
        "\n",
        "---\n",
        "\n",
        "### 💹 Example: Business & Economics\n",
        "In business, calculus helps answer:\n",
        "> \"If I increase the price slightly, how will revenue or profit change?\"\n",
        "\n",
        "- \\( R(p) \\): revenue as a function of price  \n",
        "- Derivative \\( R'(p) \\): tells whether revenue increases or decreases as price changes  \n",
        "\n",
        "✅ Businesses use this to **find optimal prices** that maximize profit.\n",
        "\n",
        "---\n",
        "\n",
        "### 🧬 Example: Biology & Medicine\n",
        "- Derivatives describe **growth rates** of bacteria, cells, or populations.  \n",
        "- For example, \\( P'(t) \\): rate at which a population changes over time.  \n",
        "- In medicine, they help model **drug concentration decay** in the bloodstream.\n",
        "\n",
        "---\n",
        "\n",
        "### 🔋 Example: Machine Learning & AI\n",
        "In training neural networks:\n",
        "- The **loss function** changes as model parameters (weights) change.  \n",
        "- Calculus helps find the direction & rate of change (via **gradients**).  \n",
        "- Then we move weights *slightly downhill* to minimize error.  \n",
        "\n",
        "This is called **gradient descent**, and it’s powered entirely by calculus.\n",
        "\n",
        "---\n",
        "\n",
        "## 🧮 2. Integrals — Understanding Accumulation\n",
        "\n",
        "An **integral** measures total accumulation of small quantities.\n",
        "\n",
        "### 🌊 Example: Distance from Speed\n",
        "If you know your speed at every second \\( v(t) \\),\n",
        "you can find **total distance traveled** by integrating:\n",
        "\n",
        "\\[\n",
        "s = \\int v(t) \\, dt\n",
        "\\]\n",
        "\n",
        "It’s like **adding up infinitely many tiny distances**.\n",
        "\n",
        "---\n",
        "\n",
        "### 💰 Example: Economics & Finance\n",
        "- Integrate cash flow to find **total revenue** over time.\n",
        "- Compute **consumer surplus** or **investment growth** using area under curves.\n",
        "\n",
        "---\n",
        "\n",
        "### ⚡ Example: Engineering & Physics\n",
        "- Integrals calculate **area, volume, work, energy, charge**, etc.\n",
        "- Derivatives describe **motion, heat, electricity, pressure**, and more.\n",
        "\n",
        "For instance:\n",
        "\\[\n",
        "F = m \\cdot a \\quad \\text{and} \\quad a = \\frac{dv}{dt}\n",
        "\\]\n",
        "\n",
        "By integrating acceleration, you get velocity.  \n",
        "By integrating velocity, you get position.\n",
        "\n",
        "---\n",
        "\n",
        "## 🧩 3. Why It All Makes Sense\n",
        "\n",
        "| Concept | What It Means | Real-World Role |\n",
        "|----------|----------------|----------------|\n",
        "| **Derivative** | Rate of change | Measures how things evolve instantly |\n",
        "| **Integral** | Total accumulation | Adds up continuous quantities |\n",
        "| **Limit** | Infinitely small steps | Bridges discrete → continuous change |\n",
        "| **Optimization** | Finding max/min | Used in ML, finance, logistics, design |\n",
        "\n",
        "---\n",
        "\n",
        "## 🧭 4. Intuitive Analogy\n",
        "\n",
        "Imagine a roller coaster 🎢:\n",
        "\n",
        "- The **slope** at each point → derivative → tells how steep (fast) it’s going.  \n",
        "- The **total track length** → integral → adds up all small path pieces.\n",
        "\n",
        "Together, calculus helps us **describe and predict continuous behavior** — in physics, biology, economics, AI, and even art or music!\n",
        "\n",
        "---\n",
        "\n",
        "## ✅ In Short\n",
        "\n",
        "> Calculus is the language the universe uses to describe **change** and **accumulation**.  \n",
        ">  \n",
        "> It turns “what if” questions about motion, growth, learning, and optimization  \n",
        "> into precise mathematical answers — powering **science, technology, and intelligence** itself.\n",
        "\n",
        "---\n"
      ],
      "metadata": {
        "id": "aI4VWQp2954m"
      },
      "id": "aI4VWQp2954m"
    },
    {
      "cell_type": "code",
      "execution_count": 4,
      "id": "5162883d",
      "metadata": {
        "execution": {
          "iopub.execute_input": "2023-08-18T19:31:00.158561Z",
          "iopub.status.busy": "2023-08-18T19:31:00.158199Z",
          "iopub.status.idle": "2023-08-18T19:31:03.258372Z",
          "shell.execute_reply": "2023-08-18T19:31:03.256925Z"
        },
        "origin_pos": 3,
        "tab": [
          "pytorch"
        ],
        "id": "5162883d"
      },
      "outputs": [],
      "source": [
        "%matplotlib inline\n",
        "import numpy as np\n",
        "from matplotlib_inline import backend_inline\n",
        "from d2l import torch as d2l"
      ]
    },
    {
      "cell_type": "markdown",
      "id": "8ad81b23",
      "metadata": {
        "origin_pos": 6,
        "id": "8ad81b23"
      },
      "source": [
        "## Derivatives and Differentiation\n",
        "\n",
        "Put simply, a *derivative* is the rate of change\n",
        "in a function with respect to changes in its arguments.\n",
        "Derivatives can tell us how rapidly a loss function\n",
        "would increase or decrease were we\n",
        "to *increase* or *decrease* each parameter\n",
        "by an infinitesimally small amount.\n",
        "Formally, for functions $f: \\mathbb{R} \\rightarrow \\mathbb{R}$,\n",
        "that map from scalars to scalars,\n",
        "[**the *derivative* of $f$ at a point $x$ is defined as**]\n",
        "\n",
        "(**$$f'(x) = \\lim_{h \\rightarrow 0} \\frac{f(x+h) - f(x)}{h}.$$**)\n",
        ":eqlabel:`eq_derivative`\n",
        "\n",
        "This term on the right hand side is called a *limit*\n",
        "and it tells us what happens\n",
        "to the value of an expression\n",
        "as a specified variable\n",
        "approaches a particular value.\n",
        "This limit tells us what\n",
        "the ratio between a perturbation $h$\n",
        "and the change in the function value\n",
        "$f(x + h) - f(x)$ converges to\n",
        "as we shrink its size to zero.\n",
        "\n",
        "When $f'(x)$ exists, $f$ is said\n",
        "to be *differentiable* at $x$;\n",
        "and when $f'(x)$ exists for all $x$\n",
        "on a set, e.g., the interval $[a,b]$,\n",
        "we say that $f$ is differentiable on this set.\n",
        "Not all functions are differentiable,\n",
        "including many that we wish to optimize,\n",
        "such as accuracy and the area under the\n",
        "receiving operating characteristic (AUC).\n",
        "However, because computing the derivative of the loss\n",
        "is a crucial step in nearly all\n",
        "algorithms for training deep neural networks,\n",
        "we often optimize a differentiable *surrogate* instead.\n",
        "\n",
        "\n",
        "We can interpret the derivative\n",
        "$f'(x)$\n",
        "as the *instantaneous* rate of change\n",
        "of $f(x)$ with respect to $x$.\n",
        "Let's develop some intuition with an example.\n",
        "(**Define $u = f(x) = 3x^2-4x$.**)\n"
      ]
    },
    {
      "cell_type": "code",
      "execution_count": 10,
      "id": "e351acdb",
      "metadata": {
        "execution": {
          "iopub.execute_input": "2023-08-18T19:31:03.263539Z",
          "iopub.status.busy": "2023-08-18T19:31:03.262795Z",
          "iopub.status.idle": "2023-08-18T19:31:03.267363Z",
          "shell.execute_reply": "2023-08-18T19:31:03.266349Z"
        },
        "origin_pos": 8,
        "tab": [
          "pytorch"
        ],
        "id": "e351acdb"
      },
      "outputs": [],
      "source": [
        "def f(x):\n",
        "    return 3 * x ** 2 - 4 * x # Define the function f(x)"
      ]
    },
    {
      "cell_type": "markdown",
      "id": "50148144",
      "metadata": {
        "origin_pos": 11,
        "id": "50148144"
      },
      "source": [
        "[**Setting $x=1$, we see that $\\frac{f(x+h) - f(x)}{h}$**] (**approaches $2$\n",
        "as $h$ approaches $0$.**)\n",
        "While this experiment lacks\n",
        "the rigor of a mathematical proof,\n",
        "we can quickly see that indeed $f'(1) = 2$.\n"
      ]
    },
    {
      "cell_type": "code",
      "execution_count": 11,
      "id": "7b5e7cf2",
      "metadata": {
        "execution": {
          "iopub.execute_input": "2023-08-18T19:31:03.271432Z",
          "iopub.status.busy": "2023-08-18T19:31:03.270665Z",
          "iopub.status.idle": "2023-08-18T19:31:03.276568Z",
          "shell.execute_reply": "2023-08-18T19:31:03.275548Z"
        },
        "origin_pos": 12,
        "tab": [
          "pytorch"
        ],
        "colab": {
          "base_uri": "https://localhost:8080/"
        },
        "id": "7b5e7cf2",
        "outputId": "ef26e623-dcc3-45fa-d8c5-12f2e1085a27"
      },
      "outputs": [
        {
          "output_type": "stream",
          "name": "stdout",
          "text": [
            "h=0.10000, numerical limit=2.30000\n",
            "h=0.01000, numerical limit=2.03000\n",
            "h=0.00100, numerical limit=2.00300\n",
            "h=0.00010, numerical limit=2.00030\n",
            "h=0.00001, numerical limit=2.00003\n"
          ]
        }
      ],
      "source": [
        "for h in 10.0**np.arange(-1, -6, -1):\n",
        "    print(f'h={h:.5f}, numerical limit={(f(1+h)-f(1))/h:.5f}')"
      ]
    },
    {
      "cell_type": "markdown",
      "id": "0be7fece",
      "metadata": {
        "origin_pos": 13,
        "id": "0be7fece"
      },
      "source": [
        "There are several equivalent notational conventions for derivatives.\n",
        "Given $y = f(x)$, the following expressions are equivalent:\n",
        "\n",
        "$$f'(x) = y' = \\frac{dy}{dx} = \\frac{df}{dx} = \\frac{d}{dx} f(x) = Df(x) = D_x f(x),$$\n",
        "\n",
        "where the symbols $\\frac{d}{dx}$ and $D$ are *differentiation operators*.\n",
        "Below, we present the derivatives of some common functions:\n",
        "\n",
        "$$\\begin{aligned} \\frac{d}{dx} C & = 0 && \\textrm{for any constant $C$} \\\\ \\frac{d}{dx} x^n & = n x^{n-1} && \\textrm{for } n \\neq 0 \\\\ \\frac{d}{dx} e^x & = e^x \\\\ \\frac{d}{dx} \\ln x & = x^{-1}. \\end{aligned}$$\n",
        "\n",
        "Functions composed from differentiable functions\n",
        "are often themselves differentiable.\n",
        "The following rules come in handy\n",
        "for working with compositions\n",
        "of any differentiable functions\n",
        "$f$ and $g$, and constant $C$.\n",
        "\n",
        "$$\\begin{aligned} \\frac{d}{dx} [C f(x)] & = C \\frac{d}{dx} f(x) && \\textrm{Constant multiple rule} \\\\ \\frac{d}{dx} [f(x) + g(x)] & = \\frac{d}{dx} f(x) + \\frac{d}{dx} g(x) && \\textrm{Sum rule} \\\\ \\frac{d}{dx} [f(x) g(x)] & = f(x) \\frac{d}{dx} g(x) + g(x) \\frac{d}{dx} f(x) && \\textrm{Product rule} \\\\ \\frac{d}{dx} \\frac{f(x)}{g(x)} & = \\frac{g(x) \\frac{d}{dx} f(x) - f(x) \\frac{d}{dx} g(x)}{g^2(x)} && \\textrm{Quotient rule} \\end{aligned}$$\n",
        "\n",
        "Using this, we can apply the rules\n",
        "to find the derivative of $3 x^2 - 4x$ via\n",
        "\n",
        "$$\\frac{d}{dx} [3 x^2 - 4x] = 3 \\frac{d}{dx} x^2 - 4 \\frac{d}{dx} x = 6x - 4.$$\n",
        "\n",
        "Plugging in $x = 1$ shows that, indeed,\n",
        "the derivative equals $2$ at this location.\n",
        "Note that derivatives tell us\n",
        "the *slope* of a function\n",
        "at a particular location.  \n",
        "\n",
        "## Visualization Utilities\n",
        "\n",
        "[**We can visualize the slopes of functions using the `matplotlib` library**].\n",
        "We need to define a few functions.\n",
        "As its name indicates, `use_svg_display`\n",
        "tells `matplotlib` to output graphics\n",
        "in SVG format for crisper images.\n",
        "The comment `#@save` is a special modifier\n",
        "that allows us to save any function,\n",
        "class, or other code block to the `d2l` package\n",
        "so that we can invoke it later\n",
        "without repeating the code,\n",
        "e.g., via `d2l.use_svg_display()`.\n"
      ]
    },
    {
      "cell_type": "code",
      "execution_count": 5,
      "id": "70d92d2a",
      "metadata": {
        "execution": {
          "iopub.execute_input": "2023-08-18T19:31:03.280403Z",
          "iopub.status.busy": "2023-08-18T19:31:03.280065Z",
          "iopub.status.idle": "2023-08-18T19:31:03.284973Z",
          "shell.execute_reply": "2023-08-18T19:31:03.283950Z"
        },
        "origin_pos": 14,
        "tab": [
          "pytorch"
        ],
        "id": "70d92d2a"
      },
      "outputs": [],
      "source": [
        "def use_svg_display():  #@save\n",
        "    \"\"\"Use the svg format to display a plot in Jupyter.\"\"\"\n",
        "    backend_inline.set_matplotlib_formats('svg')"
      ]
    },
    {
      "cell_type": "markdown",
      "id": "ef7c490f",
      "metadata": {
        "origin_pos": 15,
        "id": "ef7c490f"
      },
      "source": [
        "Conveniently, we can set figure sizes with `set_figsize`.\n",
        "Since the import statement `from matplotlib import pyplot as plt`\n",
        "was marked via `#@save` in the `d2l` package, we can call `d2l.plt`.\n"
      ]
    },
    {
      "cell_type": "code",
      "execution_count": 6,
      "id": "c868cdf6",
      "metadata": {
        "execution": {
          "iopub.execute_input": "2023-08-18T19:31:03.289140Z",
          "iopub.status.busy": "2023-08-18T19:31:03.288531Z",
          "iopub.status.idle": "2023-08-18T19:31:03.293764Z",
          "shell.execute_reply": "2023-08-18T19:31:03.292757Z"
        },
        "origin_pos": 16,
        "tab": [
          "pytorch"
        ],
        "id": "c868cdf6"
      },
      "outputs": [],
      "source": [
        "def set_figsize(figsize=(3.5, 2.5)):  #@save\n",
        "    \"\"\"Set the figure size for matplotlib.\"\"\"\n",
        "    use_svg_display()\n",
        "    d2l.plt.rcParams['figure.figsize'] = figsize"
      ]
    },
    {
      "cell_type": "markdown",
      "id": "f2bd084c",
      "metadata": {
        "origin_pos": 17,
        "id": "f2bd084c"
      },
      "source": [
        "The `set_axes` function can associate axes\n",
        "with properties, including labels, ranges,\n",
        "and scales.\n"
      ]
    },
    {
      "cell_type": "code",
      "execution_count": 7,
      "id": "8860f929",
      "metadata": {
        "execution": {
          "iopub.execute_input": "2023-08-18T19:31:03.297796Z",
          "iopub.status.busy": "2023-08-18T19:31:03.297092Z",
          "iopub.status.idle": "2023-08-18T19:31:03.303068Z",
          "shell.execute_reply": "2023-08-18T19:31:03.302068Z"
        },
        "origin_pos": 18,
        "tab": [
          "pytorch"
        ],
        "id": "8860f929"
      },
      "outputs": [],
      "source": [
        "#@save\n",
        "def set_axes(axes, xlabel, ylabel, xlim, ylim, xscale, yscale, legend):\n",
        "    \"\"\"Set the axes for matplotlib.\"\"\"\n",
        "    axes.set_xlabel(xlabel), axes.set_ylabel(ylabel)\n",
        "    axes.set_xscale(xscale), axes.set_yscale(yscale)\n",
        "    axes.set_xlim(xlim),     axes.set_ylim(ylim)\n",
        "    if legend:\n",
        "        axes.legend(legend)\n",
        "    axes.grid()"
      ]
    },
    {
      "cell_type": "markdown",
      "id": "d8825398",
      "metadata": {
        "origin_pos": 19,
        "id": "d8825398"
      },
      "source": [
        "With these three functions, we can define a `plot` function\n",
        "to overlay multiple curves.\n",
        "Much of the code here is just ensuring\n",
        "that the sizes and shapes of inputs match.\n"
      ]
    },
    {
      "cell_type": "code",
      "execution_count": 8,
      "id": "0d56dd86",
      "metadata": {
        "execution": {
          "iopub.execute_input": "2023-08-18T19:31:03.307130Z",
          "iopub.status.busy": "2023-08-18T19:31:03.306443Z",
          "iopub.status.idle": "2023-08-18T19:31:03.316351Z",
          "shell.execute_reply": "2023-08-18T19:31:03.315391Z"
        },
        "origin_pos": 20,
        "tab": [
          "pytorch"
        ],
        "id": "0d56dd86"
      },
      "outputs": [],
      "source": [
        "#@save\n",
        "def plot(X, Y=None, xlabel=None, ylabel=None, legend=[], xlim=None,\n",
        "         ylim=None, xscale='linear', yscale='linear',\n",
        "         fmts=('-', 'm--', 'g-.', 'r:'), figsize=(3.5, 2.5), axes=None):\n",
        "    \"\"\"Plot data points.\"\"\"\n",
        "\n",
        "    def has_one_axis(X):  # True if X (tensor or list) has 1 axis\n",
        "        return (hasattr(X, \"ndim\") and X.ndim == 1 or isinstance(X, list)\n",
        "                and not hasattr(X[0], \"__len__\"))\n",
        "\n",
        "    if has_one_axis(X): X = [X]\n",
        "    if Y is None:\n",
        "        X, Y = [[]] * len(X), X\n",
        "    elif has_one_axis(Y):\n",
        "        Y = [Y]\n",
        "    if len(X) != len(Y):\n",
        "        X = X * len(Y)\n",
        "\n",
        "    set_figsize(figsize)\n",
        "    if axes is None:\n",
        "        axes = d2l.plt.gca()\n",
        "    axes.cla()\n",
        "    for x, y, fmt in zip(X, Y, fmts):\n",
        "        axes.plot(x,y,fmt) if len(x) else axes.plot(y,fmt)\n",
        "    set_axes(axes, xlabel, ylabel, xlim, ylim, xscale, yscale, legend)"
      ]
    },
    {
      "cell_type": "markdown",
      "id": "68b9ef55",
      "metadata": {
        "origin_pos": 21,
        "id": "68b9ef55"
      },
      "source": [
        "Now we can [**plot the function $u = f(x)$ and its tangent line $y = 2x - 3$ at $x=1$**],\n",
        "where the coefficient $2$ is the slope of the tangent line.\n"
      ]
    },
    {
      "cell_type": "code",
      "execution_count": 12,
      "id": "1a22ce3a",
      "metadata": {
        "execution": {
          "iopub.execute_input": "2023-08-18T19:31:03.320345Z",
          "iopub.status.busy": "2023-08-18T19:31:03.319698Z",
          "iopub.status.idle": "2023-08-18T19:31:03.596083Z",
          "shell.execute_reply": "2023-08-18T19:31:03.594940Z"
        },
        "origin_pos": 22,
        "tab": [
          "pytorch"
        ],
        "colab": {
          "base_uri": "https://localhost:8080/",
          "height": 266
        },
        "id": "1a22ce3a",
        "outputId": "ee5a0367-997e-40e8-c08a-307fb549e604"
      },
      "outputs": [
        {
          "output_type": "display_data",
          "data": {
            "text/plain": [
              "<Figure size 350x250 with 1 Axes>"
            ],
            "image/svg+xml": "<?xml version=\"1.0\" encoding=\"utf-8\" standalone=\"no\"?>\n<!DOCTYPE svg PUBLIC \"-//W3C//DTD SVG 1.1//EN\"\n  \"http://www.w3.org/Graphics/SVG/1.1/DTD/svg11.dtd\">\n<svg xmlns:xlink=\"http://www.w3.org/1999/xlink\" width=\"243.529359pt\" height=\"183.35625pt\" viewBox=\"0 0 243.529359 183.35625\" xmlns=\"http://www.w3.org/2000/svg\" version=\"1.1\">\n <metadata>\n  <rdf:RDF xmlns:dc=\"http://purl.org/dc/elements/1.1/\" xmlns:cc=\"http://creativecommons.org/ns#\" xmlns:rdf=\"http://www.w3.org/1999/02/22-rdf-syntax-ns#\">\n   <cc:Work>\n    <dc:type rdf:resource=\"http://purl.org/dc/dcmitype/StillImage\"/>\n    <dc:date>2025-10-23T16:55:54.113899</dc:date>\n    <dc:format>image/svg+xml</dc:format>\n    <dc:creator>\n     <cc:Agent>\n      <dc:title>Matplotlib v3.10.0, https://matplotlib.org/</dc:title>\n     </cc:Agent>\n    </dc:creator>\n   </cc:Work>\n  </rdf:RDF>\n </metadata>\n <defs>\n  <style type=\"text/css\">*{stroke-linejoin: round; stroke-linecap: butt}</style>\n </defs>\n <g id=\"figure_1\">\n  <g id=\"patch_1\">\n   <path d=\"M 0 183.35625 \nL 243.529359 183.35625 \nL 243.529359 0 \nL 0 0 \nz\n\" style=\"fill: #ffffff\"/>\n  </g>\n  <g id=\"axes_1\">\n   <g id=\"patch_2\">\n    <path d=\"M 40.603125 145.8 \nL 235.903125 145.8 \nL 235.903125 7.2 \nL 40.603125 7.2 \nz\n\" style=\"fill: #ffffff\"/>\n   </g>\n   <g id=\"matplotlib.axis_1\">\n    <g id=\"xtick_1\">\n     <g id=\"line2d_1\">\n      <path d=\"M 49.480398 145.8 \nL 49.480398 7.2 \n\" clip-path=\"url(#pb90cabf949)\" style=\"fill: none; stroke: #b0b0b0; stroke-width: 0.8; stroke-linecap: square\"/>\n     </g>\n     <g id=\"line2d_2\">\n      <defs>\n       <path id=\"m4285105db3\" d=\"M 0 0 \nL 0 3.5 \n\" style=\"stroke: #000000; stroke-width: 0.8\"/>\n      </defs>\n      <g>\n       <use xlink:href=\"#m4285105db3\" x=\"49.480398\" y=\"145.8\" style=\"stroke: #000000; stroke-width: 0.8\"/>\n      </g>\n     </g>\n     <g id=\"text_1\">\n      <!-- 0 -->\n      <g transform=\"translate(46.299148 160.398438) scale(0.1 -0.1)\">\n       <defs>\n        <path id=\"DejaVuSans-30\" d=\"M 2034 4250 \nQ 1547 4250 1301 3770 \nQ 1056 3291 1056 2328 \nQ 1056 1369 1301 889 \nQ 1547 409 2034 409 \nQ 2525 409 2770 889 \nQ 3016 1369 3016 2328 \nQ 3016 3291 2770 3770 \nQ 2525 4250 2034 4250 \nz\nM 2034 4750 \nQ 2819 4750 3233 4129 \nQ 3647 3509 3647 2328 \nQ 3647 1150 3233 529 \nQ 2819 -91 2034 -91 \nQ 1250 -91 836 529 \nQ 422 1150 422 2328 \nQ 422 3509 836 4129 \nQ 1250 4750 2034 4750 \nz\n\" transform=\"scale(0.015625)\"/>\n       </defs>\n       <use xlink:href=\"#DejaVuSans-30\"/>\n      </g>\n     </g>\n    </g>\n    <g id=\"xtick_2\">\n     <g id=\"line2d_3\">\n      <path d=\"M 110.702968 145.8 \nL 110.702968 7.2 \n\" clip-path=\"url(#pb90cabf949)\" style=\"fill: none; stroke: #b0b0b0; stroke-width: 0.8; stroke-linecap: square\"/>\n     </g>\n     <g id=\"line2d_4\">\n      <g>\n       <use xlink:href=\"#m4285105db3\" x=\"110.702968\" y=\"145.8\" style=\"stroke: #000000; stroke-width: 0.8\"/>\n      </g>\n     </g>\n     <g id=\"text_2\">\n      <!-- 1 -->\n      <g transform=\"translate(107.521718 160.398438) scale(0.1 -0.1)\">\n       <defs>\n        <path id=\"DejaVuSans-31\" d=\"M 794 531 \nL 1825 531 \nL 1825 4091 \nL 703 3866 \nL 703 4441 \nL 1819 4666 \nL 2450 4666 \nL 2450 531 \nL 3481 531 \nL 3481 0 \nL 794 0 \nL 794 531 \nz\n\" transform=\"scale(0.015625)\"/>\n       </defs>\n       <use xlink:href=\"#DejaVuSans-31\"/>\n      </g>\n     </g>\n    </g>\n    <g id=\"xtick_3\">\n     <g id=\"line2d_5\">\n      <path d=\"M 171.925539 145.8 \nL 171.925539 7.2 \n\" clip-path=\"url(#pb90cabf949)\" style=\"fill: none; stroke: #b0b0b0; stroke-width: 0.8; stroke-linecap: square\"/>\n     </g>\n     <g id=\"line2d_6\">\n      <g>\n       <use xlink:href=\"#m4285105db3\" x=\"171.925539\" y=\"145.8\" style=\"stroke: #000000; stroke-width: 0.8\"/>\n      </g>\n     </g>\n     <g id=\"text_3\">\n      <!-- 2 -->\n      <g transform=\"translate(168.744289 160.398438) scale(0.1 -0.1)\">\n       <defs>\n        <path id=\"DejaVuSans-32\" d=\"M 1228 531 \nL 3431 531 \nL 3431 0 \nL 469 0 \nL 469 531 \nQ 828 903 1448 1529 \nQ 2069 2156 2228 2338 \nQ 2531 2678 2651 2914 \nQ 2772 3150 2772 3378 \nQ 2772 3750 2511 3984 \nQ 2250 4219 1831 4219 \nQ 1534 4219 1204 4116 \nQ 875 4013 500 3803 \nL 500 4441 \nQ 881 4594 1212 4672 \nQ 1544 4750 1819 4750 \nQ 2544 4750 2975 4387 \nQ 3406 4025 3406 3419 \nQ 3406 3131 3298 2873 \nQ 3191 2616 2906 2266 \nQ 2828 2175 2409 1742 \nQ 1991 1309 1228 531 \nz\n\" transform=\"scale(0.015625)\"/>\n       </defs>\n       <use xlink:href=\"#DejaVuSans-32\"/>\n      </g>\n     </g>\n    </g>\n    <g id=\"xtick_4\">\n     <g id=\"line2d_7\">\n      <path d=\"M 233.148109 145.8 \nL 233.148109 7.2 \n\" clip-path=\"url(#pb90cabf949)\" style=\"fill: none; stroke: #b0b0b0; stroke-width: 0.8; stroke-linecap: square\"/>\n     </g>\n     <g id=\"line2d_8\">\n      <g>\n       <use xlink:href=\"#m4285105db3\" x=\"233.148109\" y=\"145.8\" style=\"stroke: #000000; stroke-width: 0.8\"/>\n      </g>\n     </g>\n     <g id=\"text_4\">\n      <!-- 3 -->\n      <g transform=\"translate(229.966859 160.398438) scale(0.1 -0.1)\">\n       <defs>\n        <path id=\"DejaVuSans-33\" d=\"M 2597 2516 \nQ 3050 2419 3304 2112 \nQ 3559 1806 3559 1356 \nQ 3559 666 3084 287 \nQ 2609 -91 1734 -91 \nQ 1441 -91 1130 -33 \nQ 819 25 488 141 \nL 488 750 \nQ 750 597 1062 519 \nQ 1375 441 1716 441 \nQ 2309 441 2620 675 \nQ 2931 909 2931 1356 \nQ 2931 1769 2642 2001 \nQ 2353 2234 1838 2234 \nL 1294 2234 \nL 1294 2753 \nL 1863 2753 \nQ 2328 2753 2575 2939 \nQ 2822 3125 2822 3475 \nQ 2822 3834 2567 4026 \nQ 2313 4219 1838 4219 \nQ 1578 4219 1281 4162 \nQ 984 4106 628 3988 \nL 628 4550 \nQ 988 4650 1302 4700 \nQ 1616 4750 1894 4750 \nQ 2613 4750 3031 4423 \nQ 3450 4097 3450 3541 \nQ 3450 3153 3228 2886 \nQ 3006 2619 2597 2516 \nz\n\" transform=\"scale(0.015625)\"/>\n       </defs>\n       <use xlink:href=\"#DejaVuSans-33\"/>\n      </g>\n     </g>\n    </g>\n    <g id=\"text_5\">\n     <!-- x -->\n     <g transform=\"translate(135.29375 174.076563) scale(0.1 -0.1)\">\n      <defs>\n       <path id=\"DejaVuSans-78\" d=\"M 3513 3500 \nL 2247 1797 \nL 3578 0 \nL 2900 0 \nL 1881 1375 \nL 863 0 \nL 184 0 \nL 1544 1831 \nL 300 3500 \nL 978 3500 \nL 1906 2253 \nL 2834 3500 \nL 3513 3500 \nz\n\" transform=\"scale(0.015625)\"/>\n      </defs>\n      <use xlink:href=\"#DejaVuSans-78\"/>\n     </g>\n    </g>\n   </g>\n   <g id=\"matplotlib.axis_2\">\n    <g id=\"ytick_1\">\n     <g id=\"line2d_9\">\n      <path d=\"M 40.603125 116.769994 \nL 235.903125 116.769994 \n\" clip-path=\"url(#pb90cabf949)\" style=\"fill: none; stroke: #b0b0b0; stroke-width: 0.8; stroke-linecap: square\"/>\n     </g>\n     <g id=\"line2d_10\">\n      <defs>\n       <path id=\"mf66e898838\" d=\"M 0 0 \nL -3.5 0 \n\" style=\"stroke: #000000; stroke-width: 0.8\"/>\n      </defs>\n      <g>\n       <use xlink:href=\"#mf66e898838\" x=\"40.603125\" y=\"116.769994\" style=\"stroke: #000000; stroke-width: 0.8\"/>\n      </g>\n     </g>\n     <g id=\"text_6\">\n      <!-- 0 -->\n      <g transform=\"translate(27.240625 120.569213) scale(0.1 -0.1)\">\n       <use xlink:href=\"#DejaVuSans-30\"/>\n      </g>\n     </g>\n    </g>\n    <g id=\"ytick_2\">\n     <g id=\"line2d_11\">\n      <path d=\"M 40.603125 78.886651 \nL 235.903125 78.886651 \n\" clip-path=\"url(#pb90cabf949)\" style=\"fill: none; stroke: #b0b0b0; stroke-width: 0.8; stroke-linecap: square\"/>\n     </g>\n     <g id=\"line2d_12\">\n      <g>\n       <use xlink:href=\"#mf66e898838\" x=\"40.603125\" y=\"78.886651\" style=\"stroke: #000000; stroke-width: 0.8\"/>\n      </g>\n     </g>\n     <g id=\"text_7\">\n      <!-- 5 -->\n      <g transform=\"translate(27.240625 82.685869) scale(0.1 -0.1)\">\n       <defs>\n        <path id=\"DejaVuSans-35\" d=\"M 691 4666 \nL 3169 4666 \nL 3169 4134 \nL 1269 4134 \nL 1269 2991 \nQ 1406 3038 1543 3061 \nQ 1681 3084 1819 3084 \nQ 2600 3084 3056 2656 \nQ 3513 2228 3513 1497 \nQ 3513 744 3044 326 \nQ 2575 -91 1722 -91 \nQ 1428 -91 1123 -41 \nQ 819 9 494 109 \nL 494 744 \nQ 775 591 1075 516 \nQ 1375 441 1709 441 \nQ 2250 441 2565 725 \nQ 2881 1009 2881 1497 \nQ 2881 1984 2565 2268 \nQ 2250 2553 1709 2553 \nQ 1456 2553 1204 2497 \nQ 953 2441 691 2322 \nL 691 4666 \nz\n\" transform=\"scale(0.015625)\"/>\n       </defs>\n       <use xlink:href=\"#DejaVuSans-35\"/>\n      </g>\n     </g>\n    </g>\n    <g id=\"ytick_3\">\n     <g id=\"line2d_13\">\n      <path d=\"M 40.603125 41.003307 \nL 235.903125 41.003307 \n\" clip-path=\"url(#pb90cabf949)\" style=\"fill: none; stroke: #b0b0b0; stroke-width: 0.8; stroke-linecap: square\"/>\n     </g>\n     <g id=\"line2d_14\">\n      <g>\n       <use xlink:href=\"#mf66e898838\" x=\"40.603125\" y=\"41.003307\" style=\"stroke: #000000; stroke-width: 0.8\"/>\n      </g>\n     </g>\n     <g id=\"text_8\">\n      <!-- 10 -->\n      <g transform=\"translate(20.878125 44.802526) scale(0.1 -0.1)\">\n       <use xlink:href=\"#DejaVuSans-31\"/>\n       <use xlink:href=\"#DejaVuSans-30\" transform=\"translate(63.623047 0)\"/>\n      </g>\n     </g>\n    </g>\n    <g id=\"text_9\">\n     <!-- f(x) -->\n     <g transform=\"translate(14.798437 85.121094) rotate(-90) scale(0.1 -0.1)\">\n      <defs>\n       <path id=\"DejaVuSans-66\" d=\"M 2375 4863 \nL 2375 4384 \nL 1825 4384 \nQ 1516 4384 1395 4259 \nQ 1275 4134 1275 3809 \nL 1275 3500 \nL 2222 3500 \nL 2222 3053 \nL 1275 3053 \nL 1275 0 \nL 697 0 \nL 697 3053 \nL 147 3053 \nL 147 3500 \nL 697 3500 \nL 697 3744 \nQ 697 4328 969 4595 \nQ 1241 4863 1831 4863 \nL 2375 4863 \nz\n\" transform=\"scale(0.015625)\"/>\n       <path id=\"DejaVuSans-28\" d=\"M 1984 4856 \nQ 1566 4138 1362 3434 \nQ 1159 2731 1159 2009 \nQ 1159 1288 1364 580 \nQ 1569 -128 1984 -844 \nL 1484 -844 \nQ 1016 -109 783 600 \nQ 550 1309 550 2009 \nQ 550 2706 781 3412 \nQ 1013 4119 1484 4856 \nL 1984 4856 \nz\n\" transform=\"scale(0.015625)\"/>\n       <path id=\"DejaVuSans-29\" d=\"M 513 4856 \nL 1013 4856 \nQ 1481 4119 1714 3412 \nQ 1947 2706 1947 2009 \nQ 1947 1309 1714 600 \nQ 1481 -109 1013 -844 \nL 513 -844 \nQ 928 -128 1133 580 \nQ 1338 1288 1338 2009 \nQ 1338 2731 1133 3434 \nQ 928 4138 513 4856 \nz\n\" transform=\"scale(0.015625)\"/>\n      </defs>\n      <use xlink:href=\"#DejaVuSans-66\"/>\n      <use xlink:href=\"#DejaVuSans-28\" transform=\"translate(35.205078 0)\"/>\n      <use xlink:href=\"#DejaVuSans-78\" transform=\"translate(74.21875 0)\"/>\n      <use xlink:href=\"#DejaVuSans-29\" transform=\"translate(133.398438 0)\"/>\n     </g>\n    </g>\n   </g>\n   <g id=\"line2d_15\">\n    <path d=\"M 49.480398 116.769994 \nL 55.602655 119.573361 \nL 61.724912 121.922129 \nL 67.847169 123.816296 \nL 73.969426 125.255863 \nL 80.091683 126.24083 \nL 86.21394 126.771197 \nL 92.336197 126.846963 \nL 98.458454 126.46813 \nL 104.580711 125.634696 \nL 110.702968 124.346663 \nL 116.825225 122.604029 \nL 122.947482 120.406795 \nL 129.069739 117.754961 \nL 135.191996 114.648527 \nL 141.314254 111.087492 \nL 147.436511 107.071858 \nL 153.558768 102.601624 \nL 159.681025 97.676789 \nL 165.803282 92.297354 \nL 171.925539 86.463319 \nL 178.047796 80.174684 \nL 184.170053 73.431449 \nL 190.29231 66.233614 \nL 196.414567 58.581179 \nL 202.536824 50.474143 \nL 208.659081 41.912508 \nL 214.781338 32.896272 \nL 220.903595 23.425436 \nL 227.025852 13.5 \n\" clip-path=\"url(#pb90cabf949)\" style=\"fill: none; stroke: #1f77b4; stroke-width: 1.5; stroke-linecap: square\"/>\n   </g>\n   <g id=\"line2d_16\">\n    <path d=\"M 49.480398 139.5 \nL 55.602655 137.984666 \nL 61.724912 136.469333 \nL 67.847169 134.953999 \nL 73.969426 133.438665 \nL 80.091683 131.923331 \nL 86.21394 130.407998 \nL 92.336197 128.892664 \nL 98.458454 127.37733 \nL 104.580711 125.861996 \nL 110.702968 124.346663 \nL 116.825225 122.831329 \nL 122.947482 121.315995 \nL 129.069739 119.800661 \nL 135.191996 118.285328 \nL 141.314254 116.769994 \nL 147.436511 115.25466 \nL 153.558768 113.739327 \nL 159.681025 112.223993 \nL 165.803282 110.708659 \nL 171.925539 109.193325 \nL 178.047796 107.677992 \nL 184.170053 106.162658 \nL 190.29231 104.647324 \nL 196.414567 103.13199 \nL 202.536824 101.616657 \nL 208.659081 100.101323 \nL 214.781338 98.585989 \nL 220.903595 97.070655 \nL 227.025852 95.555322 \n\" clip-path=\"url(#pb90cabf949)\" style=\"fill: none; stroke-dasharray: 5.55,2.4; stroke-dashoffset: 0; stroke: #bf00bf; stroke-width: 1.5\"/>\n   </g>\n   <g id=\"patch_3\">\n    <path d=\"M 40.603125 145.8 \nL 40.603125 7.2 \n\" style=\"fill: none; stroke: #000000; stroke-width: 0.8; stroke-linejoin: miter; stroke-linecap: square\"/>\n   </g>\n   <g id=\"patch_4\">\n    <path d=\"M 235.903125 145.8 \nL 235.903125 7.2 \n\" style=\"fill: none; stroke: #000000; stroke-width: 0.8; stroke-linejoin: miter; stroke-linecap: square\"/>\n   </g>\n   <g id=\"patch_5\">\n    <path d=\"M 40.603125 145.8 \nL 235.903125 145.8 \n\" style=\"fill: none; stroke: #000000; stroke-width: 0.8; stroke-linejoin: miter; stroke-linecap: square\"/>\n   </g>\n   <g id=\"patch_6\">\n    <path d=\"M 40.603125 7.2 \nL 235.903125 7.2 \n\" style=\"fill: none; stroke: #000000; stroke-width: 0.8; stroke-linejoin: miter; stroke-linecap: square\"/>\n   </g>\n   <g id=\"legend_1\">\n    <g id=\"patch_7\">\n     <path d=\"M 47.603125 44.55625 \nL 172.153125 44.55625 \nQ 174.153125 44.55625 174.153125 42.55625 \nL 174.153125 14.2 \nQ 174.153125 12.2 172.153125 12.2 \nL 47.603125 12.2 \nQ 45.603125 12.2 45.603125 14.2 \nL 45.603125 42.55625 \nQ 45.603125 44.55625 47.603125 44.55625 \nz\n\" style=\"fill: #ffffff; opacity: 0.8; stroke: #cccccc; stroke-linejoin: miter\"/>\n    </g>\n    <g id=\"line2d_17\">\n     <path d=\"M 49.603125 20.298438 \nL 59.603125 20.298438 \nL 69.603125 20.298438 \n\" style=\"fill: none; stroke: #1f77b4; stroke-width: 1.5; stroke-linecap: square\"/>\n    </g>\n    <g id=\"text_10\">\n     <!-- f(x) -->\n     <g transform=\"translate(77.603125 23.798438) scale(0.1 -0.1)\">\n      <use xlink:href=\"#DejaVuSans-66\"/>\n      <use xlink:href=\"#DejaVuSans-28\" transform=\"translate(35.205078 0)\"/>\n      <use xlink:href=\"#DejaVuSans-78\" transform=\"translate(74.21875 0)\"/>\n      <use xlink:href=\"#DejaVuSans-29\" transform=\"translate(133.398438 0)\"/>\n     </g>\n    </g>\n    <g id=\"line2d_18\">\n     <path d=\"M 49.603125 34.976562 \nL 59.603125 34.976562 \nL 69.603125 34.976562 \n\" style=\"fill: none; stroke-dasharray: 5.55,2.4; stroke-dashoffset: 0; stroke: #bf00bf; stroke-width: 1.5\"/>\n    </g>\n    <g id=\"text_11\">\n     <!-- Tangent line (x=1) -->\n     <g transform=\"translate(77.603125 38.476562) scale(0.1 -0.1)\">\n      <defs>\n       <path id=\"DejaVuSans-54\" d=\"M -19 4666 \nL 3928 4666 \nL 3928 4134 \nL 2272 4134 \nL 2272 0 \nL 1638 0 \nL 1638 4134 \nL -19 4134 \nL -19 4666 \nz\n\" transform=\"scale(0.015625)\"/>\n       <path id=\"DejaVuSans-61\" d=\"M 2194 1759 \nQ 1497 1759 1228 1600 \nQ 959 1441 959 1056 \nQ 959 750 1161 570 \nQ 1363 391 1709 391 \nQ 2188 391 2477 730 \nQ 2766 1069 2766 1631 \nL 2766 1759 \nL 2194 1759 \nz\nM 3341 1997 \nL 3341 0 \nL 2766 0 \nL 2766 531 \nQ 2569 213 2275 61 \nQ 1981 -91 1556 -91 \nQ 1019 -91 701 211 \nQ 384 513 384 1019 \nQ 384 1609 779 1909 \nQ 1175 2209 1959 2209 \nL 2766 2209 \nL 2766 2266 \nQ 2766 2663 2505 2880 \nQ 2244 3097 1772 3097 \nQ 1472 3097 1187 3025 \nQ 903 2953 641 2809 \nL 641 3341 \nQ 956 3463 1253 3523 \nQ 1550 3584 1831 3584 \nQ 2591 3584 2966 3190 \nQ 3341 2797 3341 1997 \nz\n\" transform=\"scale(0.015625)\"/>\n       <path id=\"DejaVuSans-6e\" d=\"M 3513 2113 \nL 3513 0 \nL 2938 0 \nL 2938 2094 \nQ 2938 2591 2744 2837 \nQ 2550 3084 2163 3084 \nQ 1697 3084 1428 2787 \nQ 1159 2491 1159 1978 \nL 1159 0 \nL 581 0 \nL 581 3500 \nL 1159 3500 \nL 1159 2956 \nQ 1366 3272 1645 3428 \nQ 1925 3584 2291 3584 \nQ 2894 3584 3203 3211 \nQ 3513 2838 3513 2113 \nz\n\" transform=\"scale(0.015625)\"/>\n       <path id=\"DejaVuSans-67\" d=\"M 2906 1791 \nQ 2906 2416 2648 2759 \nQ 2391 3103 1925 3103 \nQ 1463 3103 1205 2759 \nQ 947 2416 947 1791 \nQ 947 1169 1205 825 \nQ 1463 481 1925 481 \nQ 2391 481 2648 825 \nQ 2906 1169 2906 1791 \nz\nM 3481 434 \nQ 3481 -459 3084 -895 \nQ 2688 -1331 1869 -1331 \nQ 1566 -1331 1297 -1286 \nQ 1028 -1241 775 -1147 \nL 775 -588 \nQ 1028 -725 1275 -790 \nQ 1522 -856 1778 -856 \nQ 2344 -856 2625 -561 \nQ 2906 -266 2906 331 \nL 2906 616 \nQ 2728 306 2450 153 \nQ 2172 0 1784 0 \nQ 1141 0 747 490 \nQ 353 981 353 1791 \nQ 353 2603 747 3093 \nQ 1141 3584 1784 3584 \nQ 2172 3584 2450 3431 \nQ 2728 3278 2906 2969 \nL 2906 3500 \nL 3481 3500 \nL 3481 434 \nz\n\" transform=\"scale(0.015625)\"/>\n       <path id=\"DejaVuSans-65\" d=\"M 3597 1894 \nL 3597 1613 \nL 953 1613 \nQ 991 1019 1311 708 \nQ 1631 397 2203 397 \nQ 2534 397 2845 478 \nQ 3156 559 3463 722 \nL 3463 178 \nQ 3153 47 2828 -22 \nQ 2503 -91 2169 -91 \nQ 1331 -91 842 396 \nQ 353 884 353 1716 \nQ 353 2575 817 3079 \nQ 1281 3584 2069 3584 \nQ 2775 3584 3186 3129 \nQ 3597 2675 3597 1894 \nz\nM 3022 2063 \nQ 3016 2534 2758 2815 \nQ 2500 3097 2075 3097 \nQ 1594 3097 1305 2825 \nQ 1016 2553 972 2059 \nL 3022 2063 \nz\n\" transform=\"scale(0.015625)\"/>\n       <path id=\"DejaVuSans-74\" d=\"M 1172 4494 \nL 1172 3500 \nL 2356 3500 \nL 2356 3053 \nL 1172 3053 \nL 1172 1153 \nQ 1172 725 1289 603 \nQ 1406 481 1766 481 \nL 2356 481 \nL 2356 0 \nL 1766 0 \nQ 1100 0 847 248 \nQ 594 497 594 1153 \nL 594 3053 \nL 172 3053 \nL 172 3500 \nL 594 3500 \nL 594 4494 \nL 1172 4494 \nz\n\" transform=\"scale(0.015625)\"/>\n       <path id=\"DejaVuSans-20\" transform=\"scale(0.015625)\"/>\n       <path id=\"DejaVuSans-6c\" d=\"M 603 4863 \nL 1178 4863 \nL 1178 0 \nL 603 0 \nL 603 4863 \nz\n\" transform=\"scale(0.015625)\"/>\n       <path id=\"DejaVuSans-69\" d=\"M 603 3500 \nL 1178 3500 \nL 1178 0 \nL 603 0 \nL 603 3500 \nz\nM 603 4863 \nL 1178 4863 \nL 1178 4134 \nL 603 4134 \nL 603 4863 \nz\n\" transform=\"scale(0.015625)\"/>\n       <path id=\"DejaVuSans-3d\" d=\"M 678 2906 \nL 4684 2906 \nL 4684 2381 \nL 678 2381 \nL 678 2906 \nz\nM 678 1631 \nL 4684 1631 \nL 4684 1100 \nL 678 1100 \nL 678 1631 \nz\n\" transform=\"scale(0.015625)\"/>\n      </defs>\n      <use xlink:href=\"#DejaVuSans-54\"/>\n      <use xlink:href=\"#DejaVuSans-61\" transform=\"translate(44.583984 0)\"/>\n      <use xlink:href=\"#DejaVuSans-6e\" transform=\"translate(105.863281 0)\"/>\n      <use xlink:href=\"#DejaVuSans-67\" transform=\"translate(169.242188 0)\"/>\n      <use xlink:href=\"#DejaVuSans-65\" transform=\"translate(232.71875 0)\"/>\n      <use xlink:href=\"#DejaVuSans-6e\" transform=\"translate(294.242188 0)\"/>\n      <use xlink:href=\"#DejaVuSans-74\" transform=\"translate(357.621094 0)\"/>\n      <use xlink:href=\"#DejaVuSans-20\" transform=\"translate(396.830078 0)\"/>\n      <use xlink:href=\"#DejaVuSans-6c\" transform=\"translate(428.617188 0)\"/>\n      <use xlink:href=\"#DejaVuSans-69\" transform=\"translate(456.400391 0)\"/>\n      <use xlink:href=\"#DejaVuSans-6e\" transform=\"translate(484.183594 0)\"/>\n      <use xlink:href=\"#DejaVuSans-65\" transform=\"translate(547.5625 0)\"/>\n      <use xlink:href=\"#DejaVuSans-20\" transform=\"translate(609.085938 0)\"/>\n      <use xlink:href=\"#DejaVuSans-28\" transform=\"translate(640.873047 0)\"/>\n      <use xlink:href=\"#DejaVuSans-78\" transform=\"translate(679.886719 0)\"/>\n      <use xlink:href=\"#DejaVuSans-3d\" transform=\"translate(739.066406 0)\"/>\n      <use xlink:href=\"#DejaVuSans-31\" transform=\"translate(822.855469 0)\"/>\n      <use xlink:href=\"#DejaVuSans-29\" transform=\"translate(886.478516 0)\"/>\n     </g>\n    </g>\n   </g>\n  </g>\n </g>\n <defs>\n  <clipPath id=\"pb90cabf949\">\n   <rect x=\"40.603125\" y=\"7.2\" width=\"195.3\" height=\"138.6\"/>\n  </clipPath>\n </defs>\n</svg>\n"
          },
          "metadata": {}
        }
      ],
      "source": [
        "x = np.arange(0, 3, 0.1)\n",
        "plot(x, [f(x), 2 * x - 3], 'x', 'f(x)', legend=['f(x)', 'Tangent line (x=1)'])"
      ]
    },
    {
      "cell_type": "markdown",
      "id": "ebd783d4",
      "metadata": {
        "origin_pos": 23,
        "id": "ebd783d4"
      },
      "source": [
        "## Partial Derivatives and Gradients\n",
        ":label:`subsec_calculus-grad`\n",
        "\n",
        "Thus far, we have been differentiating\n",
        "functions of just one variable.\n",
        "In deep learning, we also need to work\n",
        "with functions of *many* variables.\n",
        "We briefly introduce notions of the derivative\n",
        "that apply to such *multivariate* functions.\n",
        "\n",
        "\n",
        "Let $y = f(x_1, x_2, \\ldots, x_n)$ be a function with $n$ variables.\n",
        "The *partial derivative* of $y$\n",
        "with respect to its $i^\\textrm{th}$ parameter $x_i$ is\n",
        "\n",
        "$$ \\frac{\\partial y}{\\partial x_i} = \\lim_{h \\rightarrow 0} \\frac{f(x_1, \\ldots, x_{i-1}, x_i+h, x_{i+1}, \\ldots, x_n) - f(x_1, \\ldots, x_i, \\ldots, x_n)}{h}.$$\n",
        "\n",
        "\n",
        "To calculate $\\frac{\\partial y}{\\partial x_i}$,\n",
        "we can treat $x_1, \\ldots, x_{i-1}, x_{i+1}, \\ldots, x_n$ as constants\n",
        "and calculate the derivative of $y$ with respect to $x_i$.\n",
        "The following notational conventions for partial derivatives\n",
        "are all common and all mean the same thing:\n",
        "\n",
        "$$\\frac{\\partial y}{\\partial x_i} = \\frac{\\partial f}{\\partial x_i} = \\partial_{x_i} f = \\partial_i f = f_{x_i} = f_i = D_i f = D_{x_i} f.$$\n",
        "\n",
        "We can concatenate partial derivatives\n",
        "of a multivariate function\n",
        "with respect to all its variables\n",
        "to obtain a vector that is called\n",
        "the *gradient* of the function.\n",
        "Suppose that the input of function\n",
        "$f: \\mathbb{R}^n \\rightarrow \\mathbb{R}$\n",
        "is an $n$-dimensional vector\n",
        "$\\mathbf{x} = [x_1, x_2, \\ldots, x_n]^\\top$\n",
        "and the output is a scalar.\n",
        "The gradient of the function $f$\n",
        "with respect to $\\mathbf{x}$\n",
        "is a vector of $n$ partial derivatives:\n",
        "\n",
        "$$\\nabla_{\\mathbf{x}} f(\\mathbf{x}) = \\left[\\partial_{x_1} f(\\mathbf{x}), \\partial_{x_2} f(\\mathbf{x}), \\ldots\n",
        "\\partial_{x_n} f(\\mathbf{x})\\right]^\\top.$$\n",
        "\n",
        "When there is no ambiguity,\n",
        "$\\nabla_{\\mathbf{x}} f(\\mathbf{x})$\n",
        "is typically replaced\n",
        "by $\\nabla f(\\mathbf{x})$.\n",
        "The following rules come in handy\n",
        "for differentiating multivariate functions:\n",
        "\n",
        "* For all $\\mathbf{A} \\in \\mathbb{R}^{m \\times n}$ we have $\\nabla_{\\mathbf{x}} \\mathbf{A} \\mathbf{x} = \\mathbf{A}^\\top$ and $\\nabla_{\\mathbf{x}} \\mathbf{x}^\\top \\mathbf{A}  = \\mathbf{A}$.\n",
        "* For square matrices $\\mathbf{A} \\in \\mathbb{R}^{n \\times n}$ we have that $\\nabla_{\\mathbf{x}} \\mathbf{x}^\\top \\mathbf{A} \\mathbf{x}  = (\\mathbf{A} + \\mathbf{A}^\\top)\\mathbf{x}$ and in particular\n",
        "$\\nabla_{\\mathbf{x}} \\|\\mathbf{x} \\|^2 = \\nabla_{\\mathbf{x}} \\mathbf{x}^\\top \\mathbf{x} = 2\\mathbf{x}$.\n",
        "\n",
        "Similarly, for any matrix $\\mathbf{X}$,\n",
        "we have $\\nabla_{\\mathbf{X}} \\|\\mathbf{X} \\|_\\textrm{F}^2 = 2\\mathbf{X}$.\n",
        "\n",
        "\n",
        "\n",
        "## Chain Rule\n",
        "\n",
        "In deep learning, the gradients of concern\n",
        "are often difficult to calculate\n",
        "because we are working with\n",
        "deeply nested functions\n",
        "(of functions (of functions...)).\n",
        "Fortunately, the *chain rule* takes care of this.\n",
        "Returning to functions of a single variable,\n",
        "suppose that $y = f(g(x))$\n",
        "and that the underlying functions\n",
        "$y=f(u)$ and $u=g(x)$\n",
        "are both differentiable.\n",
        "The chain rule states that\n",
        "\n",
        "\n",
        "$$\\frac{dy}{dx} = \\frac{dy}{du} \\frac{du}{dx}.$$\n",
        "\n",
        "\n",
        "\n",
        "Turning back to multivariate functions,\n",
        "suppose that $y = f(\\mathbf{u})$ has variables\n",
        "$u_1, u_2, \\ldots, u_m$,\n",
        "where each $u_i = g_i(\\mathbf{x})$\n",
        "has variables $x_1, x_2, \\ldots, x_n$,\n",
        "i.e.,  $\\mathbf{u} = g(\\mathbf{x})$.\n",
        "Then the chain rule states that\n",
        "\n",
        "$$\\frac{\\partial y}{\\partial x_{i}} = \\frac{\\partial y}{\\partial u_{1}} \\frac{\\partial u_{1}}{\\partial x_{i}} + \\frac{\\partial y}{\\partial u_{2}} \\frac{\\partial u_{2}}{\\partial x_{i}} + \\ldots + \\frac{\\partial y}{\\partial u_{m}} \\frac{\\partial u_{m}}{\\partial x_{i}} \\ \\textrm{ and so } \\ \\nabla_{\\mathbf{x}} y =  \\mathbf{A} \\nabla_{\\mathbf{u}} y,$$\n",
        "\n",
        "where $\\mathbf{A} \\in \\mathbb{R}^{n \\times m}$ is a *matrix*\n",
        "that contains the derivative of vector $\\mathbf{u}$\n",
        "with respect to vector $\\mathbf{x}$.\n",
        "Thus, evaluating the gradient requires\n",
        "computing a vector--matrix product.\n",
        "This is one of the key reasons why linear algebra\n",
        "is such an integral building block\n",
        "in building deep learning systems.\n",
        "\n",
        "\n",
        "\n",
        "## Discussion\n",
        "\n",
        "While we have just scratched the surface of a deep topic,\n",
        "a number of concepts already come into focus:\n",
        "first, the composition rules for differentiation\n",
        "can be applied routinely, enabling\n",
        "us to compute gradients *automatically*.\n",
        "This task requires no creativity and thus\n",
        "we can focus our cognitive powers elsewhere.\n",
        "Second, computing the derivatives of vector-valued functions\n",
        "requires us to multiply matrices as we trace\n",
        "the dependency graph of variables from output to input.\n",
        "In particular, this graph is traversed in a *forward* direction\n",
        "when we evaluate a function\n",
        "and in a *backwards* direction\n",
        "when we compute gradients.\n",
        "Later chapters will formally introduce backpropagation,\n",
        "a computational procedure for applying the chain rule.\n",
        "\n",
        "From the viewpoint of optimization, gradients allow us\n",
        "to determine how to move the parameters of a model\n",
        "in order to lower the loss,\n",
        "and each step of the optimization algorithms used\n",
        "throughout this book will require calculating the gradient.\n",
        "\n",
        "## Exercises\n",
        "\n",
        "1. So far we took the rules for derivatives for granted.\n",
        "   Using the definition and limits prove the properties\n",
        "   for (i) $f(x) = c$, (ii) $f(x) = x^n$, (iii) $f(x) = e^x$ and (iv) $f(x) = \\log x$.\n",
        "1. In the same vein, prove the product, sum, and quotient rule from first principles.\n",
        "1. Prove that the constant multiple rule follows as a special case of the product rule.\n",
        "1. Calculate the derivative of $f(x) = x^x$.\n",
        "1. What does it mean that $f'(x) = 0$ for some $x$?\n",
        "   Give an example of a function $f$\n",
        "   and a location $x$ for which this might hold.\n",
        "1. Plot the function $y = f(x) = x^3 - \\frac{1}{x}$\n",
        "   and plot its tangent line at $x = 1$.\n",
        "1. Find the gradient of the function\n",
        "   $f(\\mathbf{x}) = 3x_1^2 + 5e^{x_2}$.\n",
        "1. What is the gradient of the function\n",
        "   $f(\\mathbf{x}) = \\|\\mathbf{x}\\|_2$? What happens for $\\mathbf{x} = \\mathbf{0}$?\n",
        "1. Can you write out the chain rule for the case\n",
        "   where $u = f(x, y, z)$ and $x = x(a, b)$, $y = y(a, b)$, and $z = z(a, b)$?\n",
        "1. Given a function $f(x)$ that is invertible,\n",
        "   compute the derivative of its inverse $f^{-1}(x)$.\n",
        "   Here we have that $f^{-1}(f(x)) = x$ and conversely $f(f^{-1}(y)) = y$.\n",
        "   Hint: use these properties in your derivation.\n"
      ]
    },
    {
      "cell_type": "markdown",
      "metadata": {
        "id": "f976a4ef"
      },
      "source": [
        "### Exercise 10: Given a function $f(x)$ that is invertible, compute the derivative of its inverse $f^{-1}(x)$. Here we have that $f^{-1}(f(x)) = x$ and conversely $f(f^{-1}(y)) = y$. Hint: use these properties in your derivation."
      ],
      "id": "f976a4ef"
    },
    {
      "cell_type": "markdown",
      "metadata": {
        "id": "d78c350c"
      },
      "source": [
        "Let $y = f(x)$, so $x = f^{-1}(y)$. We want to find the derivative of the inverse function, which is $\\frac{d}{dy} f^{-1}(y)$.\n",
        "\n",
        "We are given the property $f(f^{-1}(y)) = y$.\n",
        "We can differentiate both sides of this equation with respect to $y$.\n",
        "On the left side, we use the chain rule. Let $u = f^{-1}(y)$. Then the left side is $f(u)$. The derivative with respect to $y$ is:\n",
        "$$ \\frac{d}{dy} [f(f^{-1}(y))] = \\frac{d}{du} f(u) \\cdot \\frac{du}{dy} = f'(u) \\cdot \\frac{d}{dy} f^{-1}(y) $$\n",
        "Substitute back $u = f^{-1}(y)$:\n",
        "$$ \\frac{d}{dy} [f(f^{-1}(y))] = f'(f^{-1}(y)) \\cdot \\frac{d}{dy} f^{-1}(y) $$\n",
        "On the right side, the derivative of $y$ with respect to $y$ is simply 1:\n",
        "$$ \\frac{d}{dy} [y] = 1 $$\n",
        "Equating the derivatives of both sides:\n",
        "$$ f'(f^{-1}(y)) \\cdot \\frac{d}{dy} f^{-1}(y) = 1 $$\n",
        "Now, solve for $\\frac{d}{dy} f^{-1}(y)$:\n",
        "$$ \\frac{d}{dy} f^{-1}(y) = \\frac{1}{f'(f^{-1}(y))} $$\n",
        "\n",
        "Alternatively, using the property $f^{-1}(f(x)) = x$, we can differentiate with respect to $x$:\n",
        "Let $v = f(x)$. Then the left side is $f^{-1}(v)$. The derivative with respect to $x$ is:\n",
        "$$ \\frac{d}{dx} [f^{-1}(f(x))] = \\frac{d}{dv} f^{-1}(v) \\cdot \\frac{dv}{dx} = (f^{-1})'(v) \\cdot f'(x) $$\n",
        "Substitute back $v = f(x)$:\n",
        "$$ \\frac{d}{dx} [f^{-1}(f(x))] = (f^{-1})'(f(x)) \\cdot f'(x) $$\n",
        "On the right side, the derivative of $x$ with respect to $x$ is 1:\n",
        "$$ \\frac{d}{dx} [x] = 1 $$\n",
        "Equating the derivatives of both sides:\n",
        "$$ (f^{-1})'(f(x)) \\cdot f'(x) = 1 $$\n",
        "Solve for $(f^{-1})'(f(x))$:\n",
        "$$ (f^{-1})'(f(x)) = \\frac{1}{f'(x)} $$\n",
        "Let $y = f(x)$, then $x = f^{-1}(y)$. Substituting this into the equation:\n",
        "$$ (f^{-1})'(y) = \\frac{1}{f'(f^{-1}(y))} $$\n",
        "This gives the derivative of the inverse function at the point $y$. If we want the derivative in terms of $x$, we can use the first form derived:\n",
        "$$ \\frac{d}{dx} f^{-1}(y) = \\frac{1}{f'(f^{-1}(y))} $$\n",
        "where $y$ is the input to the inverse function.\n",
        "\n",
        "Thus, the derivative of the inverse function $f^{-1}(y)$ with respect to $y$ is the reciprocal of the derivative of the original function $f$ evaluated at the inverse of $y$."
      ],
      "id": "d78c350c"
    },
    {
      "cell_type": "markdown",
      "metadata": {
        "id": "0ec7b6eb"
      },
      "source": [
        "### Exercise 9: Can you write out the chain rule for the case where $u = f(x, y, z)$ and $x = x(a, b)$, $y = y(a, b)$, and $z = z(a, b)$?"
      ],
      "id": "0ec7b6eb"
    },
    {
      "cell_type": "markdown",
      "metadata": {
        "id": "b8c4ef87"
      },
      "source": [
        "Given $u = f(x, y, z)$, where $x = x(a, b)$, $y = y(a, b)$, and $z = z(a, b)$, we want to find the partial derivatives of $u$ with respect to $a$ and $b$ using the chain rule.\n",
        "\n",
        "The chain rule for this case states that to find the partial derivative of $u$ with respect to $a$, we sum the products of the partial derivative of $u$ with respect to each intermediate variable ($x, y, z$) and the partial derivative of that intermediate variable with respect to $a$:\n",
        "\n",
        "$$ \\frac{\\partial u}{\\partial a} = \\frac{\\partial u}{\\partial x} \\frac{\\partial x}{\\partial a} + \\frac{\\partial u}{\\partial y} \\frac{\\partial y}{\\partial a} + \\frac{\\partial u}{\\partial z} \\frac{\\partial z}{\\partial a} $$\n",
        "\n",
        "Similarly, to find the partial derivative of $u$ with respect to $b$, we sum the products of the partial derivative of $u$ with respect to each intermediate variable ($x, y, z$) and the partial derivative of that intermediate variable with respect to $b$:\n",
        "\n",
        "$$ \\frac{\\partial u}{\\partial b} = \\frac{\\partial u}{\\partial x} \\frac{\\partial x}{\\partial b} + \\frac{\\partial u}{\\partial y} \\frac{\\partial y}{\\partial b} + \\frac{\\partial u}{\\partial z} \\frac{\\partial z}{\\partial b} $$\n",
        "\n",
        "These two equations represent the application of the chain rule for the given function composition."
      ],
      "id": "b8c4ef87"
    },
    {
      "cell_type": "markdown",
      "metadata": {
        "id": "ea213381"
      },
      "source": [
        "### Exercise 8: What is the gradient of the function $f(\\mathbf{x}) = \\|\\mathbf{x}\\|_2$? What happens for $\\mathbf{x} = \\mathbf{0}$?"
      ],
      "id": "ea213381"
    },
    {
      "cell_type": "markdown",
      "metadata": {
        "id": "41166b57"
      },
      "source": [
        "The function is $f(\\mathbf{x}) = \\|\\mathbf{x}\\|_2$. The L2 norm of a vector $\\mathbf{x} = [x_1, x_2, \\ldots, x_n]^\\top$ is defined as:\n",
        "$$ \\|\\mathbf{x}\\|_2 = \\sqrt{x_1^2 + x_2^2 + \\ldots + x_n^2} = \\sqrt{\\mathbf{x}^\\top \\mathbf{x}} $$\n",
        "To find the gradient, we need to compute the partial derivative with respect to each $x_i$:\n",
        "$$ \\frac{\\partial}{\\partial x_i} \\|\\mathbf{x}\\|_2 = \\frac{\\partial}{\\partial x_i} \\sqrt{x_1^2 + x_2^2 + \\ldots + x_n^2} $$\n",
        "Using the chain rule, let $u = x_1^2 + x_2^2 + \\ldots + x_n^2$. Then the function is $\\sqrt{u}$.\n",
        "$$ \\frac{\\partial}{\\partial x_i} \\sqrt{u} = \\frac{d}{du} (\\sqrt{u}) \\cdot \\frac{\\partial u}{\\partial x_i} $$\n",
        "The derivative of $\\sqrt{u}$ with respect to $u$ is $\\frac{1}{2\\sqrt{u}}$.\n",
        "$$ \\frac{d}{du} (\\sqrt{u}) = \\frac{1}{2\\sqrt{x_1^2 + x_2^2 + \\ldots + x_n^2}} = \\frac{1}{2\\|\\mathbf{x}\\|_2} $$\n",
        "The partial derivative of $u$ with respect to $x_i$ is:\n",
        "$$ \\frac{\\partial u}{\\partial x_i} = \\frac{\\partial}{\\partial x_i} (x_1^2 + x_2^2 + \\ldots + x_n^2) = 2x_i $$\n",
        "Combining these using the chain rule:\n",
        "$$ \\frac{\\partial}{\\partial x_i} \\|\\mathbf{x}\\|_2 = \\frac{1}{2\\|\\mathbf{x}\\|_2} \\cdot 2x_i = \\frac{x_i}{\\|\\mathbf{x}\\|_2} $$\n",
        "The gradient of $f(\\mathbf{x}) = \\|\\mathbf{x}\\|_2$ is the vector of these partial derivatives:\n",
        "$$ \\nabla f(\\mathbf{x}) = \\left[\\frac{x_1}{\\|\\mathbf{x}\\|_2}, \\frac{x_2}{\\|\\mathbf{x}\\|_2}, \\ldots, \\frac{x_n}{\\|\\mathbf{x}\\|_2}\\right]^\\top = \\frac{1}{\\|\\mathbf{x}\\|_2} [x_1, x_2, \\ldots, x_n]^\\top = \\frac{\\mathbf{x}}{\\|\\mathbf{x}\\|_2} $$\n",
        "This is the unit vector in the direction of $\\mathbf{x}$.\n",
        "\n",
        "**What happens for $\\mathbf{x} = \\mathbf{0}$?**\n",
        "\n",
        "At $\\mathbf{x} = \\mathbf{0}$, the L2 norm $\\|\\mathbf{0}\\|_2 = 0$. The expression for the gradient, $\\frac{\\mathbf{x}}{\\|\\mathbf{x}\\|_2}$, involves division by zero, which is undefined.\n",
        "Therefore, the gradient of $f(\\mathbf{x}) = \\|\\mathbf{x}\\|_2$ is **undefined** at $\\mathbf{x} = \\mathbf{0}$. This is because the function has a sharp point (a \"cone\") at the origin, and the derivative (and thus the gradient) does not exist at such points."
      ],
      "id": "41166b57"
    },
    {
      "cell_type": "markdown",
      "metadata": {
        "id": "a6d45671"
      },
      "source": [
        "### Exercise 7: Find the gradient of the function $f(\\mathbf{x}) = 3x_1^2 + 5e^{x_2}$."
      ],
      "id": "a6d45671"
    },
    {
      "cell_type": "markdown",
      "metadata": {
        "id": "f5eba1e9"
      },
      "source": [
        "To find the gradient of the function $f(\\mathbf{x}) = 3x_1^2 + 5e^{x_2}$, where $\\mathbf{x} = [x_1, x_2]^\\top$, we need to compute the partial derivatives with respect to each variable $x_1$ and $x_2$.\n",
        "\n",
        "The partial derivative with respect to $x_1$ is found by treating $x_2$ as a constant:\n",
        "$$ \\frac{\\partial f}{\\partial x_1} = \\frac{\\partial}{\\partial x_1} (3x_1^2 + 5e^{x_2}) $$\n",
        "Using the sum rule and the constant multiple rule:\n",
        "$$ \\frac{\\partial f}{\\partial x_1} = \\frac{\\partial}{\\partial x_1} (3x_1^2) + \\frac{\\partial}{\\partial x_1} (5e^{x_2}) $$\n",
        "For the first term, using the power rule $\\frac{d}{dx} x^n = nx^{n-1}$:\n",
        "$$ \\frac{\\partial}{\\partial x_1} (3x_1^2) = 3 \\cdot 2x_1^{2-1} = 6x_1 $$\n",
        "For the second term, since $e^{x_2}$ is treated as a constant with respect to $x_1$, its derivative is 0:\n",
        "$$ \\frac{\\partial}{\\partial x_1} (5e^{x_2}) = 0 $$\n",
        "So, the partial derivative with respect to $x_1$ is:\n",
        "$$ \\frac{\\partial f}{\\partial x_1} = 6x_1 $$\n",
        "\n",
        "The partial derivative with respect to $x_2$ is found by treating $x_1$ as a constant:\n",
        "$$ \\frac{\\partial f}{\\partial x_2} = \\frac{\\partial}{\\partial x_2} (3x_1^2 + 5e^{x_2}) $$\n",
        "Using the sum rule and the constant multiple rule:\n",
        "$$ \\frac{\\partial f}{\\partial x_2} = \\frac{\\partial}{\\partial x_2} (3x_1^2) + \\frac{\\partial}{\\partial x_2} (5e^{x_2}) $$\n",
        "For the first term, since $3x_1^2$ is treated as a constant with respect to $x_2$, its derivative is 0:\n",
        "$$ \\frac{\\partial}{\\partial x_2} (3x_1^2) = 0 $$\n",
        "For the second term, using the derivative of the exponential function $\\frac{d}{dx} e^x = e^x$:\n",
        "$$ \\frac{\\partial}{\\partial x_2} (5e^{x_2}) = 5 \\frac{\\partial}{\\partial x_2} (e^{x_2}) = 5e^{x_2} $$\n",
        "So, the partial derivative with respect to $x_2$ is:\n",
        "$$ \\frac{\\partial f}{\\partial x_2} = 5e^{x_2} $$\n",
        "\n",
        "The gradient of the function $f(\\mathbf{x})$ is the vector of these partial derivatives:\n",
        "$$ \\nabla f(\\mathbf{x}) = \\left[\\frac{\\partial f}{\\partial x_1}, \\frac{\\partial f}{\\partial x_2}\\right]^\\top = [6x_1, 5e^{x_2}]^\\top $$\n",
        "\n",
        "Thus, the gradient of $f(\\mathbf{x}) = 3x_1^2 + 5e^{x_2}$ is $\\nabla f(\\mathbf{x}) = [6x_1, 5e^{x_2}]^\\top$."
      ],
      "id": "f5eba1e9"
    },
    {
      "cell_type": "markdown",
      "metadata": {
        "id": "a09d2828"
      },
      "source": [
        "### Exercise 6: Plot the function $y = f(x) = x^3 - \\frac{1}{x}$ and plot its tangent line at $x = 1$."
      ],
      "id": "a09d2828"
    },
    {
      "cell_type": "code",
      "metadata": {
        "colab": {
          "base_uri": "https://localhost:8080/",
          "height": 266
        },
        "id": "3a8047a7",
        "outputId": "e2cfb9d4-56f2-4628-a5b1-6317fd9a080a"
      },
      "source": [
        "import numpy as np\n",
        "from matplotlib_inline import backend_inline\n",
        "from d2l import torch as d2l\n",
        "import matplotlib.pyplot as plt\n",
        "\n",
        "# Define the function\n",
        "def f_ex6(x):\n",
        "    return x**3 - 1/x\n",
        "\n",
        "# Calculate the derivative of the function\n",
        "# f'(x) = 3x^2 + 1/x^2\n",
        "def df_ex6(x):\n",
        "    return 3 * x**2 + 1/x**2\n",
        "\n",
        "# Point of tangency\n",
        "x_tangent = 1\n",
        "y_tangent = f_ex6(x_tangent)\n",
        "slope_tangent = df_ex6(x_tangent)\n",
        "\n",
        "# Equation of the tangent line: y - y1 = m(x - x1)\n",
        "# y = m(x - x1) + y1\n",
        "# y = slope_tangent * (x - x_tangent) + y_tangent\n",
        "def tangent_line_ex6(x):\n",
        "    return slope_tangent * (x - x_tangent) + y_tangent\n",
        "\n",
        "# Generate x values for plotting\n",
        "x_values = np.arange(0.1, 3, 0.1) # Start from a small positive value to avoid division by zero\n",
        "\n",
        "# Plot the function and the tangent line\n",
        "d2l.set_figsize()\n",
        "d2l.plot(x_values, [f_ex6(x_values), tangent_line_ex6(x_values)], 'x', 'f(x)',\n",
        "         legend=['$x^3 - 1/x$', 'Tangent line at x=1'])"
      ],
      "id": "3a8047a7",
      "execution_count": 26,
      "outputs": [
        {
          "output_type": "display_data",
          "data": {
            "text/plain": [
              "<Figure size 350x250 with 1 Axes>"
            ],
            "image/svg+xml": "<?xml version=\"1.0\" encoding=\"utf-8\" standalone=\"no\"?>\n<!DOCTYPE svg PUBLIC \"-//W3C//DTD SVG 1.1//EN\"\n  \"http://www.w3.org/Graphics/SVG/1.1/DTD/svg11.dtd\">\n<svg xmlns:xlink=\"http://www.w3.org/1999/xlink\" width=\"252.127699pt\" height=\"183.35625pt\" viewBox=\"0 0 252.127699 183.35625\" xmlns=\"http://www.w3.org/2000/svg\" version=\"1.1\">\n <metadata>\n  <rdf:RDF xmlns:dc=\"http://purl.org/dc/elements/1.1/\" xmlns:cc=\"http://creativecommons.org/ns#\" xmlns:rdf=\"http://www.w3.org/1999/02/22-rdf-syntax-ns#\">\n   <cc:Work>\n    <dc:type rdf:resource=\"http://purl.org/dc/dcmitype/StillImage\"/>\n    <dc:date>2025-10-23T17:15:27.997161</dc:date>\n    <dc:format>image/svg+xml</dc:format>\n    <dc:creator>\n     <cc:Agent>\n      <dc:title>Matplotlib v3.10.0, https://matplotlib.org/</dc:title>\n     </cc:Agent>\n    </dc:creator>\n   </cc:Work>\n  </rdf:RDF>\n </metadata>\n <defs>\n  <style type=\"text/css\">*{stroke-linejoin: round; stroke-linecap: butt}</style>\n </defs>\n <g id=\"figure_1\">\n  <g id=\"patch_1\">\n   <path d=\"M -0 183.35625 \nL 252.127699 183.35625 \nL 252.127699 0 \nL -0 0 \nz\n\" style=\"fill: #ffffff\"/>\n  </g>\n  <g id=\"axes_1\">\n   <g id=\"patch_2\">\n    <path d=\"M 48.982813 145.8 \nL 244.282813 145.8 \nL 244.282813 7.2 \nL 48.982813 7.2 \nz\n\" style=\"fill: #ffffff\"/>\n   </g>\n   <g id=\"matplotlib.axis_1\">\n    <g id=\"xtick_1\">\n     <g id=\"line2d_1\">\n      <path d=\"M 51.519176 145.8 \nL 51.519176 7.2 \n\" clip-path=\"url(#p1045d3d4fa)\" style=\"fill: none; stroke: #b0b0b0; stroke-width: 0.8; stroke-linecap: square\"/>\n     </g>\n     <g id=\"line2d_2\">\n      <defs>\n       <path id=\"mceea1dfd5b\" d=\"M 0 0 \nL 0 3.5 \n\" style=\"stroke: #000000; stroke-width: 0.8\"/>\n      </defs>\n      <g>\n       <use xlink:href=\"#mceea1dfd5b\" x=\"51.519176\" y=\"145.8\" style=\"stroke: #000000; stroke-width: 0.8\"/>\n      </g>\n     </g>\n     <g id=\"text_1\">\n      <!-- 0 -->\n      <g transform=\"translate(48.337926 160.398438) scale(0.1 -0.1)\">\n       <defs>\n        <path id=\"DejaVuSans-30\" d=\"M 2034 4250 \nQ 1547 4250 1301 3770 \nQ 1056 3291 1056 2328 \nQ 1056 1369 1301 889 \nQ 1547 409 2034 409 \nQ 2525 409 2770 889 \nQ 3016 1369 3016 2328 \nQ 3016 3291 2770 3770 \nQ 2525 4250 2034 4250 \nz\nM 2034 4750 \nQ 2819 4750 3233 4129 \nQ 3647 3509 3647 2328 \nQ 3647 1150 3233 529 \nQ 2819 -91 2034 -91 \nQ 1250 -91 836 529 \nQ 422 1150 422 2328 \nQ 422 3509 836 4129 \nQ 1250 4750 2034 4750 \nz\n\" transform=\"scale(0.015625)\"/>\n       </defs>\n       <use xlink:href=\"#DejaVuSans-30\"/>\n      </g>\n     </g>\n    </g>\n    <g id=\"xtick_2\">\n     <g id=\"line2d_3\">\n      <path d=\"M 114.928267 145.8 \nL 114.928267 7.2 \n\" clip-path=\"url(#p1045d3d4fa)\" style=\"fill: none; stroke: #b0b0b0; stroke-width: 0.8; stroke-linecap: square\"/>\n     </g>\n     <g id=\"line2d_4\">\n      <g>\n       <use xlink:href=\"#mceea1dfd5b\" x=\"114.928267\" y=\"145.8\" style=\"stroke: #000000; stroke-width: 0.8\"/>\n      </g>\n     </g>\n     <g id=\"text_2\">\n      <!-- 1 -->\n      <g transform=\"translate(111.747017 160.398438) scale(0.1 -0.1)\">\n       <defs>\n        <path id=\"DejaVuSans-31\" d=\"M 794 531 \nL 1825 531 \nL 1825 4091 \nL 703 3866 \nL 703 4441 \nL 1819 4666 \nL 2450 4666 \nL 2450 531 \nL 3481 531 \nL 3481 0 \nL 794 0 \nL 794 531 \nz\n\" transform=\"scale(0.015625)\"/>\n       </defs>\n       <use xlink:href=\"#DejaVuSans-31\"/>\n      </g>\n     </g>\n    </g>\n    <g id=\"xtick_3\">\n     <g id=\"line2d_5\">\n      <path d=\"M 178.337358 145.8 \nL 178.337358 7.2 \n\" clip-path=\"url(#p1045d3d4fa)\" style=\"fill: none; stroke: #b0b0b0; stroke-width: 0.8; stroke-linecap: square\"/>\n     </g>\n     <g id=\"line2d_6\">\n      <g>\n       <use xlink:href=\"#mceea1dfd5b\" x=\"178.337358\" y=\"145.8\" style=\"stroke: #000000; stroke-width: 0.8\"/>\n      </g>\n     </g>\n     <g id=\"text_3\">\n      <!-- 2 -->\n      <g transform=\"translate(175.156108 160.398438) scale(0.1 -0.1)\">\n       <defs>\n        <path id=\"DejaVuSans-32\" d=\"M 1228 531 \nL 3431 531 \nL 3431 0 \nL 469 0 \nL 469 531 \nQ 828 903 1448 1529 \nQ 2069 2156 2228 2338 \nQ 2531 2678 2651 2914 \nQ 2772 3150 2772 3378 \nQ 2772 3750 2511 3984 \nQ 2250 4219 1831 4219 \nQ 1534 4219 1204 4116 \nQ 875 4013 500 3803 \nL 500 4441 \nQ 881 4594 1212 4672 \nQ 1544 4750 1819 4750 \nQ 2544 4750 2975 4387 \nQ 3406 4025 3406 3419 \nQ 3406 3131 3298 2873 \nQ 3191 2616 2906 2266 \nQ 2828 2175 2409 1742 \nQ 1991 1309 1228 531 \nz\n\" transform=\"scale(0.015625)\"/>\n       </defs>\n       <use xlink:href=\"#DejaVuSans-32\"/>\n      </g>\n     </g>\n    </g>\n    <g id=\"xtick_4\">\n     <g id=\"line2d_7\">\n      <path d=\"M 241.746449 145.8 \nL 241.746449 7.2 \n\" clip-path=\"url(#p1045d3d4fa)\" style=\"fill: none; stroke: #b0b0b0; stroke-width: 0.8; stroke-linecap: square\"/>\n     </g>\n     <g id=\"line2d_8\">\n      <g>\n       <use xlink:href=\"#mceea1dfd5b\" x=\"241.746449\" y=\"145.8\" style=\"stroke: #000000; stroke-width: 0.8\"/>\n      </g>\n     </g>\n     <g id=\"text_4\">\n      <!-- 3 -->\n      <g transform=\"translate(238.565199 160.398438) scale(0.1 -0.1)\">\n       <defs>\n        <path id=\"DejaVuSans-33\" d=\"M 2597 2516 \nQ 3050 2419 3304 2112 \nQ 3559 1806 3559 1356 \nQ 3559 666 3084 287 \nQ 2609 -91 1734 -91 \nQ 1441 -91 1130 -33 \nQ 819 25 488 141 \nL 488 750 \nQ 750 597 1062 519 \nQ 1375 441 1716 441 \nQ 2309 441 2620 675 \nQ 2931 909 2931 1356 \nQ 2931 1769 2642 2001 \nQ 2353 2234 1838 2234 \nL 1294 2234 \nL 1294 2753 \nL 1863 2753 \nQ 2328 2753 2575 2939 \nQ 2822 3125 2822 3475 \nQ 2822 3834 2567 4026 \nQ 2313 4219 1838 4219 \nQ 1578 4219 1281 4162 \nQ 984 4106 628 3988 \nL 628 4550 \nQ 988 4650 1302 4700 \nQ 1616 4750 1894 4750 \nQ 2613 4750 3031 4423 \nQ 3450 4097 3450 3541 \nQ 3450 3153 3228 2886 \nQ 3006 2619 2597 2516 \nz\n\" transform=\"scale(0.015625)\"/>\n       </defs>\n       <use xlink:href=\"#DejaVuSans-33\"/>\n      </g>\n     </g>\n    </g>\n    <g id=\"text_5\">\n     <!-- x -->\n     <g transform=\"translate(143.673438 174.076563) scale(0.1 -0.1)\">\n      <defs>\n       <path id=\"DejaVuSans-78\" d=\"M 3513 3500 \nL 2247 1797 \nL 3578 0 \nL 2900 0 \nL 1881 1375 \nL 863 0 \nL 184 0 \nL 1544 1831 \nL 300 3500 \nL 978 3500 \nL 1906 2253 \nL 2834 3500 \nL 3513 3500 \nz\n\" transform=\"scale(0.015625)\"/>\n      </defs>\n      <use xlink:href=\"#DejaVuSans-78\"/>\n     </g>\n    </g>\n   </g>\n   <g id=\"matplotlib.axis_2\">\n    <g id=\"ytick_1\">\n     <g id=\"line2d_9\">\n      <path d=\"M 48.982813 139.503701 \nL 244.282813 139.503701 \n\" clip-path=\"url(#p1045d3d4fa)\" style=\"fill: none; stroke: #b0b0b0; stroke-width: 0.8; stroke-linecap: square\"/>\n     </g>\n     <g id=\"line2d_10\">\n      <defs>\n       <path id=\"m84327944c7\" d=\"M 0 0 \nL -3.5 0 \n\" style=\"stroke: #000000; stroke-width: 0.8\"/>\n      </defs>\n      <g>\n       <use xlink:href=\"#m84327944c7\" x=\"48.982813\" y=\"139.503701\" style=\"stroke: #000000; stroke-width: 0.8\"/>\n      </g>\n     </g>\n     <g id=\"text_6\">\n      <!-- −10 -->\n      <g transform=\"translate(20.878125 143.30292) scale(0.1 -0.1)\">\n       <defs>\n        <path id=\"DejaVuSans-2212\" d=\"M 678 2272 \nL 4684 2272 \nL 4684 1741 \nL 678 1741 \nL 678 2272 \nz\n\" transform=\"scale(0.015625)\"/>\n       </defs>\n       <use xlink:href=\"#DejaVuSans-2212\"/>\n       <use xlink:href=\"#DejaVuSans-31\" transform=\"translate(83.789062 0)\"/>\n       <use xlink:href=\"#DejaVuSans-30\" transform=\"translate(147.412109 0)\"/>\n      </g>\n     </g>\n    </g>\n    <g id=\"ytick_2\">\n     <g id=\"line2d_11\">\n      <path d=\"M 48.982813 102.491874 \nL 244.282813 102.491874 \n\" clip-path=\"url(#p1045d3d4fa)\" style=\"fill: none; stroke: #b0b0b0; stroke-width: 0.8; stroke-linecap: square\"/>\n     </g>\n     <g id=\"line2d_12\">\n      <g>\n       <use xlink:href=\"#m84327944c7\" x=\"48.982813\" y=\"102.491874\" style=\"stroke: #000000; stroke-width: 0.8\"/>\n      </g>\n     </g>\n     <g id=\"text_7\">\n      <!-- 0 -->\n      <g transform=\"translate(35.620313 106.291093) scale(0.1 -0.1)\">\n       <use xlink:href=\"#DejaVuSans-30\"/>\n      </g>\n     </g>\n    </g>\n    <g id=\"ytick_3\">\n     <g id=\"line2d_13\">\n      <path d=\"M 48.982813 65.480048 \nL 244.282813 65.480048 \n\" clip-path=\"url(#p1045d3d4fa)\" style=\"fill: none; stroke: #b0b0b0; stroke-width: 0.8; stroke-linecap: square\"/>\n     </g>\n     <g id=\"line2d_14\">\n      <g>\n       <use xlink:href=\"#m84327944c7\" x=\"48.982813\" y=\"65.480048\" style=\"stroke: #000000; stroke-width: 0.8\"/>\n      </g>\n     </g>\n     <g id=\"text_8\">\n      <!-- 10 -->\n      <g transform=\"translate(29.257813 69.279266) scale(0.1 -0.1)\">\n       <use xlink:href=\"#DejaVuSans-31\"/>\n       <use xlink:href=\"#DejaVuSans-30\" transform=\"translate(63.623047 0)\"/>\n      </g>\n     </g>\n    </g>\n    <g id=\"ytick_4\">\n     <g id=\"line2d_15\">\n      <path d=\"M 48.982813 28.468221 \nL 244.282813 28.468221 \n\" clip-path=\"url(#p1045d3d4fa)\" style=\"fill: none; stroke: #b0b0b0; stroke-width: 0.8; stroke-linecap: square\"/>\n     </g>\n     <g id=\"line2d_16\">\n      <g>\n       <use xlink:href=\"#m84327944c7\" x=\"48.982813\" y=\"28.468221\" style=\"stroke: #000000; stroke-width: 0.8\"/>\n      </g>\n     </g>\n     <g id=\"text_9\">\n      <!-- 20 -->\n      <g transform=\"translate(29.257813 32.26744) scale(0.1 -0.1)\">\n       <use xlink:href=\"#DejaVuSans-32\"/>\n       <use xlink:href=\"#DejaVuSans-30\" transform=\"translate(63.623047 0)\"/>\n      </g>\n     </g>\n    </g>\n    <g id=\"text_10\">\n     <!-- f(x) -->\n     <g transform=\"translate(14.798438 85.121094) rotate(-90) scale(0.1 -0.1)\">\n      <defs>\n       <path id=\"DejaVuSans-66\" d=\"M 2375 4863 \nL 2375 4384 \nL 1825 4384 \nQ 1516 4384 1395 4259 \nQ 1275 4134 1275 3809 \nL 1275 3500 \nL 2222 3500 \nL 2222 3053 \nL 1275 3053 \nL 1275 0 \nL 697 0 \nL 697 3053 \nL 147 3053 \nL 147 3500 \nL 697 3500 \nL 697 3744 \nQ 697 4328 969 4595 \nQ 1241 4863 1831 4863 \nL 2375 4863 \nz\n\" transform=\"scale(0.015625)\"/>\n       <path id=\"DejaVuSans-28\" d=\"M 1984 4856 \nQ 1566 4138 1362 3434 \nQ 1159 2731 1159 2009 \nQ 1159 1288 1364 580 \nQ 1569 -128 1984 -844 \nL 1484 -844 \nQ 1016 -109 783 600 \nQ 550 1309 550 2009 \nQ 550 2706 781 3412 \nQ 1013 4119 1484 4856 \nL 1984 4856 \nz\n\" transform=\"scale(0.015625)\"/>\n       <path id=\"DejaVuSans-29\" d=\"M 513 4856 \nL 1013 4856 \nQ 1481 4119 1714 3412 \nQ 1947 2706 1947 2009 \nQ 1947 1309 1714 600 \nQ 1481 -109 1013 -844 \nL 513 -844 \nQ 928 -128 1133 580 \nQ 1338 1288 1338 2009 \nQ 1338 2731 1133 3434 \nQ 928 4138 513 4856 \nz\n\" transform=\"scale(0.015625)\"/>\n      </defs>\n      <use xlink:href=\"#DejaVuSans-66\"/>\n      <use xlink:href=\"#DejaVuSans-28\" transform=\"translate(35.205078 0)\"/>\n      <use xlink:href=\"#DejaVuSans-78\" transform=\"translate(74.21875 0)\"/>\n      <use xlink:href=\"#DejaVuSans-29\" transform=\"translate(133.398438 0)\"/>\n     </g>\n    </g>\n   </g>\n   <g id=\"line2d_17\">\n    <path d=\"M 57.860085 139.5 \nL 64.200994 120.968178 \nL 70.541903 114.729218 \nL 76.882812 111.507955 \nL 83.223722 109.431592 \nL 89.564631 107.861057 \nL 95.90554 106.509773 \nL 102.246449 105.223347 \nL 108.587358 103.906137 \nL 114.928267 102.491874 \nL 121.269176 100.930312 \nL 127.610085 99.18055 \nL 133.950994 97.20744 \nL 140.291903 94.979531 \nL 146.632812 92.467838 \nL 152.973722 89.645069 \nL 159.314631 86.48513 \nL 165.65554 82.96279 \nL 171.996449 79.053453 \nL 178.337358 74.733004 \nL 184.678267 69.97769 \nL 191.019176 64.764037 \nL 197.360085 59.068795 \nL 203.700994 52.868885 \nL 210.041903 46.141368 \nL 216.382812 38.863419 \nL 222.723722 31.012304 \nL 229.064631 22.565363 \nL 235.40554 13.5 \n\" clip-path=\"url(#p1045d3d4fa)\" style=\"fill: none; stroke: #1f77b4; stroke-width: 1.5; stroke-linecap: square\"/>\n   </g>\n   <g id=\"line2d_18\">\n    <path d=\"M 57.860085 115.816132 \nL 64.200994 114.335659 \nL 70.541903 112.855186 \nL 76.882812 111.374713 \nL 83.223722 109.89424 \nL 89.564631 108.413767 \nL 95.90554 106.933294 \nL 102.246449 105.452821 \nL 108.587358 103.972347 \nL 114.928267 102.491874 \nL 121.269176 101.011401 \nL 127.610085 99.530928 \nL 133.950994 98.050455 \nL 140.291903 96.569982 \nL 146.632812 95.089509 \nL 152.973722 93.609036 \nL 159.314631 92.128563 \nL 165.65554 90.64809 \nL 171.996449 89.167617 \nL 178.337358 87.687144 \nL 184.678267 86.206671 \nL 191.019176 84.726198 \nL 197.360085 83.245724 \nL 203.700994 81.765251 \nL 210.041903 80.284778 \nL 216.382812 78.804305 \nL 222.723722 77.323832 \nL 229.064631 75.843359 \nL 235.40554 74.362886 \n\" clip-path=\"url(#p1045d3d4fa)\" style=\"fill: none; stroke-dasharray: 5.55,2.4; stroke-dashoffset: 0; stroke: #bf00bf; stroke-width: 1.5\"/>\n   </g>\n   <g id=\"patch_3\">\n    <path d=\"M 48.982813 145.8 \nL 48.982813 7.2 \n\" style=\"fill: none; stroke: #000000; stroke-width: 0.8; stroke-linejoin: miter; stroke-linecap: square\"/>\n   </g>\n   <g id=\"patch_4\">\n    <path d=\"M 244.282813 145.8 \nL 244.282813 7.2 \n\" style=\"fill: none; stroke: #000000; stroke-width: 0.8; stroke-linejoin: miter; stroke-linecap: square\"/>\n   </g>\n   <g id=\"patch_5\">\n    <path d=\"M 48.982813 145.8 \nL 244.282813 145.8 \n\" style=\"fill: none; stroke: #000000; stroke-width: 0.8; stroke-linejoin: miter; stroke-linecap: square\"/>\n   </g>\n   <g id=\"patch_6\">\n    <path d=\"M 48.982813 7.2 \nL 244.282813 7.2 \n\" style=\"fill: none; stroke: #000000; stroke-width: 0.8; stroke-linejoin: miter; stroke-linecap: square\"/>\n   </g>\n   <g id=\"legend_1\">\n    <g id=\"patch_7\">\n     <path d=\"M 55.982813 44.978125 \nL 185.95625 44.978125 \nQ 187.95625 44.978125 187.95625 42.978125 \nL 187.95625 14.2 \nQ 187.95625 12.2 185.95625 12.2 \nL 55.982813 12.2 \nQ 53.982813 12.2 53.982813 14.2 \nL 53.982813 42.978125 \nQ 53.982813 44.978125 55.982813 44.978125 \nz\n\" style=\"fill: #ffffff; opacity: 0.8; stroke: #cccccc; stroke-linejoin: miter\"/>\n    </g>\n    <g id=\"line2d_19\">\n     <path d=\"M 57.982813 20.720313 \nL 67.982813 20.720313 \nL 77.982813 20.720313 \n\" style=\"fill: none; stroke: #1f77b4; stroke-width: 1.5; stroke-linecap: square\"/>\n    </g>\n    <g id=\"text_11\">\n     <!-- $x^3 - 1/x$ -->\n     <g transform=\"translate(85.982813 24.220313) scale(0.1 -0.1)\">\n      <defs>\n       <path id=\"DejaVuSans-Oblique-78\" d=\"M 3841 3500 \nL 2234 1784 \nL 3219 0 \nL 2559 0 \nL 1819 1388 \nL 531 0 \nL -166 0 \nL 1556 1844 \nL 641 3500 \nL 1300 3500 \nL 1972 2234 \nL 3144 3500 \nL 3841 3500 \nz\n\" transform=\"scale(0.015625)\"/>\n       <path id=\"DejaVuSans-2f\" d=\"M 1625 4666 \nL 2156 4666 \nL 531 -594 \nL 0 -594 \nL 1625 4666 \nz\n\" transform=\"scale(0.015625)\"/>\n      </defs>\n      <use xlink:href=\"#DejaVuSans-Oblique-78\" transform=\"translate(0 0.765625)\"/>\n      <use xlink:href=\"#DejaVuSans-33\" transform=\"translate(63.645833 39.046875) scale(0.7)\"/>\n      <use xlink:href=\"#DejaVuSans-2212\" transform=\"translate(130.398763 0.765625)\"/>\n      <use xlink:href=\"#DejaVuSans-31\" transform=\"translate(233.670247 0.765625)\"/>\n      <use xlink:href=\"#DejaVuSans-2f\" transform=\"translate(297.293294 0.765625)\"/>\n      <use xlink:href=\"#DejaVuSans-Oblique-78\" transform=\"translate(330.984701 0.765625)\"/>\n     </g>\n    </g>\n    <g id=\"line2d_20\">\n     <path d=\"M 57.982813 35.398438 \nL 67.982813 35.398438 \nL 77.982813 35.398438 \n\" style=\"fill: none; stroke-dasharray: 5.55,2.4; stroke-dashoffset: 0; stroke: #bf00bf; stroke-width: 1.5\"/>\n    </g>\n    <g id=\"text_12\">\n     <!-- Tangent line at x=1 -->\n     <g transform=\"translate(85.982813 38.898438) scale(0.1 -0.1)\">\n      <defs>\n       <path id=\"DejaVuSans-54\" d=\"M -19 4666 \nL 3928 4666 \nL 3928 4134 \nL 2272 4134 \nL 2272 0 \nL 1638 0 \nL 1638 4134 \nL -19 4134 \nL -19 4666 \nz\n\" transform=\"scale(0.015625)\"/>\n       <path id=\"DejaVuSans-61\" d=\"M 2194 1759 \nQ 1497 1759 1228 1600 \nQ 959 1441 959 1056 \nQ 959 750 1161 570 \nQ 1363 391 1709 391 \nQ 2188 391 2477 730 \nQ 2766 1069 2766 1631 \nL 2766 1759 \nL 2194 1759 \nz\nM 3341 1997 \nL 3341 0 \nL 2766 0 \nL 2766 531 \nQ 2569 213 2275 61 \nQ 1981 -91 1556 -91 \nQ 1019 -91 701 211 \nQ 384 513 384 1019 \nQ 384 1609 779 1909 \nQ 1175 2209 1959 2209 \nL 2766 2209 \nL 2766 2266 \nQ 2766 2663 2505 2880 \nQ 2244 3097 1772 3097 \nQ 1472 3097 1187 3025 \nQ 903 2953 641 2809 \nL 641 3341 \nQ 956 3463 1253 3523 \nQ 1550 3584 1831 3584 \nQ 2591 3584 2966 3190 \nQ 3341 2797 3341 1997 \nz\n\" transform=\"scale(0.015625)\"/>\n       <path id=\"DejaVuSans-6e\" d=\"M 3513 2113 \nL 3513 0 \nL 2938 0 \nL 2938 2094 \nQ 2938 2591 2744 2837 \nQ 2550 3084 2163 3084 \nQ 1697 3084 1428 2787 \nQ 1159 2491 1159 1978 \nL 1159 0 \nL 581 0 \nL 581 3500 \nL 1159 3500 \nL 1159 2956 \nQ 1366 3272 1645 3428 \nQ 1925 3584 2291 3584 \nQ 2894 3584 3203 3211 \nQ 3513 2838 3513 2113 \nz\n\" transform=\"scale(0.015625)\"/>\n       <path id=\"DejaVuSans-67\" d=\"M 2906 1791 \nQ 2906 2416 2648 2759 \nQ 2391 3103 1925 3103 \nQ 1463 3103 1205 2759 \nQ 947 2416 947 1791 \nQ 947 1169 1205 825 \nQ 1463 481 1925 481 \nQ 2391 481 2648 825 \nQ 2906 1169 2906 1791 \nz\nM 3481 434 \nQ 3481 -459 3084 -895 \nQ 2688 -1331 1869 -1331 \nQ 1566 -1331 1297 -1286 \nQ 1028 -1241 775 -1147 \nL 775 -588 \nQ 1028 -725 1275 -790 \nQ 1522 -856 1778 -856 \nQ 2344 -856 2625 -561 \nQ 2906 -266 2906 331 \nL 2906 616 \nQ 2728 306 2450 153 \nQ 2172 0 1784 0 \nQ 1141 0 747 490 \nQ 353 981 353 1791 \nQ 353 2603 747 3093 \nQ 1141 3584 1784 3584 \nQ 2172 3584 2450 3431 \nQ 2728 3278 2906 2969 \nL 2906 3500 \nL 3481 3500 \nL 3481 434 \nz\n\" transform=\"scale(0.015625)\"/>\n       <path id=\"DejaVuSans-65\" d=\"M 3597 1894 \nL 3597 1613 \nL 953 1613 \nQ 991 1019 1311 708 \nQ 1631 397 2203 397 \nQ 2534 397 2845 478 \nQ 3156 559 3463 722 \nL 3463 178 \nQ 3153 47 2828 -22 \nQ 2503 -91 2169 -91 \nQ 1331 -91 842 396 \nQ 353 884 353 1716 \nQ 353 2575 817 3079 \nQ 1281 3584 2069 3584 \nQ 2775 3584 3186 3129 \nQ 3597 2675 3597 1894 \nz\nM 3022 2063 \nQ 3016 2534 2758 2815 \nQ 2500 3097 2075 3097 \nQ 1594 3097 1305 2825 \nQ 1016 2553 972 2059 \nL 3022 2063 \nz\n\" transform=\"scale(0.015625)\"/>\n       <path id=\"DejaVuSans-74\" d=\"M 1172 4494 \nL 1172 3500 \nL 2356 3500 \nL 2356 3053 \nL 1172 3053 \nL 1172 1153 \nQ 1172 725 1289 603 \nQ 1406 481 1766 481 \nL 2356 481 \nL 2356 0 \nL 1766 0 \nQ 1100 0 847 248 \nQ 594 497 594 1153 \nL 594 3053 \nL 172 3053 \nL 172 3500 \nL 594 3500 \nL 594 4494 \nL 1172 4494 \nz\n\" transform=\"scale(0.015625)\"/>\n       <path id=\"DejaVuSans-20\" transform=\"scale(0.015625)\"/>\n       <path id=\"DejaVuSans-6c\" d=\"M 603 4863 \nL 1178 4863 \nL 1178 0 \nL 603 0 \nL 603 4863 \nz\n\" transform=\"scale(0.015625)\"/>\n       <path id=\"DejaVuSans-69\" d=\"M 603 3500 \nL 1178 3500 \nL 1178 0 \nL 603 0 \nL 603 3500 \nz\nM 603 4863 \nL 1178 4863 \nL 1178 4134 \nL 603 4134 \nL 603 4863 \nz\n\" transform=\"scale(0.015625)\"/>\n       <path id=\"DejaVuSans-3d\" d=\"M 678 2906 \nL 4684 2906 \nL 4684 2381 \nL 678 2381 \nL 678 2906 \nz\nM 678 1631 \nL 4684 1631 \nL 4684 1100 \nL 678 1100 \nL 678 1631 \nz\n\" transform=\"scale(0.015625)\"/>\n      </defs>\n      <use xlink:href=\"#DejaVuSans-54\"/>\n      <use xlink:href=\"#DejaVuSans-61\" transform=\"translate(44.583984 0)\"/>\n      <use xlink:href=\"#DejaVuSans-6e\" transform=\"translate(105.863281 0)\"/>\n      <use xlink:href=\"#DejaVuSans-67\" transform=\"translate(169.242188 0)\"/>\n      <use xlink:href=\"#DejaVuSans-65\" transform=\"translate(232.71875 0)\"/>\n      <use xlink:href=\"#DejaVuSans-6e\" transform=\"translate(294.242188 0)\"/>\n      <use xlink:href=\"#DejaVuSans-74\" transform=\"translate(357.621094 0)\"/>\n      <use xlink:href=\"#DejaVuSans-20\" transform=\"translate(396.830078 0)\"/>\n      <use xlink:href=\"#DejaVuSans-6c\" transform=\"translate(428.617188 0)\"/>\n      <use xlink:href=\"#DejaVuSans-69\" transform=\"translate(456.400391 0)\"/>\n      <use xlink:href=\"#DejaVuSans-6e\" transform=\"translate(484.183594 0)\"/>\n      <use xlink:href=\"#DejaVuSans-65\" transform=\"translate(547.5625 0)\"/>\n      <use xlink:href=\"#DejaVuSans-20\" transform=\"translate(609.085938 0)\"/>\n      <use xlink:href=\"#DejaVuSans-61\" transform=\"translate(640.873047 0)\"/>\n      <use xlink:href=\"#DejaVuSans-74\" transform=\"translate(702.152344 0)\"/>\n      <use xlink:href=\"#DejaVuSans-20\" transform=\"translate(741.361328 0)\"/>\n      <use xlink:href=\"#DejaVuSans-78\" transform=\"translate(773.148438 0)\"/>\n      <use xlink:href=\"#DejaVuSans-3d\" transform=\"translate(832.328125 0)\"/>\n      <use xlink:href=\"#DejaVuSans-31\" transform=\"translate(916.117188 0)\"/>\n     </g>\n    </g>\n   </g>\n  </g>\n </g>\n <defs>\n  <clipPath id=\"p1045d3d4fa\">\n   <rect x=\"48.982813\" y=\"7.2\" width=\"195.3\" height=\"138.6\"/>\n  </clipPath>\n </defs>\n</svg>\n"
          },
          "metadata": {}
        }
      ]
    },
    {
      "cell_type": "markdown",
      "metadata": {
        "id": "6eb941eb"
      },
      "source": [
        "### Exercise 5: What does it mean that $f'(x) = 0$ for some $x$? Give an example.\n",
        "\n",
        "When the derivative of a function $f'(x)$ is equal to 0 at a specific point $x$, it means that the instantaneous rate of change of the function at that point is zero. Geometrically, this means that the tangent line to the graph of the function at that point is horizontal.\n",
        "\n",
        "Points where the derivative is zero are often called **critical points**. These points can correspond to local maximums, local minimums, or saddle points of the function. At these points, the function is momentarily neither increasing nor decreasing.\n",
        "\n",
        "**Example:**\n",
        "\n",
        "Consider the function $f(x) = x^2$.\n",
        "The derivative of this function is $f'(x) = 2x$.\n",
        "\n",
        "We want to find where $f'(x) = 0$:\n",
        "$$ 2x = 0 $$\n",
        "$$ x = 0 $$\n",
        "\n",
        "So, for the function $f(x) = x^2$, the derivative is zero at $x = 0$.\n",
        "\n",
        "Let's look at the graph of $f(x) = x^2$:\n",
        "The graph is a parabola that opens upwards. At $x = 0$, the function reaches its minimum value. The tangent line at this point is a horizontal line along the x-axis, and its slope is 0. This confirms that $f'(0) = 0$ at the location of the minimum."
      ],
      "id": "6eb941eb"
    },
    {
      "cell_type": "markdown",
      "metadata": {
        "id": "87d6da06"
      },
      "source": [
        "### Exercise 4: Calculate the derivative of $f(x) = x^x$\n",
        "\n",
        "To calculate the derivative of $f(x) = x^x$, we can use logarithmic differentiation.\n",
        "\n",
        "Let $y = x^x$.\n",
        "Take the natural logarithm of both sides:\n",
        "$$ \\ln y = \\ln(x^x) $$\n",
        "Using the property of logarithms ($\\ln(a^b) = b \\ln a$):\n",
        "$$ \\ln y = x \\ln x $$\n",
        "Now, differentiate both sides with respect to $x$. On the left side, we use the chain rule:\n",
        "$$ \\frac{1}{y} \\frac{dy}{dx} = \\frac{d}{dx} (x \\ln x) $$\n",
        "On the right side, we use the product rule $\\frac{d}{dx} [u(x)v(x)] = u'(x)v(x) + u(x)v'(x)$, where $u(x) = x$ and $v(x) = \\ln x$.\n",
        "$$ \\frac{d}{dx} (x) = 1 $$\n",
        "$$ \\frac{d}{dx} (\\ln x) = \\frac{1}{x} $$\n",
        "So, applying the product rule:\n",
        "$$ \\frac{d}{dx} (x \\ln x) = (1)(\\ln x) + (x)\\left(\\frac{1}{x}\\right) = \\ln x + 1 $$\n",
        "Now substitute this back into the differentiated equation:\n",
        "$$ \\frac{1}{y} \\frac{dy}{dx} = \\ln x + 1 $$\n",
        "Finally, solve for $\\frac{dy}{dx}$ by multiplying both sides by $y$:\n",
        "$$ \\frac{dy}{dx} = y (\\ln x + 1) $$\n",
        "Substitute back $y = x^x$:\n",
        "$$ \\frac{dy}{dx} = x^x (\\ln x + 1) $$\n",
        "\n",
        "Thus, the derivative of $f(x) = x^x$ is $f'(x) = x^x (\\ln x + 1)$."
      ],
      "id": "87d6da06"
    },
    {
      "cell_type": "markdown",
      "metadata": {
        "id": "1a4411f7"
      },
      "source": [
        "### Exercise 3: Proving the Constant Multiple Rule from the Product Rule\n",
        "\n",
        "The product rule states that for two differentiable functions $f(x)$ and $g(x)$:\n",
        "$$ \\frac{d}{dx} [f(x) g(x)] = f(x) \\frac{d}{dx} g(x) + g(x) \\frac{d}{dx} f(x) $$\n",
        "The constant multiple rule states that for a differentiable function $f(x)$ and a constant $C$:\n",
        "$$ \\frac{d}{dx} [C f(x)] = C \\frac{d}{dx} f(x) $$\n",
        "\n",
        "To prove the constant multiple rule using the product rule, let $g(x) = C$, where $C$ is a constant.\n",
        "Then, apply the product rule to the function $C f(x)$:\n",
        "$$ \\frac{d}{dx} [C f(x)] = C \\frac{d}{dx} f(x) + f(x) \\frac{d}{dx} C $$\n",
        "From Exercise 1(i), we know that the derivative of a constant is 0, i.e., $\\frac{d}{dx} C = 0$.\n",
        "Substitute this into the equation:\n",
        "$$ \\frac{d}{dx} [C f(x)] = C \\frac{d}{dx} f(x) + f(x) \\cdot 0 $$\n",
        "$$ \\frac{d}{dx} [C f(x)] = C \\frac{d}{dx} f(x) $$\n",
        "Thus, the constant multiple rule is proven as a special case of the product rule."
      ],
      "id": "1a4411f7"
    },
    {
      "cell_type": "markdown",
      "metadata": {
        "id": "67004942"
      },
      "source": [
        "### Exercise 1: Proving Derivative Properties from the Definition\n",
        "\n",
        "The definition of the derivative of a function $f(x)$ is:\n",
        "$$f'(x) = \\lim_{h \\rightarrow 0} \\frac{f(x+h) - f(x)}{h}$$\n",
        "\n",
        "**(i) $f(x) = c$ (where $c$ is a constant)**\n",
        "\n",
        "Using the definition:\n",
        "$$f'(x) = \\lim_{h \\rightarrow 0} \\frac{f(x+h) - f(x)}{h} = \\lim_{h \\rightarrow 0} \\frac{c - c}{h} = \\lim_{h \\rightarrow 0} \\frac{0}{h} = \\lim_{h \\rightarrow 0} 0 = 0$$\n",
        "Thus, the derivative of a constant is 0.\n",
        "\n",
        "**(ii) $f(x) = x^n$ (for $n \\neq 0$)**\n",
        "\n",
        "Using the definition and the binomial expansion $(x+h)^n = x^n + nx^{n-1}h + \\frac{n(n-1)}{2}x^{n-2}h^2 + \\ldots + h^n$:\n",
        "$$f'(x) = \\lim_{h \\rightarrow 0} \\frac{(x+h)^n - x^n}{h} = \\lim_{h \\rightarrow 0} \\frac{(x^n + nx^{n-1}h + \\frac{n(n-1)}{2}x^{n-2}h^2 + \\ldots + h^n) - x^n}{h}$$\n",
        "$$f'(x) = \\lim_{h \\rightarrow 0} \\frac{nx^{n-1}h + \\frac{n(n-1)}{2}x^{n-2}h^2 + \\ldots + h^n}{h}$$\n",
        "$$f'(x) = \\lim_{h \\rightarrow 0} (nx^{n-1} + \\frac{n(n-1)}{2}x^{n-2}h + \\ldots + h^{n-1})$$\n",
        "As $h \\rightarrow 0$, all terms with $h$ go to zero:\n",
        "$$f'(x) = nx^{n-1}$$\n",
        "Thus, the derivative of $x^n$ is $nx^{n-1}$.\n",
        "\n",
        "**(iii) $f(x) = e^x$**\n",
        "\n",
        "Using the definition and the property $\\lim_{h \\rightarrow 0} \\frac{e^h - 1}{h} = 1$:\n",
        "$$f'(x) = \\lim_{h \\rightarrow 0} \\frac{e^{x+h} - e^x}{h} = \\lim_{h \\rightarrow 0} \\frac{e^x e^h - e^x}{h} = \\lim_{h \\rightarrow 0} e^x \\frac{e^h - 1}{h}$$\n",
        "$$f'(x) = e^x \\lim_{h \\rightarrow 0} \\frac{e^h - 1}{h} = e^x \\cdot 1 = e^x$$\n",
        "Thus, the derivative of $e^x$ is $e^x$.\n",
        "\n",
        "**(iv) $f(x) = \\ln x$**\n",
        "\n",
        "Using the definition and the property $\\lim_{h \\rightarrow 0} \\frac{\\ln(1+h)}{h} = 1$:\n",
        "$$f'(x) = \\lim_{h \\rightarrow 0} \\frac{\\ln(x+h) - \\ln x}{h} = \\lim_{h \\rightarrow 0} \\frac{\\ln(\\frac{x+h}{x})}{h} = \\lim_{h \\rightarrow 0} \\frac{\\ln(1 + \\frac{h}{x})}{h}$$\n",
        "Let $k = \\frac{h}{x}$. As $h \\rightarrow 0$, $k \\rightarrow 0$. Also, $h = kx$.\n",
        "$$f'(x) = \\lim_{k \\rightarrow 0} \\frac{\\ln(1 + k)}{kx} = \\lim_{k \\rightarrow 0} \\frac{1}{x} \\cdot \\frac{\\ln(1 + k)}{k}$$\n",
        "$$f'(x) = \\frac{1}{x} \\lim_{k \\rightarrow 0} \\frac{\\ln(1 + k)}{k} = \\frac{1}{x} \\cdot 1 = \\frac{1}{x}$$\n",
        "Thus, the derivative of $\\ln x$ is $\\frac{1}{x}$."
      ],
      "id": "67004942"
    },
    {
      "cell_type": "markdown",
      "metadata": {
        "id": "d34bdd28"
      },
      "source": [
        "### Exercise 2: Proving Product, Sum, and Quotient Rules\n",
        "\n",
        "The definition of the derivative of a function $f(x)$ is:\n",
        "$$f'(x) = \\lim_{h \\rightarrow 0} \\frac{f(x+h) - f(x)}{h}$$\n",
        "\n",
        "**(i) Sum Rule: $\\frac{d}{dx} [f(x) + g(x)] = \\frac{d}{dx} f(x) + \\frac{d}{dx} g(x)$**\n",
        "\n",
        "Let $H(x) = f(x) + g(x)$. Using the definition of the derivative:\n",
        "$$H'(x) = \\lim_{h \\rightarrow 0} \\frac{H(x+h) - H(x)}{h} = \\lim_{h \\rightarrow 0} \\frac{[f(x+h) + g(x+h)] - [f(x) + g(x)]}{h}$$\n",
        "$$H'(x) = \\lim_{h \\rightarrow 0} \\frac{f(x+h) - f(x) + g(x+h) - g(x)}{h} = \\lim_{h \\rightarrow 0} \\left( \\frac{f(x+h) - f(x)}{h} + \\frac{g(x+h) - g(x)}{h} \\right)$$\n",
        "Since the limit of a sum is the sum of the limits (if they exist):\n",
        "$$H'(x) = \\lim_{h \\rightarrow 0} \\frac{f(x+h) - f(x)}{h} + \\lim_{h \\rightarrow 0} \\frac{g(x+h) - g(x)}{h} = f'(x) + g'(x)$$\n",
        "Thus, the sum rule is proven.\n",
        "\n",
        "**(ii) Product Rule: $\\frac{d}{dx} [f(x) g(x)] = f(x) \\frac{d}{dx} g(x) + g(x) \\frac{d}{dx} f(x)$**\n",
        "\n",
        "Let $P(x) = f(x) g(x)$. Using the definition of the derivative and adding and subtracting $f(x+h)g(x)$ in the numerator:\n",
        "$$P'(x) = \\lim_{h \\rightarrow 0} \\frac{P(x+h) - P(x)}{h} = \\lim_{h \\rightarrow 0} \\frac{f(x+h) g(x+h) - f(x) g(x)}{h}$$\n",
        "$$P'(x) = \\lim_{h \\rightarrow 0} \\frac{f(x+h) g(x+h) - f(x+h) g(x) + f(x+h) g(x) - f(x) g(x)}{h}$$\n",
        "$$P'(x) = \\lim_{h \\rightarrow 0} \\frac{f(x+h) [g(x+h) - g(x)] + g(x) [f(x+h) - f(x)]}{h}$$\n",
        "$$P'(x) = \\lim_{h \\rightarrow 0} \\left( f(x+h) \\frac{g(x+h) - g(x)}{h} + g(x) \\frac{f(x+h) - f(x)}{h} \\right)$$\n",
        "Since $\\lim_{h \\rightarrow 0} f(x+h) = f(x)$ (because f is differentiable, it must be continuous), and using the property that the limit of a product is the product of the limits:\n",
        "$$P'(x) = \\lim_{h \\rightarrow 0} f(x+h) \\cdot \\lim_{h \\rightarrow 0} \\frac{g(x+h) - g(x)}{h} + \\lim_{h \\rightarrow 0} g(x) \\cdot \\lim_{h \\rightarrow 0} \\frac{f(x+h) - f(x)}{h}$$\n",
        "$$P'(x) = f(x) g'(x) + g(x) f'(x)$$\n",
        "Thus, the product rule is proven.\n",
        "\n",
        "**(iii) Quotient Rule: $\\frac{d}{dx} \\frac{f(x)}{g(x)} = \\frac{g(x) \\frac{d}{dx} f(x) - f(x) \\frac{d}{dx} g(x)}{g^2(x)}$ (where $g(x) \\neq 0$)**\n",
        "\n",
        "Let $Q(x) = \\frac{f(x)}{g(x)}$. Using the definition of the derivative and a common algebraic manipulation:\n",
        "$$Q'(x) = \\lim_{h \\rightarrow 0} \\frac{Q(x+h) - Q(x)}{h} = \\lim_{h \\rightarrow 0} \\frac{\\frac{f(x+h)}{g(x+h)} - \\frac{f(x)}{g(x)}}{h}$$\n",
        "$$Q'(x) = \\lim_{h \\rightarrow 0} \\frac{\\frac{f(x+h)g(x) - f(x)g(x+h)}{g(x+h)g(x)}}{h} = \\lim_{h \\rightarrow 0} \\frac{f(x+h)g(x) - f(x)g(x+h)}{h g(x+h)g(x)}$$\n",
        "Add and subtract $f(x)g(x)$ in the numerator:\n",
        "$$Q'(x) = \\lim_{h \\rightarrow 0} \\frac{f(x+h)g(x) - f(x)g(x) + f(x)g(x) - f(x)g(x+h)}{h g(x+h)g(x)}$$\n",
        "$$Q'(x) = \\lim_{h \\rightarrow 0} \\frac{g(x)[f(x+h) - f(x)] - f(x)[g(x+h) - g(x)]}{h g(x+h)g(x)}$$\n",
        "$$Q'(x) = \\lim_{h \\rightarrow 0} \\frac{1}{g(x+h)g(x)} \\left( g(x) \\frac{f(x+h) - f(x)}{h} - f(x) \\frac{g(x+h) - g(x)}{h} \\right)$$\n",
        "Since $\\lim_{h \\rightarrow 0} g(x+h) = g(x)$ (because g is differentiable, it must be continuous), and using the properties of limits:\n",
        "$$Q'(x) = \\frac{1}{g(x)g(x)} \\left( g(x) \\lim_{h \\rightarrow 0} \\frac{f(x+h) - f(x)}{h} - f(x) \\lim_{h \\rightarrow 0} \\frac{g(x+h) - g(x)}{h} \\right)$$\n",
        "$$Q'(x) = \\frac{g(x)f'(x) - f(x)g'(x)}{[g(x)]^2}$$\n",
        "Thus, the quotient rule is proven."
      ],
      "id": "d34bdd28"
    },
    {
      "cell_type": "markdown",
      "id": "e6a8d8e9",
      "metadata": {
        "origin_pos": 25,
        "tab": [
          "pytorch"
        ],
        "id": "e6a8d8e9"
      },
      "source": [
        "[Discussions](https://discuss.d2l.ai/t/33)\n"
      ]
    }
  ],
  "metadata": {
    "kernelspec": {
      "display_name": "Python 3",
      "name": "python3"
    },
    "language_info": {
      "name": "python"
    },
    "required_libs": [],
    "colab": {
      "provenance": []
    }
  },
  "nbformat": 4,
  "nbformat_minor": 5
}