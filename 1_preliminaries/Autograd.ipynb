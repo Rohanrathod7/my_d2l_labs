{
  "cells": [
    {
      "cell_type": "markdown",
      "id": "4144c129",
      "metadata": {
        "origin_pos": 1,
        "id": "4144c129"
      },
      "source": [
        "# Automatic Differentiation\n",
        ":label:`sec_autograd`\n",
        "\n",
        "Recall from :numref:`sec_calculus`\n",
        "that calculating derivatives is the crucial step\n",
        "in all the optimization algorithms\n",
        "that we will use to train deep networks.\n",
        "While the calculations are straightforward,\n",
        "working them out by hand can be tedious and error-prone,\n",
        "and these issues only grow\n",
        "as our models become more complex.\n",
        "\n",
        "Fortunately all modern deep learning frameworks\n",
        "take this work off our plates\n",
        "by offering *automatic differentiation*\n",
        "(often shortened to *autograd*).\n",
        "As we pass data through each successive function,\n",
        "the framework builds a *computational graph*\n",
        "that tracks how each value depends on others.\n",
        "To calculate derivatives,\n",
        "automatic differentiation\n",
        "works backwards through this graph\n",
        "applying the chain rule.\n",
        "The computational algorithm for applying the chain rule\n",
        "in this fashion is called *backpropagation*.\n",
        "\n",
        "While autograd libraries have become\n",
        "a hot concern over the past decade,\n",
        "they have a long history.\n",
        "In fact the earliest references to autograd\n",
        "date back over half of a century :cite:`Wengert.1964`.\n",
        "The core ideas behind modern backpropagation\n",
        "date to a PhD thesis from 1980 :cite:`Speelpenning.1980`\n",
        "and were further developed in the late 1980s :cite:`Griewank.1989`.\n",
        "While backpropagation has become the default method\n",
        "for computing gradients, it is not the only option.\n",
        "For instance, the Julia programming language employs\n",
        "forward propagation :cite:`Revels.Lubin.Papamarkou.2016`.\n",
        "Before exploring methods,\n",
        "let's first master the autograd package.\n"
      ]
    },
    {
      "cell_type": "code",
      "execution_count": null,
      "id": "130439cd",
      "metadata": {
        "execution": {
          "iopub.execute_input": "2023-08-18T19:26:08.286501Z",
          "iopub.status.busy": "2023-08-18T19:26:08.285693Z",
          "iopub.status.idle": "2023-08-18T19:26:10.052257Z",
          "shell.execute_reply": "2023-08-18T19:26:10.050994Z"
        },
        "origin_pos": 3,
        "tab": [
          "pytorch"
        ],
        "id": "130439cd"
      },
      "outputs": [],
      "source": [
        "import torch"
      ]
    },
    {
      "cell_type": "markdown",
      "id": "e2ab3850",
      "metadata": {
        "origin_pos": 6,
        "id": "e2ab3850"
      },
      "source": [
        "## A Simple Function\n",
        "\n",
        "Let's assume that we are interested\n",
        "in (**differentiating the function\n",
        "$y = 2\\mathbf{x}^{\\top}\\mathbf{x}$\n",
        "with respect to the column vector $\\mathbf{x}$.**)\n",
        "To start, we assign `x` an initial value.\n"
      ]
    },
    {
      "cell_type": "code",
      "execution_count": null,
      "id": "4253cfab",
      "metadata": {
        "attributes": {
          "classes": [],
          "id": "",
          "n": "7"
        },
        "execution": {
          "iopub.execute_input": "2023-08-18T19:26:10.056833Z",
          "iopub.status.busy": "2023-08-18T19:26:10.055871Z",
          "iopub.status.idle": "2023-08-18T19:26:10.084858Z",
          "shell.execute_reply": "2023-08-18T19:26:10.083727Z"
        },
        "origin_pos": 8,
        "tab": [
          "pytorch"
        ],
        "id": "4253cfab",
        "outputId": "f511fbbb-34b0-459d-df3d-40cd0ead74bf"
      },
      "outputs": [
        {
          "data": {
            "text/plain": [
              "tensor([0., 1., 2., 3.])"
            ]
          },
          "execution_count": 2,
          "metadata": {},
          "output_type": "execute_result"
        }
      ],
      "source": [
        "x = torch.arange(4.0)\n",
        "x"
      ]
    },
    {
      "cell_type": "markdown",
      "id": "e75614b0",
      "metadata": {
        "origin_pos": 11,
        "tab": [
          "pytorch"
        ],
        "id": "e75614b0"
      },
      "source": [
        "[**Before we calculate the gradient\n",
        "of $y$ with respect to $\\mathbf{x}$,\n",
        "we need a place to store it.**]\n",
        "In general, we avoid allocating new memory\n",
        "every time we take a derivative\n",
        "because deep learning requires\n",
        "successively computing derivatives\n",
        "with respect to the same parameters\n",
        "a great many times,\n",
        "and we might risk running out of memory.\n",
        "Note that the gradient of a scalar-valued function\n",
        "with respect to a vector $\\mathbf{x}$\n",
        "is vector-valued with\n",
        "the same shape as $\\mathbf{x}$.\n"
      ]
    },
    {
      "cell_type": "code",
      "execution_count": null,
      "id": "2a001d1e",
      "metadata": {
        "attributes": {
          "classes": [],
          "id": "",
          "n": "9"
        },
        "execution": {
          "iopub.execute_input": "2023-08-18T19:26:10.088716Z",
          "iopub.status.busy": "2023-08-18T19:26:10.087816Z",
          "iopub.status.idle": "2023-08-18T19:26:10.092878Z",
          "shell.execute_reply": "2023-08-18T19:26:10.091740Z"
        },
        "origin_pos": 13,
        "tab": [
          "pytorch"
        ],
        "id": "2a001d1e"
      },
      "outputs": [],
      "source": [
        "# Can also create x = torch.arange(4.0, requires_grad=True)\n",
        "x.requires_grad_(True)\n",
        "x.grad  # The gradient is None by default"
      ]
    },
    {
      "cell_type": "markdown",
      "id": "2e74bc02",
      "metadata": {
        "origin_pos": 15,
        "id": "2e74bc02"
      },
      "source": [
        "(**We now calculate our function of `x` and assign the result to `y`.**)\n"
      ]
    },
    {
      "cell_type": "code",
      "execution_count": null,
      "id": "6e3bd777",
      "metadata": {
        "attributes": {
          "classes": [],
          "id": "",
          "n": "11"
        },
        "execution": {
          "iopub.execute_input": "2023-08-18T19:26:10.096336Z",
          "iopub.status.busy": "2023-08-18T19:26:10.095772Z",
          "iopub.status.idle": "2023-08-18T19:26:10.105236Z",
          "shell.execute_reply": "2023-08-18T19:26:10.104075Z"
        },
        "origin_pos": 17,
        "tab": [
          "pytorch"
        ],
        "id": "6e3bd777",
        "outputId": "c0659bb2-16dc-4e1e-e966-a058c8975da3"
      },
      "outputs": [
        {
          "data": {
            "text/plain": [
              "tensor(28., grad_fn=<MulBackward0>)"
            ]
          },
          "execution_count": 4,
          "metadata": {},
          "output_type": "execute_result"
        }
      ],
      "source": [
        "y = 2 * torch.dot(x, x)\n",
        "y"
      ]
    },
    {
      "cell_type": "markdown",
      "id": "c3067490",
      "metadata": {
        "origin_pos": 21,
        "tab": [
          "pytorch"
        ],
        "id": "c3067490"
      },
      "source": [
        "[**We can now take the gradient of `y`\n",
        "with respect to `x`**] by calling\n",
        "its `backward` method.\n",
        "Next, we can access the gradient\n",
        "via `x`'s `grad` attribute.\n"
      ]
    },
    {
      "cell_type": "code",
      "execution_count": null,
      "id": "21b134ae",
      "metadata": {
        "attributes": {
          "classes": [],
          "id": "",
          "n": "12"
        },
        "execution": {
          "iopub.execute_input": "2023-08-18T19:26:10.108600Z",
          "iopub.status.busy": "2023-08-18T19:26:10.108011Z",
          "iopub.status.idle": "2023-08-18T19:26:10.160854Z",
          "shell.execute_reply": "2023-08-18T19:26:10.159702Z"
        },
        "origin_pos": 25,
        "tab": [
          "pytorch"
        ],
        "id": "21b134ae",
        "outputId": "adb4e3f9-6149-41f8-d3e1-d5e15903483c"
      },
      "outputs": [
        {
          "data": {
            "text/plain": [
              "tensor([ 0.,  4.,  8., 12.])"
            ]
          },
          "execution_count": 5,
          "metadata": {},
          "output_type": "execute_result"
        }
      ],
      "source": [
        "y.backward()\n",
        "x.grad"
      ]
    },
    {
      "cell_type": "markdown",
      "id": "17d1390b",
      "metadata": {
        "origin_pos": 28,
        "id": "17d1390b"
      },
      "source": [
        "(**We already know that the gradient of the function $y = 2\\mathbf{x}^{\\top}\\mathbf{x}$\n",
        "with respect to $\\mathbf{x}$ should be $4\\mathbf{x}$.**)\n",
        "We can now verify that the automatic gradient computation\n",
        "and the expected result are identical.\n"
      ]
    },
    {
      "cell_type": "code",
      "execution_count": null,
      "id": "5030e37d",
      "metadata": {
        "attributes": {
          "classes": [],
          "id": "",
          "n": "14"
        },
        "execution": {
          "iopub.execute_input": "2023-08-18T19:26:10.164665Z",
          "iopub.status.busy": "2023-08-18T19:26:10.163930Z",
          "iopub.status.idle": "2023-08-18T19:26:10.171033Z",
          "shell.execute_reply": "2023-08-18T19:26:10.169923Z"
        },
        "origin_pos": 30,
        "tab": [
          "pytorch"
        ],
        "id": "5030e37d",
        "outputId": "cef6fff2-c96a-4739-edc0-c2bca2038402"
      },
      "outputs": [
        {
          "data": {
            "text/plain": [
              "tensor([True, True, True, True])"
            ]
          },
          "execution_count": 6,
          "metadata": {},
          "output_type": "execute_result"
        }
      ],
      "source": [
        "x.grad == 4 * x"
      ]
    },
    {
      "cell_type": "markdown",
      "source": [
        "### 1️⃣ Creating a Tensor\n",
        "x = torch.arange(4.0)\n",
        "\n",
        "\n",
        "torch.arange(4.0) creates a tensor: [0., 1., 2., 3.]\n",
        "\n",
        "By default, PyTorch doesn’t track gradients for this tensor yet.\n",
        "\n",
        "This means PyTorch won’t remember operations on x for backpropagation until you tell it to.\n",
        "\n",
        "### 2️⃣ Enabling Gradient Tracking\n",
        "x.requires_grad_(True)\n",
        "\n",
        "\n",
        "This tells PyTorch: “I want to compute derivatives with respect to x.”\n",
        "\n",
        "After this, PyTorch will remember the operations performed on x so it can calculate gradients later.\n",
        "\n",
        "x.grad is initially None because we haven’t computed any gradient yet.\n",
        "\n",
        "### 3️⃣ Defining a Function of x\n",
        "y = 2 * torch.dot(x, x)\n",
        "\n",
        "\n",
        "torch.dot(x, x) computes the dot product of x with itself:\n",
        "\n",
        "𝑥\n",
        "⋅\n",
        "𝑥\n",
        "=\n",
        "0\n",
        "∗\n",
        "0\n",
        "+\n",
        "1\n",
        "∗\n",
        "1\n",
        "+\n",
        "2\n",
        "∗\n",
        "2\n",
        "+\n",
        "3\n",
        "∗\n",
        "3\n",
        "=\n",
        "14\n",
        "x⋅x=0∗0+1∗1+2∗2+3∗3=14\n",
        "\n",
        "Multiply by 2 → y = 28\n",
        "\n",
        "PyTorch automatically remembers how y depends on x through a computational graph.\n",
        "\n",
        "Notice:\n",
        "\n",
        "y\n",
        "tensor(28., grad_fn=<MulBackward0>)\n",
        "\n",
        "\n",
        "grad_fn indicates PyTorch remembers the operation for backpropagation.\n",
        "\n",
        "###4️⃣ Computing the Gradient\n",
        "y.backward()\n",
        "\n",
        "\n",
        ".backward() tells PyTorch: “Compute the derivative of y with respect to all tensors that have requires_grad=True.”\n",
        "\n",
        "Here, it computes:\n",
        "\n",
        "𝑑\n",
        "𝑦\n",
        "𝑑\n",
        "𝑥\n",
        "=\n",
        "𝑑\n",
        "(\n",
        "2\n",
        "⋅\n",
        "𝑥\n",
        "⋅\n",
        "𝑥\n",
        ")\n",
        "𝑑\n",
        "𝑥\n",
        "=\n",
        "4\n",
        "𝑥\n",
        "dx\n",
        "dy\n",
        "\t​\n",
        "\n",
        "=\n",
        "dx\n",
        "d(2⋅x⋅x)\n",
        "\t​\n",
        "\n",
        "=4x\n",
        "###5️⃣ Accessing the Gradient\n",
        "x.grad\n",
        "\n",
        "\n",
        "Returns the gradient of y with respect to x: [0., 4., 8., 12.]\n",
        "\n",
        "Check:\n",
        "\n",
        "For x = 0 → 4*0 = 0\n",
        "\n",
        "For x = 1 → 4*1 = 4\n",
        "\n",
        "For x = 2 → 4*2 = 8\n",
        "\n",
        "For x = 3 → 4*3 = 12\n",
        "\n",
        "✅ This is exactly what you would expect from the derivative formula.\n",
        "\n",
        "###6️⃣ Why We Do This\n",
        "\n",
        "Deep learning requires gradients to update weights.\n",
        "\n",
        "By using .backward(), PyTorch calculates how changing each element of x changes y.\n",
        "\n",
        "PyTorch uses memory-efficient computation so it doesn’t allocate new memory for every derivative — it reuses the same memory for gradients of large models.\n",
        "\n",
        "###7️⃣ Summary\n",
        "\n",
        "Create tensor → torch.arange().\n",
        "\n",
        "Enable gradient tracking → requires_grad=True.\n",
        "\n",
        "Define a function → y = 2 * torch.dot(x, x).\n",
        "\n",
        "Compute gradient → y.backward().\n",
        "\n",
        "Access gradient → x.grad\n",
        "\n",
        "This is exactly how backpropagation works in neural networks: compute derivatives of a scalar (loss) with respect to a vector (weights) efficiently."
      ],
      "metadata": {
        "id": "KCByjrimOL3n"
      },
      "id": "KCByjrimOL3n"
    },
    {
      "cell_type": "markdown",
      "id": "da440e48",
      "metadata": {
        "origin_pos": 34,
        "tab": [
          "pytorch"
        ],
        "id": "da440e48"
      },
      "source": [
        "[**Now let's calculate\n",
        "another function of `x`\n",
        "and take its gradient.**]\n",
        "Note that PyTorch does not automatically\n",
        "reset the gradient buffer\n",
        "when we record a new gradient.\n",
        "Instead, the new gradient\n",
        "is added to the already-stored gradient.\n",
        "This behavior comes in handy\n",
        "when we want to optimize the sum\n",
        "of multiple objective functions.\n",
        "To reset the gradient buffer,\n",
        "we can call `x.grad.zero_()` as follows:\n"
      ]
    },
    {
      "cell_type": "code",
      "execution_count": null,
      "id": "add5cf4b",
      "metadata": {
        "attributes": {
          "classes": [],
          "id": "",
          "n": "20"
        },
        "execution": {
          "iopub.execute_input": "2023-08-18T19:26:10.174691Z",
          "iopub.status.busy": "2023-08-18T19:26:10.173957Z",
          "iopub.status.idle": "2023-08-18T19:26:10.181847Z",
          "shell.execute_reply": "2023-08-18T19:26:10.180759Z"
        },
        "origin_pos": 37,
        "tab": [
          "pytorch"
        ],
        "id": "add5cf4b",
        "outputId": "84b91c97-6974-4372-8a50-b932c5a5db23"
      },
      "outputs": [
        {
          "data": {
            "text/plain": [
              "tensor([1., 1., 1., 1.])"
            ]
          },
          "execution_count": 7,
          "metadata": {},
          "output_type": "execute_result"
        }
      ],
      "source": [
        "x.grad.zero_()  # Reset the gradient\n",
        "y = x.sum()\n",
        "y.backward()\n",
        "x.grad"
      ]
    },
    {
      "cell_type": "markdown",
      "id": "8bdd4c0c",
      "metadata": {
        "origin_pos": 40,
        "id": "8bdd4c0c"
      },
      "source": [
        "## Backward for Non-Scalar Variables\n",
        "\n",
        "When `y` is a vector,\n",
        "the most natural representation\n",
        "of the derivative of  `y`\n",
        "with respect to a vector `x`\n",
        "is a matrix called the *Jacobian*\n",
        "that contains the partial derivatives\n",
        "of each component of `y`\n",
        "with respect to each component of `x`.\n",
        "Likewise, for higher-order `y` and `x`,\n",
        "the result of differentiation could be an even higher-order tensor.\n",
        "\n",
        "While Jacobians do show up in some\n",
        "advanced machine learning techniques,\n",
        "more commonly we want to sum up\n",
        "the gradients of each component of `y`\n",
        "with respect to the full vector `x`,\n",
        "yielding a vector of the same shape as `x`.\n",
        "For example, we often have a vector\n",
        "representing the value of our loss function\n",
        "calculated separately for each example among\n",
        "a *batch* of training examples.\n",
        "Here, we just want to (**sum up the gradients\n",
        "computed individually for each example**).\n"
      ]
    },
    {
      "cell_type": "markdown",
      "id": "9dda7124",
      "metadata": {
        "origin_pos": 42,
        "tab": [
          "pytorch"
        ],
        "id": "9dda7124"
      },
      "source": [
        "Because deep learning frameworks vary\n",
        "in how they interpret gradients of\n",
        "non-scalar tensors,\n",
        "PyTorch takes some steps to avoid confusion.\n",
        "Invoking `backward` on a non-scalar elicits an error\n",
        "unless we tell PyTorch how to reduce the object to a scalar.\n",
        "More formally, we need to provide some vector $\\mathbf{v}$\n",
        "such that `backward` will compute\n",
        "$\\mathbf{v}^\\top \\partial_{\\mathbf{x}} \\mathbf{y}$\n",
        "rather than $\\partial_{\\mathbf{x}} \\mathbf{y}$.\n",
        "This next part may be confusing,\n",
        "but for reasons that will become clear later,\n",
        "this argument (representing $\\mathbf{v}$) is named `gradient`.\n",
        "For a more detailed description, see Yang Zhang's\n",
        "[Medium post](https://zhang-yang.medium.com/the-gradient-argument-in-pytorchs-backward-function-explained-by-examples-68f266950c29).\n"
      ]
    },
    {
      "cell_type": "code",
      "execution_count": null,
      "id": "1baa40bd",
      "metadata": {
        "execution": {
          "iopub.execute_input": "2023-08-18T19:26:10.185096Z",
          "iopub.status.busy": "2023-08-18T19:26:10.184685Z",
          "iopub.status.idle": "2023-08-18T19:26:10.192537Z",
          "shell.execute_reply": "2023-08-18T19:26:10.191435Z"
        },
        "origin_pos": 45,
        "tab": [
          "pytorch"
        ],
        "id": "1baa40bd",
        "outputId": "610795a1-4b65-4a8d-e713-5db6e88f9d39"
      },
      "outputs": [
        {
          "data": {
            "text/plain": [
              "tensor([0., 2., 4., 6.])"
            ]
          },
          "execution_count": 8,
          "metadata": {},
          "output_type": "execute_result"
        }
      ],
      "source": [
        "x.grad.zero_()\n",
        "y = x * x\n",
        "y.backward(gradient=torch.ones(len(y)))  # Faster: y.sum().backward()\n",
        "x.grad"
      ]
    },
    {
      "cell_type": "markdown",
      "source": [
        "Absolutely! Let’s go through a practical example so you can see why PyTorch treats gradients this way for vectors, and how it’s used in real deep learning.\n",
        "\n",
        "### Scenario: Mini-Batch Loss in Neural Networks\n",
        "\n",
        "**Imagine you are training a neural network for regression:**\n",
        "\n",
        "You have 4 training examples in a batch.\n",
        "\n",
        "Your model predicts some values x (for simplicity, let’s use a single parameter for each example).\n",
        "\n",
        "You calculate the squared error for each example:\n",
        "\n",
        "\n",
        "x = torch.tensor([0., 1., 2., 3.], requires_grad=True)  # predictions\n",
        "target = torch.tensor([0., 2., 4., 6.])                # true values\n",
        "\n",
        "y = (x - target) ** 2  # squared error for each example\n",
        "\n",
        "\n",
        "Here, y is a vector: [ (0-0)^2, (1-2)^2, (2-4)^2, (3-6)^2 ] = [0, 1, 4, 9]\n",
        "\n",
        "Each element represents the loss for a single training example.\n",
        "\n",
        "Step 1: Summing the Loss\n",
        "\n",
        "Neural networks optimize a scalar loss (a single number):\n",
        "\n",
        "y_sum = y.sum()  # total loss for the batch\n",
        "y_sum.backward()\n",
        "\n",
        "\n",
        "Now PyTorch computes the gradient of the total loss with respect to x:\n",
        "### 𝑑(𝑦0+𝑦1+𝑦2+𝑦3)𝑑𝑥𝑖=2(𝑥𝑖−𝑡𝑎𝑟𝑔𝑒𝑡𝑖)dxi\n",
        "\t​\n",
        "### d(y0+y1+y2+y3)=2(xi−targeti)\n",
        "\n",
        "So for our example:\n",
        "\n",
        "x.grad = [ 2*(0-0), 2*(1-2), 2*(2-4), 2*(3-6) ]\n",
        "       = [ 0, -2, -4, -6 ]\n",
        "\n",
        "\n",
        "✅ This gradient tells you how to change each prediction to reduce the total batch loss.\n",
        "\n",
        "Step 2: Using the gradient Argument\n",
        "\n",
        "Instead of summing manually, PyTorch allows:\n",
        "\n",
        "y.backward(gradient=torch.ones(len(y)))\n",
        "\n",
        "\n",
        "This is equivalent to summing: it tells PyTorch to sum up the contributions of each element to get a single gradient vector.\n",
        "\n",
        "x.grad will be exactly [0, -2, -4, -6].\n",
        "\n",
        "Step 3: Why This Matters in Practice\n",
        "\n",
        "In deep learning, you almost never compute loss for one example at a time; you use mini-batches.\n",
        "\n",
        "The loss for each example is a vector.\n",
        "\n",
        "PyTorch needs a way to reduce this vector to a scalar before calculating the gradient of the parameters.\n",
        "\n",
        "The gradient vector you get (x.grad) is exactly what you use to update model parameters using gradient descent.\n",
        "\n",
        "Step 4: Visual Intuition\n",
        "Example\tPrediction x\tTarget\tLoss (x-target)^2\tGradient 2*(x-target)\n",
        "0\t0\t0\t0\t0\n",
        "1\t1\t2\t1\t-2\n",
        "2\t2\t4\t4\t-4\n",
        "3\t3\t6\t9\t-6\n",
        "\n",
        "Gradient vector [0, -2, -4, -6] → tells the model how to adjust predictions to reduce the batch loss.\n",
        "\n",
        "✅ Key Takeaways\n",
        "\n",
        "Vector outputs (like batch losses) need to be reduced to a sc\n",
        "\n",
        "![image.png](data:image/png;base64,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)"
      ],
      "metadata": {
        "id": "q0j585QJTzrW"
      },
      "id": "q0j585QJTzrW"
    },
    {
      "cell_type": "markdown",
      "id": "ffbd2c9d",
      "metadata": {
        "origin_pos": 48,
        "id": "ffbd2c9d"
      },
      "source": [
        "## Detaching Computation\n",
        "\n",
        "Sometimes, we wish to [**move some calculations\n",
        "outside of the recorded computational graph.**]\n",
        "For example, say that we use the input\n",
        "to create some auxiliary intermediate terms\n",
        "for which we do not want to compute a gradient.\n",
        "In this case, we need to *detach*\n",
        "the respective computational graph\n",
        "from the final result.\n",
        "The following toy example makes this clearer:\n",
        "suppose we have `z = x * y` and `y = x * x`\n",
        "but we want to focus on the *direct* influence of `x` on `z`\n",
        "rather than the influence conveyed via `y`.\n",
        "In this case, we can create a new variable `u`\n",
        "that takes the same value as `y`\n",
        "but whose *provenance* (how it was created)\n",
        "has been wiped out.\n",
        "Thus `u` has no ancestors in the graph\n",
        "and gradients do not flow through `u` to `x`.\n",
        "For example, taking the gradient of `z = x * u`\n",
        "will yield the result `u`,\n",
        "(not `3 * x * x` as you might have\n",
        "expected since `z = x * x * x`).\n"
      ]
    },
    {
      "cell_type": "code",
      "execution_count": null,
      "id": "107ac041",
      "metadata": {
        "attributes": {
          "classes": [],
          "id": "",
          "n": "21"
        },
        "execution": {
          "iopub.execute_input": "2023-08-18T19:26:10.196001Z",
          "iopub.status.busy": "2023-08-18T19:26:10.195456Z",
          "iopub.status.idle": "2023-08-18T19:26:10.203246Z",
          "shell.execute_reply": "2023-08-18T19:26:10.202155Z"
        },
        "origin_pos": 50,
        "tab": [
          "pytorch"
        ],
        "id": "107ac041",
        "outputId": "5c1f8936-18c2-41ec-caf7-f8e4605ee5bc"
      },
      "outputs": [
        {
          "data": {
            "text/plain": [
              "tensor([True, True, True, True])"
            ]
          },
          "execution_count": 9,
          "metadata": {},
          "output_type": "execute_result"
        }
      ],
      "source": [
        "x.grad.zero_()\n",
        "y = x * x\n",
        "u = y.detach()\n",
        "z = u * x\n",
        "\n",
        "z.sum().backward()\n",
        "x.grad == u"
      ]
    },
    {
      "cell_type": "markdown",
      "id": "e0378e1f",
      "metadata": {
        "origin_pos": 53,
        "id": "e0378e1f"
      },
      "source": [
        "Note that while this procedure\n",
        "detaches `y`'s ancestors\n",
        "from the graph leading to `z`,\n",
        "the computational graph leading to `y`\n",
        "persists and thus we can calculate\n",
        "the gradient of `y` with respect to `x`.\n"
      ]
    },
    {
      "cell_type": "code",
      "execution_count": null,
      "id": "cb8c674b",
      "metadata": {
        "execution": {
          "iopub.execute_input": "2023-08-18T19:26:10.206880Z",
          "iopub.status.busy": "2023-08-18T19:26:10.206001Z",
          "iopub.status.idle": "2023-08-18T19:26:10.213592Z",
          "shell.execute_reply": "2023-08-18T19:26:10.212476Z"
        },
        "origin_pos": 55,
        "tab": [
          "pytorch"
        ],
        "id": "cb8c674b",
        "outputId": "91927ed9-9717-4abe-fa93-f22123513861"
      },
      "outputs": [
        {
          "data": {
            "text/plain": [
              "tensor([True, True, True, True])"
            ]
          },
          "execution_count": 10,
          "metadata": {},
          "output_type": "execute_result"
        }
      ],
      "source": [
        "x.grad.zero_()\n",
        "y.sum().backward()\n",
        "x.grad == 2 * x"
      ]
    },
    {
      "cell_type": "markdown",
      "id": "76f056ce",
      "metadata": {
        "origin_pos": 58,
        "id": "76f056ce"
      },
      "source": [
        "## Gradients and Python Control Flow\n",
        "\n",
        "So far we reviewed cases where the path from input to output\n",
        "was well defined via a function such as `z = x * x * x`.\n",
        "Programming offers us a lot more freedom in how we compute results.\n",
        "For instance, we can make them depend on auxiliary variables\n",
        "or condition choices on intermediate results.\n",
        "One benefit of using automatic differentiation\n",
        "is that [**even if**] building the computational graph of\n",
        "(**a function required passing through a maze of Python control flow**)\n",
        "(e.g., conditionals, loops, and arbitrary function calls),\n",
        "(**we can still calculate the gradient of the resulting variable.**)\n",
        "To illustrate this, consider the following code snippet where\n",
        "the number of iterations of the `while` loop\n",
        "and the evaluation of the `if` statement\n",
        "both depend on the value of the input `a`.\n"
      ]
    },
    {
      "cell_type": "code",
      "execution_count": null,
      "id": "a83327c2",
      "metadata": {
        "execution": {
          "iopub.execute_input": "2023-08-18T19:26:10.218214Z",
          "iopub.status.busy": "2023-08-18T19:26:10.217554Z",
          "iopub.status.idle": "2023-08-18T19:26:10.222956Z",
          "shell.execute_reply": "2023-08-18T19:26:10.221858Z"
        },
        "origin_pos": 60,
        "tab": [
          "pytorch"
        ],
        "id": "a83327c2"
      },
      "outputs": [],
      "source": [
        "def f(a):\n",
        "    b = a * 2\n",
        "    while b.norm() < 1000:\n",
        "        b = b * 2\n",
        "    if b.sum() > 0:\n",
        "        c = b\n",
        "    else:\n",
        "        c = 100 * b\n",
        "    return c"
      ]
    },
    {
      "cell_type": "markdown",
      "id": "189f6785",
      "metadata": {
        "origin_pos": 63,
        "id": "189f6785"
      },
      "source": [
        "Below, we call this function, passing in a random value, as input.\n",
        "Since the input is a random variable,\n",
        "we do not know what form\n",
        "the computational graph will take.\n",
        "However, whenever we execute `f(a)`\n",
        "on a specific input, we realize\n",
        "a specific computational graph\n",
        "and can subsequently run `backward`.\n"
      ]
    },
    {
      "cell_type": "code",
      "execution_count": null,
      "id": "c5ef0264",
      "metadata": {
        "execution": {
          "iopub.execute_input": "2023-08-18T19:26:10.227364Z",
          "iopub.status.busy": "2023-08-18T19:26:10.226919Z",
          "iopub.status.idle": "2023-08-18T19:26:10.232880Z",
          "shell.execute_reply": "2023-08-18T19:26:10.231773Z"
        },
        "origin_pos": 65,
        "tab": [
          "pytorch"
        ],
        "id": "c5ef0264"
      },
      "outputs": [],
      "source": [
        "a = torch.randn(size=(), requires_grad=True)\n",
        "d = f(a)\n",
        "d.backward()"
      ]
    },
    {
      "cell_type": "markdown",
      "id": "51065133",
      "metadata": {
        "origin_pos": 68,
        "id": "51065133"
      },
      "source": [
        "Even though our function `f` is, for demonstration purposes, a bit contrived,\n",
        "its dependence on the input is quite simple:\n",
        "it is a *linear* function of `a`\n",
        "with piecewise defined scale.\n",
        "As such, `f(a) / a` is a vector of constant entries\n",
        "and, moreover, `f(a) / a` needs to match\n",
        "the gradient of `f(a)` with respect to `a`.\n"
      ]
    },
    {
      "cell_type": "code",
      "execution_count": null,
      "id": "ab14ef91",
      "metadata": {
        "execution": {
          "iopub.execute_input": "2023-08-18T19:26:10.237298Z",
          "iopub.status.busy": "2023-08-18T19:26:10.236886Z",
          "iopub.status.idle": "2023-08-18T19:26:10.243577Z",
          "shell.execute_reply": "2023-08-18T19:26:10.242480Z"
        },
        "origin_pos": 70,
        "tab": [
          "pytorch"
        ],
        "id": "ab14ef91",
        "outputId": "f8cbec70-85ad-4957-96e3-83ce0c4cad47"
      },
      "outputs": [
        {
          "data": {
            "text/plain": [
              "tensor(True)"
            ]
          },
          "execution_count": 13,
          "metadata": {},
          "output_type": "execute_result"
        }
      ],
      "source": [
        "a.grad == d / a"
      ]
    },
    {
      "cell_type": "markdown",
      "id": "a992f28c",
      "metadata": {
        "origin_pos": 73,
        "id": "a992f28c"
      },
      "source": [
        "Dynamic control flow is very common in deep learning.\n",
        "For instance, when processing text, the computational graph\n",
        "depends on the length of the input.\n",
        "In these cases, automatic differentiation\n",
        "becomes vital for statistical modeling\n",
        "since it is impossible to compute the gradient *a priori*.\n",
        "\n",
        "## Discussion\n",
        "\n",
        "You have now gotten a taste of the power of automatic differentiation.\n",
        "The development of libraries for calculating derivatives\n",
        "both automatically and efficiently\n",
        "has been a massive productivity booster\n",
        "for deep learning practitioners,\n",
        "liberating them so they can focus on less menial.\n",
        "Moreover, autograd lets us design massive models\n",
        "for which pen and paper gradient computations\n",
        "would be prohibitively time consuming.\n",
        "Interestingly, while we use autograd to *optimize* models\n",
        "(in a statistical sense)\n",
        "the *optimization* of autograd libraries themselves\n",
        "(in a computational sense)\n",
        "is a rich subject\n",
        "of vital interest to framework designers.\n",
        "Here, tools from compilers and graph manipulation\n",
        "are leveraged to compute results\n",
        "in the most expedient and memory-efficient manner.\n",
        "\n",
        "For now, try to remember these basics: (i) attach gradients to those variables with respect to which we desire derivatives; (ii) record the computation of the target value; (iii) execute the backpropagation function; and  (iv) access the resulting gradient.\n",
        "\n",
        "\n",
        "## Exercises\n",
        "\n",
        "1. Why is the second derivative much more expensive to compute than the first derivative?\n",
        "1. After running the function for backpropagation, immediately run it again and see what happens. Investigate.\n",
        "1. In the control flow example where we calculate the derivative of `d` with respect to `a`, what would happen if we changed the variable `a` to a random vector or a matrix? At this point, the result of the calculation `f(a)` is no longer a scalar. What happens to the result? How do we analyze this?\n",
        "1. Let $f(x) = \\sin(x)$. Plot the graph of $f$ and of its derivative $f'$. Do not exploit the fact that $f'(x) = \\cos(x)$ but rather use automatic differentiation to get the result.\n",
        "1. Let $f(x) = ((\\log x^2) \\cdot \\sin x) + x^{-1}$. Write out a dependency graph tracing results from $x$ to $f(x)$.\n",
        "1. Use the chain rule to compute the derivative $\\frac{df}{dx}$ of the aforementioned function, placing each term on the dependency graph that you constructed previously.\n",
        "1. Given the graph and the intermediate derivative results, you have a number of options when computing the gradient. Evaluate the result once starting from $x$ to $f$ and once from $f$ tracing back to $x$. The path from $x$ to $f$ is commonly known as *forward differentiation*, whereas the path from $f$ to $x$ is known as backward differentiation.\n",
        "1. When might you want to use forward, and when backward, differentiation? Hint: consider the amount of intermediate data needed, the ability to parallelize steps, and the size of matrices and vectors involved.\n"
      ]
    },
    {
      "cell_type": "markdown",
      "id": "4c0ab97d",
      "metadata": {
        "origin_pos": 75,
        "tab": [
          "pytorch"
        ],
        "id": "4c0ab97d"
      },
      "source": [
        "[Discussions](https://discuss.d2l.ai/t/35)\n"
      ]
    },
    {
      "cell_type": "markdown",
      "metadata": {
        "id": "4dda50ac"
      },
      "source": [
        "# Task\n",
        "Address all questions in the user's prompt regarding automatic differentiation, including explanations, code examples, and comparisons of forward and backward differentiation."
      ],
      "id": "4dda50ac"
    },
    {
      "cell_type": "markdown",
      "metadata": {
        "id": "085fc491"
      },
      "source": [
        "## Explain the cost difference between first and second derivatives\n",
        "\n",
        "### Subtask:\n",
        "Address the first exercise about the computational cost of second derivatives.\n"
      ],
      "id": "085fc491"
    },
    {
      "cell_type": "markdown",
      "metadata": {
        "id": "c28549da"
      },
      "source": [
        "**Reasoning**:\n",
        "The subtask is to explain why computing the second derivative is more expensive than the first derivative. This can be addressed by providing a markdown explanation covering the points outlined in the instructions.\n",
        "\n"
      ],
      "id": "c28549da"
    },
    {
      "cell_type": "code",
      "metadata": {
        "id": "4dc4a623"
      },
      "source": [
        "# The first exercise asks why the second derivative is much more expensive to compute than the first derivative.\n",
        "\n",
        "# Explanation:\n",
        "# Computing the second derivative involves computing the derivative of the first derivative.\n",
        "# When using automatic differentiation, computing the first derivative of a function f(x) with respect to x typically involves building a computational graph of f and then performing one backward pass (backpropagation) through this graph.\n",
        "\n",
        "# To compute the second derivative (the derivative of the first derivative), we need to differentiate the result of the first backward pass. This usually requires building a *new* computational graph that represents the operations performed during the *first* backward pass. Then, another backward pass is performed on this new graph.\n",
        "\n",
        "# This nested differentiation process inherently increases computational complexity and memory usage.\n",
        "# For a function y = f(x), where x is a vector and y is a scalar (common in machine learning loss functions), the first derivative dy/dx is a vector (the gradient).\n",
        "# The second derivative, d^2y/dx^2, is a matrix called the Hessian matrix.\n",
        "# Computing the gradient involves one backward pass.\n",
        "# Computing the Hessian (or products involving the Hessian) typically requires additional backward passes or more complex graph traversals.\n",
        "# Specifically, computing the full Hessian matrix for a function with respect to a vector of size N can be roughly N times more expensive than computing the gradient, as it might involve N gradient computations.\n",
        "# For high-dimensional input vectors (common in deep learning models with millions of parameters), computing the full Hessian is often computationally prohibitive due to its size (N x N) and the cost of calculating all its entries."
      ],
      "id": "4dc4a623",
      "execution_count": 1,
      "outputs": []
    },
    {
      "cell_type": "markdown",
      "metadata": {
        "id": "25f77022"
      },
      "source": [
        "## Investigate running backward twice\n",
        "\n",
        "### Subtask:\n",
        "Explain and demonstrate what happens when `backward()` is called multiple times without resetting the gradient.\n"
      ],
      "id": "25f77022"
    },
    {
      "cell_type": "markdown",
      "metadata": {
        "id": "6aab4ae7"
      },
      "source": [
        "**Reasoning**:\n",
        "Follow the instructions to demonstrate the effect of calling `backward()` multiple times without resetting the gradient, by calculating y, calling backward twice, and printing the gradient after each call.\n",
        "\n"
      ],
      "id": "6aab4ae7"
    },
    {
      "cell_type": "code",
      "metadata": {
        "colab": {
          "base_uri": "https://localhost:8080/"
        },
        "id": "lzH0gfjOZNth",
        "outputId": "748d7e09-99f7-4ec0-869f-6b8209a99158"
      },
      "source": [
        "import torch\n",
        "\n",
        "# Redefine x and enable gradient tracking\n",
        "x = torch.arange(4.0, requires_grad=True)\n",
        "print(\"Initial x:\", x)\n",
        "\n",
        "# Reset the gradient to zero (should be None or zero initially, but good practice)\n",
        "if x.grad is not None:\n",
        "    x.grad.zero_()\n",
        "print(\"Gradient after initial definition and zero_():\", x.grad)\n",
        "\n",
        "# Calculate y = x * x\n",
        "y = x * x\n",
        "print(\"\\ny =\", y)\n",
        "\n",
        "# Call backward() the first time, retaining the graph\n",
        "print(\"\\nCalculating gradient for the first time (retaining graph)...\")\n",
        "y.sum().backward(retain_graph=True)\n",
        "\n",
        "# Print the gradient after the first backward pass\n",
        "print(\"Gradient after first backward():\", x.grad)\n",
        "\n",
        "# Call backward() again WITHOUT resetting the gradient\n",
        "print(\"\\nCalculating gradient for the second time (without zeroing)...\")\n",
        "y.sum().backward()\n",
        "\n",
        "# Print the gradient after the second backward pass\n",
        "print(\"Gradient after second backward():\", x.grad)"
      ],
      "id": "lzH0gfjOZNth",
      "execution_count": 4,
      "outputs": [
        {
          "output_type": "stream",
          "name": "stdout",
          "text": [
            "Initial x: tensor([0., 1., 2., 3.], requires_grad=True)\n",
            "Gradient after initial definition and zero_(): None\n",
            "\n",
            "y = tensor([0., 1., 4., 9.], grad_fn=<MulBackward0>)\n",
            "\n",
            "Calculating gradient for the first time (retaining graph)...\n",
            "Gradient after first backward(): tensor([0., 2., 4., 6.])\n",
            "\n",
            "Calculating gradient for the second time (without zeroing)...\n",
            "Gradient after second backward(): tensor([ 0.,  4.,  8., 12.])\n"
          ]
        }
      ]
    },
    {
      "cell_type": "markdown",
      "metadata": {
        "id": "680ee416"
      },
      "source": [
        "**Reasoning**:\n",
        "The demonstration code has successfully run and shown the gradient accumulation. The next step is to provide the required markdown explanation as specified in the instructions.\n",
        "\n"
      ],
      "id": "680ee416"
    },
    {
      "cell_type": "markdown",
      "metadata": {
        "id": "151abbb0"
      },
      "source": [
        "## Analyze control flow with non-scalar inputs\n",
        "\n",
        "### Subtask:\n",
        "Explain how the control flow example behaves with vector or matrix inputs and how to handle non-scalar outputs.\n"
      ],
      "id": "151abbb0"
    },
    {
      "cell_type": "markdown",
      "metadata": {
        "id": "680ce4e8"
      },
      "source": [
        "## When to use forward vs. backward differentiation\n",
        "\n",
        "The choice between forward and backward differentiation often depends on the shapes of the input and output tensors of the function you are differentiating. Consider a function $f: \\mathbb{R}^n \\to \\mathbb{R}^m$ that maps an $n$-dimensional input vector to an $m$-dimensional output vector. The Jacobian matrix of this function has dimensions $m \\times n$.\n",
        "\n",
        "**Forward Differentiation:**\n",
        "\n",
        "-   In forward mode, you compute $\\frac{\\partial f_j}{\\partial x_i}$ by propagating derivatives forward.\n",
        "-   To compute the full Jacobian, you need to perform $n$ forward passes. Each pass computes a column of the Jacobian (the derivative of the entire output vector with respect to one element of the input vector).\n",
        "-   The cost of a single forward pass for differentiation is roughly proportional to the cost of computing the function itself.\n",
        "-   **Use cases:** Forward mode is generally more efficient when the number of outputs ($m$) is much larger than the number of inputs ($n$). This is because you need $n$ forward passes, and each pass computes gradients for all $m$ outputs with respect to one input. If $n \\ll m$, this can be faster than backward mode. It's also useful for computing directional derivatives easily.\n",
        "\n",
        "**Backward Differentiation:**\n",
        "\n",
        "-   In backward mode (backpropagation), you compute $\\frac{\\partial f_j}{\\partial x_i}$ by propagating derivatives backward from the output.\n",
        "-   To compute the full Jacobian, you need to perform $m$ backward passes. Each pass computes a row of the Jacobian (the derivative of one element of the output vector with respect to the entire input vector).\n",
        "-   The cost of a single backward pass is roughly proportional to the cost of computing the function itself.\n",
        "-   **Use cases:** Backward mode is generally much more efficient when the number of outputs ($m$) is much smaller than the number of inputs ($n$). This is the typical scenario in deep learning, where you have a scalar loss function ($m=1$) and millions of parameters ($n$ is very large). In this case, you only need one backward pass to compute the gradient of the loss with respect to all parameters. This is why backpropagation is the dominant algorithm for training neural networks.\n",
        "\n",
        "**Considering the Hints:**\n",
        "\n",
        "-   **Amount of intermediate data needed:** Both methods need to store intermediate values for the computation graph, but the memory requirements can differ. Backward mode typically requires storing all intermediate activations to compute gradients, which can be significant. Forward mode's memory usage is often related to the depth of the graph.\n",
        "-   **Ability to parallelize steps:** Both can be parallelized, but in different ways. Operations within a single forward or backward pass can be parallelized.\n",
        "-   **Size of matrices and vectors involved:** As discussed, the relative sizes of the input and output vectors ($n$ and $m$) are the primary factor determining the efficiency of forward versus backward differentiation for computing the full Jacobian.\n",
        "\n",
        "**Summary:**\n",
        "\n",
        "-   If $n \\ll m$ (many outputs, few inputs), **forward mode** is likely more efficient.\n",
        "-   If $m \\ll n$ (few outputs, many inputs), **backward mode** is likely more efficient (this is the common case in deep learning).\n",
        "-   If $n \\approx m$, the efficiency is roughly comparable, and other factors might influence the choice.\n",
        "\n",
        "For computing the gradient of a scalar loss with respect to many parameters (the core of neural network training), backward differentiation (backpropagation) is overwhelmingly preferred due to its efficiency ($m=1$)."
      ],
      "id": "680ce4e8"
    },
    {
      "cell_type": "markdown",
      "metadata": {
        "id": "1314718b"
      },
      "source": [
        "## Compare forward and backward differentiation\n",
        "\n",
        "Given the dependency graph for $f(x) = ((\\log x^2) \\cdot \\sin x) + x^{-1}$, we can evaluate the derivative $\\frac{df}{dx}$ using two main approaches: forward differentiation and backward differentiation.\n",
        "\n",
        "**Forward Differentiation:**\n",
        "\n",
        "Forward differentiation (also known as forward mode automatic differentiation) proceeds from the inputs to the outputs. You compute the derivative of each intermediate variable with respect to the input variable ($x$) as you move forward through the computational graph.\n",
        "\n",
        "For our function, starting from $x$, we would compute:\n",
        "\n",
        "1.  $\\frac{dx_{squared}}{dx} = \\frac{d}{dx}(x^2) = 2x$\n",
        "2.  $\\frac{d log_{x_{squared}}}{dx} = \\frac{d}{dx}(\\log(x^2))$ (using the chain rule based on $\\frac{d log_{x_{squared}}}{dx_{squared}}$ and $\\frac{dx_{squared}}{dx}$)\n",
        "    $\\frac{d log_{x_{squared}}}{dx} = \\frac{1}{x^2} \\cdot 2x = \\frac{2}{x}$\n",
        "3.  $\\frac{d sin_x}{dx} = \\frac{d}{dx}(\\sin(x)) = \\cos(x)$\n",
        "4.  $\\frac{d product}{dx} = \\frac{d}{dx}(log_{x_{squared}} \\cdot sin_x)$ (using the product rule based on $\\frac{d log_{x_{squared}}}{dx}$, $log_{x_{squared}}$, $\\frac{d sin_x}{dx}$, and $sin_x$)\n",
        "    $\\frac{d product}{dx} = \\frac{d log_{x_{squared}}}{dx} \\cdot sin_x + log_{x_{squared}} \\cdot \\frac{d sin_x}{dx} = \\frac{2}{x} \\cdot \\sin(x) + \\log(x^2) \\cdot \\cos(x)$\n",
        "5.  $\\frac{dx_{inv}}{dx} = \\frac{d}{dx}(x^{-1}) = -\\frac{1}{x^2}$\n",
        "6.  $\\frac{df}{dx} = \\frac{d}{dx}(product + x_{inv})$ (using the sum rule based on $\\frac{d product}{dx}$ and $\\frac{dx_{inv}}{dx}$)\n",
        "    $\\frac{df}{dx} = \\frac{d product}{dx} + \\frac{dx_{inv}}{dx} = \\left(\\frac{2\\sin(x)}{x} + \\log(x^2) \\cdot \\cos(x)\\right) - \\frac{1}{x^2}$\n",
        "\n",
        "**Backward Differentiation:**\n",
        "\n",
        "Backward differentiation (also known as reverse mode automatic differentiation or backpropagation) proceeds from the outputs to the inputs. You start with the derivative of the output with respect to itself ($\\frac{df}{df} = 1$) and then compute the derivative of the output with respect to each intermediate variable as you move backward through the computational graph, using the chain rule.\n",
        "\n",
        "For our function, starting from $f(x)$, we want to compute $\\frac{df}{dx}$:\n",
        "\n",
        "1.  $\\frac{df}{df} = 1$\n",
        "2.  Moving backward from $f$ to $product$ and $x_{inv}$:\n",
        "    $\\frac{df}{d product} = 1$ (from $f = product + x_{inv}$)\n",
        "    $\\frac{df}{d x_{inv}} = 1$ (from $f = product + x_{inv}$)\n",
        "3.  Moving backward from $product$ to $log_{x_{squared}}$ and $sin_x$:\n",
        "    $\\frac{df}{d log_{x_{squared}}} = \\frac{df}{d product} \\cdot \\frac{d product}{d log_{x_{squared}}} = 1 \\cdot \\sin(x) = \\sin(x)$ (using the chain rule)\n",
        "    $\\frac{df}{d sin_x} = \\frac{df}{d product} \\cdot \\frac{d product}{d sin_x} = 1 \\cdot \\log(x^2) = \\log(x^2)$ (using the chain rule)\n",
        "4.  Moving backward from $log_{x_{squared}}$ to $x_{squared}$:\n",
        "    $\\frac{df}{d x_{squared}} = \\frac{df}{d log_{x_{squared}}} \\cdot \\frac{d log_{x_{squared}}}{d x_{squared}} = \\sin(x) \\cdot \\frac{1}{x_{squared}} = \\sin(x) \\cdot \\frac{1}{x^2}$ (using the chain rule)\n",
        "5.  Moving backward from $x_{squared}$ and $sin_x$ and $x_{inv}$ to $x$:\n",
        "    To get $\\frac{df}{dx}$, we sum the contributions from all paths leading from $f$ back to $x$. The paths are:\n",
        "    -   $f \\leftarrow product \\leftarrow log_{x_{squared}} \\leftarrow x_{squared} \\leftarrow x$\n",
        "    -   $f \\leftarrow product \\leftarrow sin_x \\leftarrow x$\n",
        "    -   $f \\leftarrow x_{inv} \\leftarrow x$\n",
        "\n",
        "    -   Contribution from $f \\leftarrow x_{inv} \\leftarrow x$:\n",
        "        $\\frac{df}{dx} = \\frac{df}{d x_{inv}} \\cdot \\frac{d x_{inv}}{dx} = 1 \\cdot (-\\frac{1}{x^2}) = -\\frac{1}{x^2}$\n",
        "    -   Contribution from $f \\leftarrow product \\leftarrow log_{x_{squared}} \\leftarrow x_{squared} \\leftarrow x$:\n",
        "        $\\frac{df}{dx} = \\frac{df}{d log_{x_{squared}}} \\cdot \\frac{d log_{x_{squared}}}{d x_{squared}} \\cdot \\frac{d x_{squared}}{dx} = \\sin(x) \\cdot \\frac{1}{x^2} \\cdot 2x = \\frac{2\\sin(x)}{x}$\n",
        "    -   Contribution from $f \\leftarrow product \\leftarrow sin_x \\leftarrow x$:\n",
        "        $\\frac{df}{dx} = \\frac{df}{d sin_x} \\cdot \\frac{d sin_x}{dx} = \\log(x^2) \\cdot \\cos(x)$\n",
        "\n",
        "    Summing these contributions:\n",
        "    $\\frac{df}{dx} = -\\frac{1}{x^2} + \\frac{2\\sin(x)}{x} + \\log(x^2) \\cdot \\cos(x)$\n",
        "\n",
        "**Comparison:**\n",
        "\n",
        "Both forward and backward differentiation yield the same correct derivative. The key difference lies in how they traverse the graph and compute the derivatives.\n",
        "\n",
        "-   **Forward mode** computes $\\frac{\\partial \\text{output}}{\\partial \\text{input}_i}$ for each input $i$ by propagating derivatives forward.\n",
        "-   **Backward mode** computes $\\frac{\\partial \\text{output}_j}{\\partial \\text{input}}$ for each output $j$ by propagating derivatives backward.\n",
        "\n",
        "This difference in approach leads to different computational costs depending on the shape of the input and output. We will discuss this in the next section."
      ],
      "id": "1314718b"
    },
    {
      "cell_type": "markdown",
      "metadata": {
        "id": "8b503d11"
      },
      "source": [
        "## Compute derivative using the chain rule\n",
        "\n",
        "Let's use the chain rule to compute the derivative $\\frac{df}{dx}$ for the function $f(x) = ((\\log x^2) \\cdot \\sin x) + x^{-1}$. We'll use the intermediate variables defined in the dependency graph description:\n",
        "\n",
        "- $x_{squared} = x^2$\n",
        "- $log_{x_{squared}} = \\log(x_{squared}) = \\log(x^2)$\n",
        "- $sin_x = \\sin(x)$\n",
        "- $product = log_{x_{squared}} \\cdot sin_x$\n",
        "- $x_{inv} = x^{-1}$\n",
        "- $f(x) = product + x_{inv}$\n",
        "\n",
        "We can break down the derivative using the sum rule:\n",
        "$\\frac{df}{dx} = \\frac{d}{dx}(product + x_{inv}) = \\frac{d}{dx}(product) + \\frac{d}{dx}(x_{inv})$\n",
        "\n",
        "Let's compute each term separately:\n",
        "\n",
        "**Term 1: $\\frac{d}{dx}(x_{inv}) = \\frac{d}{dx}(x^{-1})$**\n",
        "This is a basic power rule:\n",
        "$\\frac{d}{dx}(x^{-1}) = -1 \\cdot x^{-2} = -\\frac{1}{x^2}$\n",
        "\n",
        "**Term 2: $\\frac{d}{dx}(product) = \\frac{d}{dx}(log_{x_{squared}} \\cdot sin_x)$**\n",
        "We use the product rule: $\\frac{d}{dx}(uv) = u\\frac{dv}{dx} + v\\frac{du}{dx}$, where $u = log_{x_{squared}}$ and $v = sin_x$.\n",
        "\n",
        "First, find $\\frac{d}{dx}(sin_x)$:\n",
        "$\\frac{d}{dx}(sin_x) = \\frac{d}{dx}(\\sin(x)) = \\cos(x)$\n",
        "\n",
        "Second, find $\\frac{d}{dx}(log_{x_{squared}})$. We need the chain rule here, as $log_{x_{squared}} = \\log(x^2)$:\n",
        "$\\frac{d}{dx}(\\log(x^2))$\n",
        "Let $u = x^2$. Then $\\frac{du}{dx} = 2x$.\n",
        "The derivative of $\\log(u)$ with respect to $u$ is $\\frac{1}{u}$.\n",
        "Using the chain rule, $\\frac{d}{dx}(\\log(x^2)) = \\frac{d}{du}(\\log(u)) \\cdot \\frac{du}{dx} = \\frac{1}{u} \\cdot 2x = \\frac{1}{x^2} \\cdot 2x = \\frac{2x}{x^2} = \\frac{2}{x}$.\n",
        "\n",
        "Now, apply the product rule to $\\frac{d}{dx}(product)$:\n",
        "$\\frac{d}{dx}(product) = log_{x_{squared}} \\cdot \\frac{d}{dx}(sin_x) + sin_x \\cdot \\frac{d}{dx}(log_{x_{squared}})$\n",
        "$\\frac{d}{dx}(product) = \\log(x^2) \\cdot \\cos(x) + \\sin(x) \\cdot \\frac{2}{x}$\n",
        "\n",
        "**Combining the terms for $\\frac{df}{dx}$:**\n",
        "\n",
        "$\\frac{df}{dx} = \\frac{d}{dx}(product) + \\frac{d}{dx}(x_{inv})$\n",
        "$\\frac{df}{dx} = \\left(\\log(x^2) \\cdot \\cos(x) + \\frac{2\\sin(x)}{x}\\right) - \\frac{1}{x^2}$\n",
        "\n",
        "**Relating to the Dependency Graph (Chain Rule Application):**\n",
        "\n",
        "The chain rule tells us how gradients flow backward through the graph. To get $\\frac{df}{dx}$, we consider all paths from $f(x)$ back to $x$.\n",
        "\n",
        "- **Path 1: $f(x) \\leftarrow x_{inv} \\leftarrow x$**\n",
        "  - $\\frac{df}{dx_{inv}} = 1$ (from $f(x) = product + x_{inv}$)\n",
        "  - $\\frac{dx_{inv}}{dx} = -x^{-2} = -\\frac{1}{x^2}$ (from $x_{inv} = x^{-1}$)\n",
        "  - Contribution to $\\frac{df}{dx}$ via this path: $\\frac{df}{dx_{inv}} \\cdot \\frac{dx_{inv}}{dx} = 1 \\cdot (-\\frac{1}{x^2}) = -\\frac{1}{x^2}$\n",
        "\n",
        "- **Path 2: $f(x) \\leftarrow product \\leftarrow log_{x_{squared}} \\leftarrow x_{squared} \\leftarrow x$**\n",
        "  - $\\frac{df}{product} = 1$ (from $f(x) = product + x_{inv}$)\n",
        "  - $\\frac{d product}{d log_{x_{squared}}} = sin_x$ (from $product = log_{x_{squared}} \\cdot sin_x$)\n",
        "  - $\\frac{d log_{x_{squared}}}{d x_{squared}} = \\frac{1}{x_{squared}}$ (from $log_{x_{squared}} = \\log(x_{squared})$)\n",
        "  - $\\frac{d x_{squared}}{d x} = 2x$ (from $x_{squared} = x^2$)\n",
        "  - Contribution to $\\frac{df}{dx}$ via this path: $\\frac{df}{product} \\cdot \\frac{d product}{d log_{x_{squared}}} \\cdot \\frac{d log_{x_{squared}}}{d x_{squared}} \\cdot \\frac{d x_{squared}}{d x} = 1 \\cdot sin_x \\cdot \\frac{1}{x_{squared}} \\cdot 2x = \\sin(x) \\cdot \\frac{1}{x^2} \\cdot 2x = \\frac{2\\sin(x)}{x}$\n",
        "\n",
        "- **Path 3: $f(x) \\leftarrow product \\leftarrow sin_x \\leftarrow x$**\n",
        "  - $\\frac{df}{product} = 1$ (from $f(x) = product + x_{inv}$)\n",
        "  - $\\frac{d product}{d sin_x} = log_{x_{squared}}$ (from $product = log_{x_{squared}} \\cdot sin_x$)\n",
        "  - $\\frac{d sin_x}{d x} = \\cos(x)$ (from $sin_x = \\sin(x)$)\n",
        "  - Contribution to $\\frac{df}{dx}$ via this path: $\\frac{df}{product} \\cdot \\frac{d product}{d sin_x} \\cdot \\frac{d sin_x}{d x} = 1 \\cdot log_{x_{squared}} \\cdot \\cos(x) = \\log(x^2) \\cdot \\cos(x)$\n",
        "\n",
        "Summing the contributions from all paths gives the total derivative $\\frac{df}{dx}$:\n",
        "$\\frac{df}{dx} = -\\frac{1}{x^2} + \\frac{2\\sin(x)}{x} + \\log(x^2) \\cdot \\cos(x)$\n",
        "\n",
        "This matches the result we obtained using the standard differentiation rules. The dependency graph helps visualize these paths and how the chain rule combines the local derivatives along each path."
      ],
      "id": "8b503d11"
    },
    {
      "cell_type": "markdown",
      "metadata": {
        "id": "a384702d"
      },
      "source": [
        "**Reasoning**:\n",
        "Explain how the function `f(a)` behaves with vector/matrix inputs, how the output `d` will be a vector/matrix, why `d.backward()` fails for non-scalar outputs, and how to handle this using `.sum()` or the `gradient` argument.\n",
        "\n"
      ],
      "id": "a384702d"
    },
    {
      "cell_type": "code",
      "metadata": {
        "id": "da9d886b"
      },
      "source": [
        "# Explanation: Handling vector/matrix inputs and non-scalar outputs in the control flow example\n",
        "\n",
        "# 1. Behavior with Vector or Matrix Inputs:\n",
        "# If `a` is a vector or a matrix, the function `f(a)` will still execute element-wise or using broadcasting where applicable in the operations:\n",
        "# - `b = a * 2`: Element-wise multiplication. If `a` is a vector/matrix, `b` will be a vector/matrix of the same shape.\n",
        "# - `while b.norm() < 1000:`: `b.norm()` calculates the Frobenius norm for a matrix or the L2 norm for a vector, resulting in a scalar. The loop continues as long as this scalar norm is less than 1000. The operations inside the loop (`b = b * 2`) continue to operate element-wise, doubling each element of `b`.\n",
        "# - `if b.sum() > 0:`: `b.sum()` calculates the sum of all elements in the vector/matrix `b`, resulting in a scalar. The conditional check operates on this scalar sum.\n",
        "# - `c = b` or `c = 100 * b`: Depending on the `if` condition, `c` will be assigned either the vector/matrix `b` or `100` times the vector/matrix `b` (element-wise multiplication).\n",
        "# - `return c`: The function returns the vector or matrix `c`.\n",
        "\n",
        "# 2. What the Output `d = f(a)` Would Be:\n",
        "# If the input `a` is a vector or a matrix, the output `d = f(a)` will also be a tensor (vector or matrix) with the *same shape* as the input `a`. This is because all the operations within the function (multiplication, conditional assignment) preserve the shape of the intermediate tensor `b`.\n",
        "\n",
        "# 3. Implications of Non-Scalar Output `d` and why `d.backward()` Fails:\n",
        "# PyTorch's `backward()` method is designed to compute the gradient of a *scalar* output (like a loss function) with respect to the input tensors. When you call `d.backward()` on a non-scalar tensor `d` (a vector or a matrix), PyTorch raises a `RuntimeError`.\n",
        "# The reason is that the gradient of a non-scalar output `d` (shape `m x n`) with respect to a non-scalar input `a` (shape `p x q`) is a higher-order tensor (specifically, it relates to the Jacobian matrix or tensor). PyTorch's `backward()` doesn't automatically compute this full Jacobian by default because:\n",
        "# - It's often not what is needed in standard training (where you differentiate a scalar loss w.r.t. parameters).\n",
        "# - Computing the full Jacobian can be computationally very expensive and memory-intensive for large tensors.\n",
        "# PyTorch requires you to specify how to reduce the non-scalar output to a scalar before calling `backward()`.\n",
        "\n",
        "# 4. How to Correctly Compute the Gradient of a Non-Scalar Output:\n",
        "# To compute the gradient when the output `d` is non-scalar (vector or matrix), you need to reduce it to a scalar before calling `backward()`. The most common way in deep learning is to sum all the elements of the output tensor.\n",
        "#\n",
        "# Method 1: Summing the output\n",
        "# d = f(a) # d is a vector/matrix\n",
        "# total_sum = d.sum() # Reduce d to a scalar by summing\n",
        "# total_sum.backward() # Compute the gradient of the sum w.r.t a\n",
        "# # x.grad will now hold the gradient of the sum of elements in d w.r.t a\n",
        "#\n",
        "# Method 2: Using the `gradient` argument in `backward()`\n",
        "# This method is mathematically equivalent to summing when the `gradient` argument is a tensor of ones with the same shape as `d`. It effectively computes the gradient of `torch.sum(d * gradient)` with respect to the input. When `gradient` is `torch.ones_like(d)`, this is the same as `d.sum().backward()`.\n",
        "# d = f(a) # d is a vector/matrix\n",
        "# d.backward(gradient=torch.ones_like(d)) # Compute the gradient of the sum w.r.t a\n",
        "# # x.grad will hold the gradient of the sum of elements in d w.r.t a\n",
        "#\n",
        "# Both methods allow PyTorch's backpropagation algorithm to compute a vector/matrix gradient (of the scalar sum) with respect to the input `a`. The resulting `a.grad` will have the same shape as the input `a`."
      ],
      "id": "da9d886b",
      "execution_count": 10,
      "outputs": []
    },
    {
      "cell_type": "markdown",
      "metadata": {
        "id": "69586647"
      },
      "source": [
        "## Plot f(x) = sin(x) and its derivative\n",
        "\n",
        "### Subtask:\n",
        "Generate code to plot the sine function and its derivative using automatic differentiation.\n"
      ],
      "id": "69586647"
    },
    {
      "cell_type": "markdown",
      "metadata": {
        "id": "7946e781"
      },
      "source": [
        "**Reasoning**:\n",
        "Generate the code to plot the sine function and its derivative using automatic differentiation, following the instructions provided for creating tensors, calculating the function and its derivative, and plotting using matplotlib.\n",
        "\n"
      ],
      "id": "7946e781"
    },
    {
      "cell_type": "code",
      "metadata": {
        "colab": {
          "base_uri": "https://localhost:8080/",
          "height": 564
        },
        "id": "f73cfb31",
        "outputId": "f543c813-9ccf-41a7-b4a9-98e7964b00f6"
      },
      "source": [
        "import torch\n",
        "import matplotlib.pyplot as plt\n",
        "\n",
        "# 2. Create a tensor x\n",
        "# Use linspace for a smoother curve for plotting\n",
        "x = torch.linspace(-5, 5, 100, requires_grad=True)\n",
        "\n",
        "# 3. Calculate y = torch.sin(x)\n",
        "y = torch.sin(x)\n",
        "\n",
        "# 4. Calculate the derivative of y with respect to x\n",
        "# Since y is a vector, we need to reduce it to a scalar for backward()\n",
        "# We can sum the elements of y and then call backward()\n",
        "y_sum = y.sum()\n",
        "y_sum.backward()\n",
        "\n",
        "# 5. Access the computed gradient from x.grad\n",
        "# Detach the gradient from the computational graph and convert to NumPy array\n",
        "grad_y = x.grad.detach().numpy()\n",
        "\n",
        "# 6. Detach x and y from the computational graph and convert to NumPy arrays for plotting\n",
        "x_np = x.detach().numpy()\n",
        "y_np = y.detach().numpy()\n",
        "\n",
        "# 7. Create a matplotlib figure and axes.\n",
        "plt.figure(figsize=(8, 6))\n",
        "\n",
        "# 8. Plot the original function y against x\n",
        "plt.plot(x_np, y_np, label='f(x) = sin(x)', color='blue')\n",
        "\n",
        "# 9. Plot the computed derivative x.grad against x\n",
        "plt.plot(x_np, grad_y, label=\"f'(x) = cos(x) (Autograd)\", color='red', linestyle='--')\n",
        "\n",
        "# 10. Add a legend to the plot\n",
        "plt.legend()\n",
        "\n",
        "# 11. Add a title and labels for the x and y axes\n",
        "plt.title('Sine Function and Its Derivative using Autograd')\n",
        "plt.xlabel('x')\n",
        "plt.ylabel('y / dy/dx')\n",
        "plt.grid(True)\n",
        "\n",
        "# 12. Display the plot\n",
        "plt.show()"
      ],
      "id": "f73cfb31",
      "execution_count": 11,
      "outputs": [
        {
          "output_type": "display_data",
          "data": {
            "text/plain": [
              "<Figure size 800x600 with 1 Axes>"
            ],
            "image/png": "[encoded data removed]"
          },
          "metadata": {}
        }
      ]
    },
    {
      "cell_type": "markdown",
      "metadata": {
        "id": "b6954364"
      },
      "source": [
        "## Create dependency graph for f(x) = ((log x^2) * sin x) + x^-1\n",
        "\n",
        "### Subtask:\n",
        "Describe the dependency graph for the function $f(x) = ((\n",
        "log x^2) \\cdot \\sin x) + x^{-1}$.\n"
      ],
      "id": "b6954364"
    },
    {
      "cell_type": "markdown",
      "metadata": {
        "id": "6cf22bee"
      },
      "source": [
        "**Reasoning**:\n",
        "I need to break down the function $f(x) = ((\\log x^2) \\cdot \\sin x) + x^{-1}$ into elementary operations and identify the dependencies to describe the dependency graph. This involves identifying intermediate steps from the input $x$ to the final output $f(x)$.\n",
        "\n"
      ],
      "id": "6cf22bee"
    },
    {
      "cell_type": "code",
      "metadata": {
        "colab": {
          "base_uri": "https://localhost:8080/"
        },
        "id": "3a10d628",
        "outputId": "6a327732-ce10-4a4b-b50b-3d2af04a3ed9"
      },
      "source": [
        "# Function: f(x) = ((log x^2) * sin x) + x^-1\n",
        "\n",
        "# Dependency Graph Description:\n",
        "# Input: x\n",
        "\n",
        "# Intermediate Calculation 1: Square of x\n",
        "# Operation: Squaring\n",
        "# Result: x_squared = x^2\n",
        "# Dependency: x\n",
        "\n",
        "# Intermediate Calculation 2: Logarithm of x_squared\n",
        "# Operation: Natural logarithm\n",
        "# Result: log_x_squared = log(x_squared) = log(x^2)\n",
        "# Dependency: x_squared\n",
        "\n",
        "# Intermediate Calculation 3: Sine of x\n",
        "# Operation: Sine function\n",
        "# Result: sin_x = sin(x)\n",
        "# Dependency: x\n",
        "\n",
        "# Intermediate Calculation 4: Product of log_x_squared and sin_x\n",
        "# Operation: Multiplication\n",
        "# Result: product = log_x_squared * sin_x\n",
        "# Dependency: log_x_squared, sin_x\n",
        "\n",
        "# Intermediate Calculation 5: Inverse of x\n",
        "# Operation: Reciprocal\n",
        "# Result: x_inv = x^-1\n",
        "# Dependency: x\n",
        "\n",
        "# Final Calculation: Sum of product and x_inv\n",
        "# Operation: Addition\n",
        "# Result: f(x) = product + x_inv\n",
        "# Dependency: product, x_inv\n",
        "\n",
        "# Dependency Graph Structure (Conceptual):\n",
        "# x -> x_squared -> log_x_squared -> product\n",
        "# x -> sin_x -> product\n",
        "# x -> x_inv\n",
        "# product -> f(x)\n",
        "# x_inv -> f(x)\n",
        "\n",
        "print(\"Dependency graph description for f(x) = ((log x^2) * sin x) + x^-1:\")\n",
        "print(\"\\nInput: x\")\n",
        "print(\"\\nIntermediate Calculations:\")\n",
        "print(\"1. x_squared = x^2 (depends on x)\")\n",
        "print(\"2. log_x_squared = log(x_squared) (depends on x_squared)\")\n",
        "print(\"3. sin_x = sin(x) (depends on x)\")\n",
        "print(\"4. product = log_x_squared * sin_x (depends on log_x_squared, sin_x)\")\n",
        "print(\"5. x_inv = x^-1 (depends on x)\")\n",
        "print(\"\\nFinal Calculation:\")\n",
        "print(\"f(x) = product + x_inv (depends on product, x_inv)\")"
      ],
      "id": "3a10d628",
      "execution_count": 12,
      "outputs": [
        {
          "output_type": "stream",
          "name": "stdout",
          "text": [
            "Dependency graph description for f(x) = ((log x^2) * sin x) + x^-1:\n",
            "\n",
            "Input: x\n",
            "\n",
            "Intermediate Calculations:\n",
            "1. x_squared = x^2 (depends on x)\n",
            "2. log_x_squared = log(x_squared) (depends on x_squared)\n",
            "3. sin_x = sin(x) (depends on x)\n",
            "4. product = log_x_squared * sin_x (depends on log_x_squared, sin_x)\n",
            "5. x_inv = x^-1 (depends on x)\n",
            "\n",
            "Final Calculation:\n",
            "f(x) = product + x_inv (depends on product, x_inv)\n"
          ]
        }
      ]
    }
  ],
  "metadata": {
    "kernelspec": {
      "display_name": "Python 3",
      "name": "python3"
    },
    "language_info": {
      "name": "python"
    },
    "required_libs": [],
    "colab": {
      "provenance": []
    }
  },
  "nbformat": 4,
  "nbformat_minor": 5
}