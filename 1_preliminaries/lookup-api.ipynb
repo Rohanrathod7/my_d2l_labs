{
  "cells": [
    {
      "cell_type": "markdown",
      "id": "05d9c330",
      "metadata": {
        "origin_pos": 1,
        "id": "05d9c330"
      },
      "source": [
        "# Documentation\n"
      ]
    },
    {
      "cell_type": "markdown",
      "id": "c9890286",
      "metadata": {
        "origin_pos": 3,
        "tab": [
          "pytorch"
        ],
        "id": "c9890286"
      },
      "source": [
        "While we cannot possibly introduce every single PyTorch function and class\n",
        "(and the information might become outdated quickly),\n",
        "the [API documentation](https://pytorch.org/docs/stable/index.html) and additional [tutorials](https://pytorch.org/tutorials/beginner/basics/intro.html) and examples\n",
        "provide such documentation.\n",
        "This section provides some guidance for how to explore the PyTorch API.\n"
      ]
    },
    {
      "cell_type": "code",
      "execution_count": null,
      "id": "a253b1fa",
      "metadata": {
        "execution": {
          "iopub.execute_input": "2023-08-18T19:32:02.297125Z",
          "iopub.status.busy": "2023-08-18T19:32:02.296778Z",
          "iopub.status.idle": "2023-08-18T19:32:04.430872Z",
          "shell.execute_reply": "2023-08-18T19:32:04.429820Z"
        },
        "origin_pos": 6,
        "tab": [
          "pytorch"
        ],
        "id": "a253b1fa"
      },
      "outputs": [],
      "source": [
        "import torch"
      ]
    },
    {
      "cell_type": "markdown",
      "id": "257c6aae",
      "metadata": {
        "origin_pos": 9,
        "id": "257c6aae"
      },
      "source": [
        "## Functions and Classes in a Module\n",
        "\n",
        "To know which functions and classes can be called in a module,\n",
        "we invoke the `dir` function. For instance, we can\n",
        "(**query all properties in the module for generating random numbers**):\n"
      ]
    },
    {
      "cell_type": "code",
      "execution_count": null,
      "id": "bde8a5b0",
      "metadata": {
        "attributes": {
          "classes": [],
          "id": "",
          "n": "1"
        },
        "execution": {
          "iopub.execute_input": "2023-08-18T19:32:04.435694Z",
          "iopub.status.busy": "2023-08-18T19:32:04.434971Z",
          "iopub.status.idle": "2023-08-18T19:32:04.440648Z",
          "shell.execute_reply": "2023-08-18T19:32:04.439467Z"
        },
        "origin_pos": 11,
        "tab": [
          "pytorch"
        ],
        "id": "bde8a5b0",
        "outputId": "3a17aa03-cf66-48b3-c60c-e6fe93982d47"
      },
      "outputs": [
        {
          "name": "stdout",
          "output_type": "stream",
          "text": [
            "['AbsTransform', 'AffineTransform', 'Bernoulli', 'Beta', 'Binomial', 'CatTransform', 'Categorical', 'Cauchy', 'Chi2', 'ComposeTransform', 'ContinuousBernoulli', 'CorrCholeskyTransform', 'CumulativeDistributionTransform', 'Dirichlet', 'Distribution', 'ExpTransform', 'Exponential', 'ExponentialFamily', 'FisherSnedecor', 'Gamma', 'Geometric', 'Gumbel', 'HalfCauchy', 'HalfNormal', 'Independent', 'IndependentTransform', 'Kumaraswamy', 'LKJCholesky', 'Laplace', 'LogNormal', 'LogisticNormal', 'LowRankMultivariateNormal', 'LowerCholeskyTransform', 'MixtureSameFamily', 'Multinomial', 'MultivariateNormal', 'NegativeBinomial', 'Normal', 'OneHotCategorical', 'OneHotCategoricalStraightThrough', 'Pareto', 'Poisson', 'PositiveDefiniteTransform', 'PowerTransform', 'RelaxedBernoulli', 'RelaxedOneHotCategorical', 'ReshapeTransform', 'SigmoidTransform', 'SoftmaxTransform', 'SoftplusTransform', 'StackTransform', 'StickBreakingTransform', 'StudentT', 'TanhTransform', 'Transform', 'TransformedDistribution', 'Uniform', 'VonMises', 'Weibull', 'Wishart', '__all__', '__builtins__', '__cached__', '__doc__', '__file__', '__loader__', '__name__', '__package__', '__path__', '__spec__', 'bernoulli', 'beta', 'biject_to', 'binomial', 'categorical', 'cauchy', 'chi2', 'constraint_registry', 'constraints', 'continuous_bernoulli', 'dirichlet', 'distribution', 'exp_family', 'exponential', 'fishersnedecor', 'gamma', 'geometric', 'gumbel', 'half_cauchy', 'half_normal', 'identity_transform', 'independent', 'kl', 'kl_divergence', 'kumaraswamy', 'laplace', 'lkj_cholesky', 'log_normal', 'logistic_normal', 'lowrank_multivariate_normal', 'mixture_same_family', 'multinomial', 'multivariate_normal', 'negative_binomial', 'normal', 'one_hot_categorical', 'pareto', 'poisson', 'register_kl', 'relaxed_bernoulli', 'relaxed_categorical', 'studentT', 'transform_to', 'transformed_distribution', 'transforms', 'uniform', 'utils', 'von_mises', 'weibull', 'wishart']\n"
          ]
        }
      ],
      "source": [
        "print(dir(torch.distributions))"
      ]
    },
    {
      "cell_type": "markdown",
      "id": "428e4ff3",
      "metadata": {
        "origin_pos": 14,
        "id": "428e4ff3"
      },
      "source": [
        "Generally, we can ignore functions that start and end with `__` (special objects in Python)\n",
        "or functions that start with a single `_`(usually internal functions).\n",
        "Based on the remaining function or attribute names,\n",
        "we might hazard a guess that this module offers\n",
        "various methods for generating random numbers,\n",
        "including sampling from the uniform distribution (`uniform`),\n",
        "normal distribution (`normal`), and multinomial distribution (`multinomial`).\n",
        "\n",
        "## Specific Functions and Classes\n",
        "\n",
        "For specific instructions on how to use a given function or class,\n",
        "we can invoke the  `help` function. As an example, let's\n",
        "[**explore the usage instructions for tensors' `ones` function**].\n"
      ]
    },
    {
      "cell_type": "code",
      "execution_count": null,
      "id": "31f291f6",
      "metadata": {
        "execution": {
          "iopub.execute_input": "2023-08-18T19:32:04.444454Z",
          "iopub.status.busy": "2023-08-18T19:32:04.444071Z",
          "iopub.status.idle": "2023-08-18T19:32:04.449954Z",
          "shell.execute_reply": "2023-08-18T19:32:04.448745Z"
        },
        "origin_pos": 16,
        "tab": [
          "pytorch"
        ],
        "id": "31f291f6",
        "outputId": "1cb9d768-fd92-49eb-98d2-d69f9901aef4"
      },
      "outputs": [
        {
          "name": "stdout",
          "output_type": "stream",
          "text": [
            "Help on built-in function ones in module torch:\n",
            "\n",
            "ones(...)\n",
            "    ones(*size, *, out=None, dtype=None, layout=torch.strided, device=None, requires_grad=False) -> Tensor\n",
            "    \n",
            "    Returns a tensor filled with the scalar value `1`, with the shape defined\n",
            "    by the variable argument :attr:`size`.\n",
            "    \n",
            "    Args:\n",
            "        size (int...): a sequence of integers defining the shape of the output tensor.\n",
            "            Can be a variable number of arguments or a collection like a list or tuple.\n",
            "    \n",
            "    Keyword arguments:\n",
            "        out (Tensor, optional): the output tensor.\n",
            "        dtype (:class:`torch.dtype`, optional): the desired data type of returned tensor.\n",
            "            Default: if ``None``, uses a global default (see :func:`torch.set_default_tensor_type`).\n",
            "        layout (:class:`torch.layout`, optional): the desired layout of returned Tensor.\n",
            "            Default: ``torch.strided``.\n",
            "        device (:class:`torch.device`, optional): the desired device of returned tensor.\n",
            "            Default: if ``None``, uses the current device for the default tensor type\n",
            "            (see :func:`torch.set_default_tensor_type`). :attr:`device` will be the CPU\n",
            "            for CPU tensor types and the current CUDA device for CUDA tensor types.\n",
            "        requires_grad (bool, optional): If autograd should record operations on the\n",
            "            returned tensor. Default: ``False``.\n",
            "    \n",
            "    Example::\n",
            "    \n",
            "        >>> torch.ones(2, 3)\n",
            "        tensor([[ 1.,  1.,  1.],\n",
            "                [ 1.,  1.,  1.]])\n",
            "    \n",
            "        >>> torch.ones(5)\n",
            "        tensor([ 1.,  1.,  1.,  1.,  1.])\n",
            "\n"
          ]
        }
      ],
      "source": [
        "help(torch.ones)"
      ]
    },
    {
      "cell_type": "markdown",
      "id": "f9625ad2",
      "metadata": {
        "origin_pos": 19,
        "id": "f9625ad2"
      },
      "source": [
        "From the documentation, we can see that the `ones` function\n",
        "creates a new tensor with the specified shape\n",
        "and sets all the elements to the value of 1.\n",
        "Whenever possible, you should (**run a quick test**)\n",
        "to confirm your interpretation:\n"
      ]
    },
    {
      "cell_type": "code",
      "execution_count": null,
      "id": "aef47cd1",
      "metadata": {
        "execution": {
          "iopub.execute_input": "2023-08-18T19:32:04.453936Z",
          "iopub.status.busy": "2023-08-18T19:32:04.453370Z",
          "iopub.status.idle": "2023-08-18T19:32:04.485935Z",
          "shell.execute_reply": "2023-08-18T19:32:04.485079Z"
        },
        "origin_pos": 21,
        "tab": [
          "pytorch"
        ],
        "id": "aef47cd1",
        "outputId": "95c008ea-b9cb-476c-8b29-563a099d24ab"
      },
      "outputs": [
        {
          "data": {
            "text/plain": [
              "tensor([1., 1., 1., 1.])"
            ]
          },
          "execution_count": 4,
          "metadata": {},
          "output_type": "execute_result"
        }
      ],
      "source": [
        "torch.ones(4)"
      ]
    },
    {
      "cell_type": "markdown",
      "id": "53ebdea1",
      "metadata": {
        "origin_pos": 24,
        "id": "53ebdea1"
      },
      "source": [
        "In the Jupyter notebook, we can use `?` to display the document in another\n",
        "window. For example, `list?` will create content\n",
        "that is almost identical to `help(list)`,\n",
        "displaying it in a new browser window.\n",
        "In addition, if we use two question marks, such as `list??`,\n",
        "the Python code implementing the function will also be displayed.\n",
        "\n",
        "The official documentation provides plenty of descriptions and examples that are beyond this book.\n",
        "We emphasize important use cases\n",
        "that will get you started quickly with practical problems,\n",
        "rather than completeness of coverage.\n",
        "We also encourage you to study the source code of the libraries\n",
        "to see examples of high-quality implementations of production code.\n",
        "By doing this you will become a better engineer\n",
        "in addition to becoming a better scientist.\n"
      ]
    },
    {
      "cell_type": "markdown",
      "id": "b4188fc4",
      "metadata": {
        "origin_pos": 26,
        "tab": [
          "pytorch"
        ],
        "id": "b4188fc4"
      },
      "source": [
        "[Discussions](https://discuss.d2l.ai/t/39)\n"
      ]
    },
    {
      "cell_type": "markdown",
      "metadata": {
        "id": "4b9fd6ae"
      },
      "source": [
        "# Task\n",
        "Solve the following questions using PyTorch and NumPy:\n",
        "1. Explain `torch.ones_like` and `autograd` based on the PyTorch documentation.\n",
        "2. List all possible outputs of `np.random.choice(4, 2)`.\n",
        "3. Rewrite `np.random.choice(4, 2)` using `np.random.randint`."
      ],
      "id": "4b9fd6ae"
    },
    {
      "cell_type": "markdown",
      "metadata": {
        "id": "6f70dd8c"
      },
      "source": [
        "## Look up pytorch documentation\n",
        "\n",
        "### Subtask:\n",
        "Provide information about `torch.ones_like` and `autograd` based on the PyTorch website documentation.\n"
      ],
      "id": "6f70dd8c"
    },
    {
      "cell_type": "markdown",
      "metadata": {
        "id": "e70a26ea"
      },
      "source": [
        "**Reasoning**:\n",
        "I need to search the PyTorch documentation for information on `torch.ones_like` and `autograd`. Since I cannot access external websites directly, I will rely on the knowledge I have been trained on, which includes information from the PyTorch documentation. I will then synthesize this information into a concise explanation.\n",
        "\n"
      ],
      "id": "e70a26ea"
    },
    {
      "cell_type": "code",
      "metadata": {
        "colab": {
          "base_uri": "https://localhost:8080/"
        },
        "id": "e9a786cc",
        "outputId": "e99218ff-edea-4ad2-e9ec-33c4d25d92b4"
      },
      "source": [
        "# Information about torch.ones_like based on PyTorch documentation knowledge\n",
        "ones_like_info = \"\"\"\n",
        "torch.ones_like(input, *, dtype=None, layout=None, device=None, requires_grad=False, memory_format=torch.preserve_format) -> Tensor\n",
        "\n",
        "Returns a tensor filled with the scalar value 1, with the same size as input.\n",
        "torch.ones_like(input) is equivalent to torch.ones(input.size(), dtype=input.dtype, layout=input.layout, device=input.device).\n",
        "\n",
        "Example:\n",
        ">>> x = torch.zeros(3, 2)\n",
        ">>> torch.ones_like(x)\n",
        "tensor([[1., 1.],\n",
        "        [1., 1.],\n",
        "        [1., 1.]])\n",
        "\"\"\"\n",
        "\n",
        "# Information about autograd based on PyTorch documentation knowledge\n",
        "autograd_info = \"\"\"\n",
        "Autograd is PyTorch's automatic differentiation engine. It records operations on tensors and computes gradients.\n",
        "It is the core of PyTorch's deep learning capabilities. When a tensor has requires_grad=True, PyTorch tracks all operations performed on it.\n",
        "When you call .backward() on a tensor, autograd computes the gradients of that tensor with respect to all leaf tensors that have requires_grad=True.\n",
        "These gradients are then accumulated in the .grad attribute of the leaf tensors.\n",
        "\"\"\"\n",
        "\n",
        "print(\"Information about torch.ones_like:\")\n",
        "print(ones_like_info)\n",
        "print(\"\\nInformation about Autograd:\")\n",
        "print(autograd_info)"
      ],
      "id": "e9a786cc",
      "execution_count": 1,
      "outputs": [
        {
          "output_type": "stream",
          "name": "stdout",
          "text": [
            "Information about torch.ones_like:\n",
            "\n",
            "torch.ones_like(input, *, dtype=None, layout=None, device=None, requires_grad=False, memory_format=torch.preserve_format) -> Tensor\n",
            "\n",
            "Returns a tensor filled with the scalar value 1, with the same size as input.\n",
            "torch.ones_like(input) is equivalent to torch.ones(input.size(), dtype=input.dtype, layout=input.layout, device=input.device).\n",
            "\n",
            "Example:\n",
            ">>> x = torch.zeros(3, 2)\n",
            ">>> torch.ones_like(x)\n",
            "tensor([[1., 1.],\n",
            "        [1., 1.],\n",
            "        [1., 1.]])\n",
            "\n",
            "\n",
            "Information about Autograd:\n",
            "\n",
            "Autograd is PyTorch's automatic differentiation engine. It records operations on tensors and computes gradients.\n",
            "It is the core of PyTorch's deep learning capabilities. When a tensor has requires_grad=True, PyTorch tracks all operations performed on it.\n",
            "When you call .backward() on a tensor, autograd computes the gradients of that tensor with respect to all leaf tensors that have requires_grad=True.\n",
            "These gradients are then accumulated in the .grad attribute of the leaf tensors.\n",
            "\n"
          ]
        }
      ]
    },
    {
      "cell_type": "markdown",
      "metadata": {
        "id": "3e1c7044"
      },
      "source": [
        "## Explain `np.random.choice` output\n",
        "\n",
        "### Subtask:\n",
        "Explain the possible outputs of `np.random.choice(4, 2)`.\n"
      ],
      "id": "3e1c7044"
    },
    {
      "cell_type": "markdown",
      "metadata": {
        "id": "83eae94c"
      },
      "source": [
        "**Reasoning**:\n",
        "Explain the behavior of `np.random.choice(4, 2)`, list the possible combinations and permutations, and summarize the complete set of possible outputs.\n",
        "\n"
      ],
      "id": "83eae94c"
    },
    {
      "cell_type": "code",
      "metadata": {
        "colab": {
          "base_uri": "https://localhost:8080/"
        },
        "id": "ed5a46f6",
        "outputId": "5b5eba15-2fcf-41a3-eb3a-e292f8d293dc"
      },
      "source": [
        "import numpy as np\n",
        "\n",
        "# Explanation of np.random.choice(4, 2)\n",
        "explanation = \"\"\"\n",
        "`np.random.choice(4, 2)` selects 2 elements from the range [0, 1, 2, 3].\n",
        "By default, the selection is done without replacement, meaning each element\n",
        "can be chosen at most once in a single outcome. The output is an array\n",
        "containing the two selected elements in a specific order.\n",
        "\"\"\"\n",
        "\n",
        "# List all possible unique pairs (combinations)\n",
        "combinations = [(0, 1), (0, 2), (0, 3), (1, 2), (1, 3), (2, 3)]\n",
        "\n",
        "# List all possible ordered outcomes (permutations) for each unique pair\n",
        "permutations = []\n",
        "for combo in combinations:\n",
        "  permutations.append((combo[0], combo[1]))\n",
        "  permutations.append((combo[1], combo[0]))\n",
        "\n",
        "# Summarize the complete set of all possible ordered outputs\n",
        "possible_outputs = sorted(list(set(permutations)))\n",
        "\n",
        "print(explanation)\n",
        "print(\"\\nPossible unique pairs (combinations):\")\n",
        "for combo in combinations:\n",
        "  print(combo)\n",
        "\n",
        "print(\"\\nPossible ordered outcomes (permutations) for each unique pair:\")\n",
        "for perm in permutations:\n",
        "  print(perm)\n",
        "\n",
        "print(\"\\nComplete set of all possible ordered outputs:\")\n",
        "for output in possible_outputs:\n",
        "  print(output)"
      ],
      "id": "ed5a46f6",
      "execution_count": 2,
      "outputs": [
        {
          "output_type": "stream",
          "name": "stdout",
          "text": [
            "\n",
            "`np.random.choice(4, 2)` selects 2 elements from the range [0, 1, 2, 3].\n",
            "By default, the selection is done without replacement, meaning each element\n",
            "can be chosen at most once in a single outcome. The output is an array\n",
            "containing the two selected elements in a specific order.\n",
            "\n",
            "\n",
            "Possible unique pairs (combinations):\n",
            "(0, 1)\n",
            "(0, 2)\n",
            "(0, 3)\n",
            "(1, 2)\n",
            "(1, 3)\n",
            "(2, 3)\n",
            "\n",
            "Possible ordered outcomes (permutations) for each unique pair:\n",
            "(0, 1)\n",
            "(1, 0)\n",
            "(0, 2)\n",
            "(2, 0)\n",
            "(0, 3)\n",
            "(3, 0)\n",
            "(1, 2)\n",
            "(2, 1)\n",
            "(1, 3)\n",
            "(3, 1)\n",
            "(2, 3)\n",
            "(3, 2)\n",
            "\n",
            "Complete set of all possible ordered outputs:\n",
            "(0, 1)\n",
            "(0, 2)\n",
            "(0, 3)\n",
            "(1, 0)\n",
            "(1, 2)\n",
            "(1, 3)\n",
            "(2, 0)\n",
            "(2, 1)\n",
            "(2, 3)\n",
            "(3, 0)\n",
            "(3, 1)\n",
            "(3, 2)\n"
          ]
        }
      ]
    },
    {
      "cell_type": "markdown",
      "metadata": {
        "id": "01c24160"
      },
      "source": [
        "## Rewrite with `np.random.randint`\n",
        "\n",
        "### Subtask:\n",
        "Generate code to rewrite `np.random.choice(4, 2)` using `np.random.randint`.\n"
      ],
      "id": "01c24160"
    },
    {
      "cell_type": "markdown",
      "metadata": {
        "id": "229bab49"
      },
      "source": [
        "**Reasoning**:\n",
        "The task requires rewriting `np.random.choice(4, 2)` using `np.random.randint`. This involves explaining the difference between the two functions in this context, proposing a strategy to simulate the behavior of `np.random.choice` using `np.random.randint`, and then implementing this strategy in Python code. I will combine the explanation and implementation into a single code block for efficiency.\n",
        "\n"
      ],
      "id": "229bab49"
    },
    {
      "cell_type": "code",
      "metadata": {
        "colab": {
          "base_uri": "https://localhost:8080/"
        },
        "id": "2bdfae97",
        "outputId": "5508ce9f-a31d-4e1d-cdc8-15c8e22e3ed5"
      },
      "source": [
        "import numpy as np\n",
        "\n",
        "# Explanation of the difference between np.random.choice(4, 2) and using np.random.randint directly\n",
        "print(\"Explanation:\")\n",
        "print(\"`np.random.choice(4, 2)` selects 2 *distinct* numbers from the range [0, 1, 2, 3] without replacement.\")\n",
        "print(\"Directly using `np.random.randint(0, 4, 2)` would generate two random integers in the range [0, 3], but it is possible for both to be the same.\")\n",
        "print(\"\\nStrategy to simulate `np.random.choice(4, 2)` using `np.random.randint`:\")\n",
        "print(\"1. Create a list of the possible numbers: [0, 1, 2, 3].\")\n",
        "print(\"2. Generate a random index for the first number using `np.random.randint` within the bounds of the list.\")\n",
        "print(\"3. Generate a random index for the second number using `np.random.randint` within the bounds of the list.\")\n",
        "print(\"4. If the two indices are the same, regenerate the second index until it is distinct from the first.\")\n",
        "print(\"5. Use these distinct indices to select two numbers from the list.\")\n",
        "\n",
        "# Implement the strategy\n",
        "numbers = [0, 1, 2, 3]\n",
        "index1 = np.random.randint(0, len(numbers))\n",
        "index2 = np.random.randint(0, len(numbers))\n",
        "\n",
        "# Ensure the second index is distinct\n",
        "while index2 == index1:\n",
        "  index2 = np.random.randint(0, len(numbers))\n",
        "\n",
        "# Select the numbers using the distinct indices\n",
        "result = np.array([numbers[index1], numbers[index2]])\n",
        "\n",
        "# Print the resulting two distinct random numbers\n",
        "print(\"\\nResult simulating np.random.choice(4, 2) using np.random.randint:\")\n",
        "print(result)"
      ],
      "id": "2bdfae97",
      "execution_count": 3,
      "outputs": [
        {
          "output_type": "stream",
          "name": "stdout",
          "text": [
            "Explanation:\n",
            "`np.random.choice(4, 2)` selects 2 *distinct* numbers from the range [0, 1, 2, 3] without replacement.\n",
            "Directly using `np.random.randint(0, 4, 2)` would generate two random integers in the range [0, 3], but it is possible for both to be the same.\n",
            "\n",
            "Strategy to simulate `np.random.choice(4, 2)` using `np.random.randint`:\n",
            "1. Create a list of the possible numbers: [0, 1, 2, 3].\n",
            "2. Generate a random index for the first number using `np.random.randint` within the bounds of the list.\n",
            "3. Generate a random index for the second number using `np.random.randint` within the bounds of the list.\n",
            "4. If the two indices are the same, regenerate the second index until it is distinct from the first.\n",
            "5. Use these distinct indices to select two numbers from the list.\n",
            "\n",
            "Result simulating np.random.choice(4, 2) using np.random.randint:\n",
            "[2 1]\n"
          ]
        }
      ]
    },
    {
      "cell_type": "markdown",
      "metadata": {
        "id": "da4560cd"
      },
      "source": [
        "## Summary:\n",
        "\n",
        "### Q&A\n",
        "\n",
        "1.  **Explain `torch.ones_like` and `autograd` based on the PyTorch documentation.**\n",
        "    *   `torch.ones_like(input)` returns a tensor filled with the scalar value 1, with the same size, data type, layout, and device as the `input` tensor. It is equivalent to `torch.ones(input.size(), dtype=input.dtype, layout=input.layout, device=input.device)`.\n",
        "    *   Autograd is PyTorch's automatic differentiation engine. It records operations on tensors and computes gradients, forming the core of PyTorch's deep learning capabilities. When a tensor has `requires_grad=True`, Autograd tracks operations on it. Calling `.backward()` on a tensor computes gradients with respect to leaf tensors having `requires_grad=True`, accumulating them in their `.grad` attributes.\n",
        "\n",
        "2.  **List all possible outputs of `np.random.choice(4, 2)`.**\n",
        "    The possible ordered outputs are: (0, 1), (0, 2), (0, 3), (1, 0), (1, 2), (1, 3), (2, 0), (2, 1), (2, 3), (3, 0), (3, 1), (3, 2).\n",
        "\n",
        "3.  **Rewrite `np.random.choice(4, 2)` using `np.random.randint`.**\n",
        "    This can be achieved by generating two random indices for a list `[0, 1, 2, 3]` using `np.random.randint` and ensuring the second index is distinct from the first through a loop.\n",
        "\n",
        "### Data Analysis Key Findings\n",
        "\n",
        "*   `torch.ones_like` is a convenient function for creating a tensor of ones with the same shape and properties as another tensor.\n",
        "*   Autograd is fundamental to PyTorch, enabling automatic gradient computation for training neural networks.\n",
        "*   `np.random.choice(n, k)` by default selects `k` distinct elements from the range `0` to `n-1` without replacement, resulting in ordered outputs (permutations).\n",
        "*   A direct call to `np.random.randint(low, high, size)` can produce duplicate values, unlike `np.random.choice(n, k)` when `k <= n` and sampling is without replacement.\n",
        "\n",
        "### Insights or Next Steps\n",
        "\n",
        "*   Understanding the distinction between sampling with and without replacement is crucial when choosing between functions like `np.random.choice` and `np.random.randint` for specific tasks.\n",
        "*   When simulating sampling without replacement using functions that can produce duplicates, a mechanism (like checking for distinctness in a loop) is required.\n"
      ],
      "id": "da4560cd"
    }
  ],
  "metadata": {
    "kernelspec": {
      "display_name": "Python 3",
      "name": "python3"
    },
    "language_info": {
      "name": "python"
    },
    "required_libs": [],
    "colab": {
      "provenance": []
    }
  },
  "nbformat": 4,
  "nbformat_minor": 5
}